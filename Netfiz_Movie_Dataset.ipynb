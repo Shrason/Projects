{
  "cells": [
    {
      "cell_type": "markdown",
      "metadata": {
        "id": "view-in-github",
        "colab_type": "text"
      },
      "source": [
        "<a href=\"https://colab.research.google.com/github/Shrason/Projects/blob/main/Netfiz_Movie_Dataset.ipynb\" target=\"_parent\"><img src=\"https://colab.research.google.com/assets/colab-badge.svg\" alt=\"Open In Colab\"/></a>"
      ]
    },
    {
      "cell_type": "markdown",
      "metadata": {
        "id": "CmVSEIbOJ7bi"
      },
      "source": [
        "Netfiz Movie Dataset"
      ]
    },
    {
      "cell_type": "code",
      "execution_count": null,
      "metadata": {
        "id": "LxdLW96jJ7bm"
      },
      "outputs": [],
      "source": [
        "import pandas as pd\n",
        "import numpy as np\n",
        "import matplotlib.pyplot as plt\n"
      ]
    },
    {
      "cell_type": "markdown",
      "metadata": {
        "id": "AJNCezOaJ7bn"
      },
      "source": [
        "#How many \".csv\" files are available in the dataset?"
      ]
    },
    {
      "cell_type": "code",
      "execution_count": null,
      "metadata": {
        "id": "aDWdj_MdJ7bo"
      },
      "outputs": [],
      "source": [
        "df = pd.read_csv('movies.csv')\n",
        "dr = pd.read_csv('ratings.csv')\n",
        "dl = pd.read_csv('links.csv')\n",
        "dt = pd.read_csv('tags.csv')"
      ]
    },
    {
      "cell_type": "markdown",
      "metadata": {
        "id": "2aAWSYhDJ7bp"
      },
      "source": [
        "#What is the shape of \"movies.csv\"?\n"
      ]
    },
    {
      "cell_type": "code",
      "execution_count": null,
      "metadata": {
        "id": "sJjjkL30J7bp",
        "outputId": "30b7e5d0-2d44-41b8-eeda-a5764cb5c6c1"
      },
      "outputs": [
        {
          "data": {
            "text/plain": [
              "(9742, 3)"
            ]
          },
          "execution_count": 3,
          "metadata": {},
          "output_type": "execute_result"
        }
      ],
      "source": [
        "df.shape"
      ]
    },
    {
      "cell_type": "markdown",
      "metadata": {
        "id": "z5qblNHNJ7bq"
      },
      "source": [
        "#What is the shape of \"ratings.csv\"?\n"
      ]
    },
    {
      "cell_type": "code",
      "execution_count": null,
      "metadata": {
        "id": "9_HIlyBkJ7bq",
        "outputId": "5e37d0e2-e97d-4b87-9e4f-70df3e070622"
      },
      "outputs": [
        {
          "data": {
            "text/plain": [
              "(100836, 4)"
            ]
          },
          "execution_count": 4,
          "metadata": {},
          "output_type": "execute_result"
        }
      ],
      "source": [
        "dr.shape"
      ]
    },
    {
      "cell_type": "markdown",
      "metadata": {
        "id": "U6Sm8A_aJ7bq"
      },
      "source": [
        "#How many unique \"userId\" are available in \"ratings.csv\"?\n"
      ]
    },
    {
      "cell_type": "code",
      "execution_count": null,
      "metadata": {
        "id": "wAmojnGWJ7br",
        "outputId": "251f8b27-c003-439a-94c8-c4525a58c7a6"
      },
      "outputs": [
        {
          "name": "stdout",
          "output_type": "stream",
          "text": [
            "<class 'pandas.core.frame.DataFrame'>\n",
            "RangeIndex: 100836 entries, 0 to 100835\n",
            "Data columns (total 4 columns):\n",
            " #   Column     Non-Null Count   Dtype  \n",
            "---  ------     --------------   -----  \n",
            " 0   userId     100836 non-null  int64  \n",
            " 1   movieId    100836 non-null  int64  \n",
            " 2   rating     100836 non-null  float64\n",
            " 3   timestamp  100836 non-null  int64  \n",
            "dtypes: float64(1), int64(3)\n",
            "memory usage: 3.1 MB\n"
          ]
        }
      ],
      "source": [
        "dr.info()"
      ]
    },
    {
      "cell_type": "code",
      "execution_count": null,
      "metadata": {
        "id": "mk_2bd2nJ7br",
        "outputId": "92aa5aac-ec84-4277-9168-fc1fd6497912"
      },
      "outputs": [
        {
          "name": "stdout",
          "output_type": "stream",
          "text": [
            "The number of unique userid is 610\n"
          ]
        }
      ],
      "source": [
        "unique_userid = dr['userId'].nunique()\n",
        "print('The number of unique userid is', unique_userid)"
      ]
    },
    {
      "cell_type": "markdown",
      "metadata": {
        "id": "y28fmPg3J7br"
      },
      "source": [
        "#Which movie has recieved maximum number of user ratings?"
      ]
    },
    {
      "cell_type": "code",
      "execution_count": null,
      "metadata": {
        "id": "Piyh4b1AJ7bs",
        "outputId": "46659bc3-9d7a-444b-f9ef-9a4c56efc3ab"
      },
      "outputs": [
        {
          "name": "stdout",
          "output_type": "stream",
          "text": [
            "<class 'pandas.core.frame.DataFrame'>\n",
            "RangeIndex: 9742 entries, 0 to 9741\n",
            "Data columns (total 3 columns):\n",
            " #   Column   Non-Null Count  Dtype \n",
            "---  ------   --------------  ----- \n",
            " 0   movieId  9742 non-null   int64 \n",
            " 1   title    9742 non-null   object\n",
            " 2   genres   9742 non-null   object\n",
            "dtypes: int64(1), object(2)\n",
            "memory usage: 228.5+ KB\n"
          ]
        }
      ],
      "source": [
        "df.info()"
      ]
    },
    {
      "cell_type": "code",
      "execution_count": null,
      "metadata": {
        "id": "PwEdQLGTJ7bs",
        "outputId": "7aa21afe-c87d-4304-a666-e9d218cc0e1c"
      },
      "outputs": [
        {
          "name": "stdout",
          "output_type": "stream",
          "text": [
            "Forrest Gump (1994)\n"
          ]
        }
      ],
      "source": [
        "movie_stats = dr.groupby('movieId')['rating'].count()\n",
        "max_movieid = movie_stats.idxmax()\n",
        "max_movie = df.loc[df['movieId']== max_movieid]\n",
        "print(max_movie['title'].item())"
      ]
    },
    {
      "cell_type": "markdown",
      "metadata": {
        "id": "fHfEZa28J7bt"
      },
      "source": [
        "#Select all the correct tags submitted by users to \"Matrix, The (1999)\" movie?"
      ]
    },
    {
      "cell_type": "code",
      "execution_count": null,
      "metadata": {
        "id": "JaBUCyn6J7bt",
        "outputId": "5e6a6d8f-626d-4ba9-ae19-820d6b4072c5"
      },
      "outputs": [
        {
          "name": "stdout",
          "output_type": "stream",
          "text": [
            "<class 'pandas.core.frame.DataFrame'>\n",
            "RangeIndex: 3683 entries, 0 to 3682\n",
            "Data columns (total 4 columns):\n",
            " #   Column     Non-Null Count  Dtype \n",
            "---  ------     --------------  ----- \n",
            " 0   userId     3683 non-null   int64 \n",
            " 1   movieId    3683 non-null   int64 \n",
            " 2   tag        3683 non-null   object\n",
            " 3   timestamp  3683 non-null   int64 \n",
            "dtypes: int64(3), object(1)\n",
            "memory usage: 115.2+ KB\n"
          ]
        }
      ],
      "source": [
        "dt.info()"
      ]
    },
    {
      "cell_type": "code",
      "execution_count": null,
      "metadata": {
        "id": "wWWTPCA7J7bt",
        "outputId": "249b43df-ed4b-4e55-a5d4-727cece90ae6"
      },
      "outputs": [
        {
          "name": "stdout",
          "output_type": "stream",
          "text": [
            "      movieId               title                  genres\n",
            "1939     2571  Matrix, The (1999)  Action|Sci-Fi|Thriller\n"
          ]
        }
      ],
      "source": [
        "\n",
        "row = df.loc[df['title'] == 'Matrix, The (1999)']\n",
        "print(row)"
      ]
    },
    {
      "cell_type": "code",
      "execution_count": null,
      "metadata": {
        "id": "05v9662IJ7bu",
        "outputId": "23c747e3-5650-4d6e-84a0-3508ea87dd93"
      },
      "outputs": [
        {
          "name": "stdout",
          "output_type": "stream",
          "text": [
            "      userId  movieId                 tag   timestamp\n",
            "815      424     2571        martial arts  1457842912\n",
            "816      424     2571              sci-fi  1457842899\n",
            "1646     474     2571  alternate universe  1137204991\n",
            "2794     537     2571          philosophy  1424141098\n",
            "2795     537     2571    post apocalyptic  1424141101\n"
          ]
        }
      ],
      "source": [
        "m_tags = dt.loc[dt['movieId']==2571]\n",
        "print(m_tags)"
      ]
    },
    {
      "cell_type": "markdown",
      "metadata": {
        "id": "Elz6tUyBJ7bu"
      },
      "source": [
        "#What is the average user rating for movie named \"Terminator 2: Judgment Day (1991)\"?"
      ]
    },
    {
      "cell_type": "code",
      "execution_count": null,
      "metadata": {
        "id": "gbBGzJniJ7bu",
        "outputId": "8f8b0cf5-1db7-4f7b-f17f-2a9f0b188f1a"
      },
      "outputs": [
        {
          "name": "stdout",
          "output_type": "stream",
          "text": [
            "     movieId                              title         genres\n",
            "507      589  Terminator 2: Judgment Day (1991)  Action|Sci-Fi\n"
          ]
        }
      ],
      "source": [
        "row1 = df.loc[df['title'] == \"Terminator 2: Judgment Day (1991)\"]\n",
        "print(row1)"
      ]
    },
    {
      "cell_type": "code",
      "execution_count": null,
      "metadata": {
        "id": "mFPKOgEkJ7bu",
        "outputId": "08ed40a7-3705-4385-ec42-58c12e81e28a"
      },
      "outputs": [
        {
          "name": "stdout",
          "output_type": "stream",
          "text": [
            "3.970982142857143\n"
          ]
        }
      ],
      "source": [
        "movieid = dr.loc[dr['movieId']==589]\n",
        "Avg_rating = movieid['rating'].mean()\n",
        "print(Avg_rating)\n"
      ]
    },
    {
      "cell_type": "markdown",
      "metadata": {
        "id": "5IfQ4d6VJ7bv"
      },
      "source": [
        "#How does the data distribution of user ratings for \"Fight Club (1999)\" movie looks like?"
      ]
    },
    {
      "cell_type": "code",
      "execution_count": null,
      "metadata": {
        "id": "idJAT2mjJ7bv",
        "outputId": "00622f49-5a34-488c-b1e8-ed7ccb3ce853"
      },
      "outputs": [
        {
          "name": "stdout",
          "output_type": "stream",
          "text": [
            "      movieId              title                       genres\n",
            "2226     2959  Fight Club (1999)  Action|Crime|Drama|Thriller\n"
          ]
        }
      ],
      "source": [
        "row2 = df.loc[df['title'] == \"Fight Club (1999)\"]\n",
        "print(row2)"
      ]
    },
    {
      "cell_type": "code",
      "execution_count": null,
      "metadata": {
        "id": "yIwzjnbGJ7bv",
        "outputId": "0cbd036e-4ef4-4e58-8886-fc7bdffde9be"
      },
      "outputs": [
        {
          "data": {
            "image/png": "[encoded data removed]",
            "text/plain": [
              "<Figure size 640x480 with 1 Axes>"
            ]
          },
          "metadata": {},
          "output_type": "display_data"
        }
      ],
      "source": [
        "data = dr.loc[dr['movieId']==2959]\n",
        "plt.hist(data['rating'])\n",
        "plt.title('Fight Club (1999) User Rating')\n",
        "plt.xlabel('Rating')\n",
        "plt.ylabel('User')\n",
        "plt.show()"
      ]
    },
    {
      "cell_type": "markdown",
      "metadata": {
        "id": "oNOhV4ugJ7bw"
      },
      "source": [
        "#Applying Note 1\n",
        "1. Group the user ratings based on movieId and apply aggregation operations like count and mean on ratings.\n",
        "2. Apply inner join on dataframe created from movies.csv and the grouped df from step 1.\n",
        "3. Filter only those movies which have more than 50 user ratings (i.e. > 50)."
      ]
    },
    {
      "cell_type": "code",
      "execution_count": null,
      "metadata": {
        "id": "N-X1NaOYJ7bw"
      },
      "outputs": [],
      "source": [
        "Aggregate = dr.groupby('movieId')['rating'].agg(['count','mean'])\n"
      ]
    },
    {
      "cell_type": "code",
      "execution_count": null,
      "metadata": {
        "id": "nP7YZarcJ7bw"
      },
      "outputs": [],
      "source": [
        "merge = pd.merge(Aggregate,df, on = 'movieId', how='inner')"
      ]
    },
    {
      "cell_type": "code",
      "execution_count": null,
      "metadata": {
        "id": "QLA4Sk3FJ7bx"
      },
      "outputs": [],
      "source": [
        "filter = merge.loc[merge['count']>50]"
      ]
    },
    {
      "cell_type": "markdown",
      "metadata": {
        "id": "rasAc8BkJ7bx"
      },
      "source": [
        "#Which movie is the most popular based on  average user ratings?\n"
      ]
    },
    {
      "cell_type": "code",
      "execution_count": null,
      "metadata": {
        "id": "RTkhBhIJJ7bx",
        "outputId": "b546a480-06bd-4e34-f6fe-871af774e1e3"
      },
      "outputs": [
        {
          "name": "stdout",
          "output_type": "stream",
          "text": [
            "      movieId  count      mean  \\\n",
            "277       318    317  4.429022   \n",
            "659       858    192  4.289062   \n",
            "2224     2959    218  4.272936   \n",
            "974      1276     57  4.271930   \n",
            "602       750     97  4.268041   \n",
            "\n",
            "                                                  title  \\\n",
            "277                    Shawshank Redemption, The (1994)   \n",
            "659                               Godfather, The (1972)   \n",
            "2224                                  Fight Club (1999)   \n",
            "974                               Cool Hand Luke (1967)   \n",
            "602   Dr. Strangelove or: How I Learned to Stop Worr...   \n",
            "\n",
            "                           genres  \n",
            "277                   Crime|Drama  \n",
            "659                   Crime|Drama  \n",
            "2224  Action|Crime|Drama|Thriller  \n",
            "974                         Drama  \n",
            "602                    Comedy|War  \n"
          ]
        }
      ],
      "source": [
        "sorted_df = filter.sort_values('mean',ascending=False)\n",
        "top_5 = sorted_df.head(5)\n",
        "print(top_5)"
      ]
    },
    {
      "cell_type": "markdown",
      "metadata": {
        "id": "UEIcnK2rJ7by"
      },
      "source": [
        "#Select all the correct options which comes under top 5 popular movies based on number of user ratings."
      ]
    },
    {
      "cell_type": "code",
      "execution_count": null,
      "metadata": {
        "id": "EZUMwxV5J7by",
        "outputId": "3efbe754-bdc4-400a-ce2d-b35bc79e6dcd"
      },
      "outputs": [
        {
          "name": "stdout",
          "output_type": "stream",
          "text": [
            "      movieId  count      mean                             title  \\\n",
            "314       356    329  4.164134               Forrest Gump (1994)   \n",
            "277       318    317  4.429022  Shawshank Redemption, The (1994)   \n",
            "257       296    307  4.197068               Pulp Fiction (1994)   \n",
            "510       593    279  4.161290  Silence of the Lambs, The (1991)   \n",
            "1938     2571    278  4.192446                Matrix, The (1999)   \n",
            "\n",
            "                           genres  \n",
            "314      Comedy|Drama|Romance|War  \n",
            "277                   Crime|Drama  \n",
            "257   Comedy|Crime|Drama|Thriller  \n",
            "510         Crime|Horror|Thriller  \n",
            "1938       Action|Sci-Fi|Thriller  \n"
          ]
        }
      ],
      "source": [
        "sorted_count = filter.sort_values('count',ascending=False)\n",
        "top_5 = sorted_count.head(5)\n",
        "print(top_5)"
      ]
    },
    {
      "cell_type": "markdown",
      "metadata": {
        "id": "D7UxmVqYJ7by"
      },
      "source": [
        "#Which Sci-Fi movie is \"third most popular\" based on the number of user ratings?"
      ]
    },
    {
      "cell_type": "code",
      "execution_count": null,
      "metadata": {
        "id": "ky5WpiEbJ7bz",
        "outputId": "ffef8f54-645a-40f1-c8cd-41f0bc020313"
      },
      "outputs": [
        {
          "name": "stdout",
          "output_type": "stream",
          "text": [
            "      movieId  count      mean  \\\n",
            "1938     2571    278  4.192446   \n",
            "224       260    251  4.231076   \n",
            "418       480    238  3.750000   \n",
            "507       589    224  3.970982   \n",
            "897      1196    211  4.215640   \n",
            "\n",
            "                                                  title  \\\n",
            "1938                                 Matrix, The (1999)   \n",
            "224           Star Wars: Episode IV - A New Hope (1977)   \n",
            "418                                Jurassic Park (1993)   \n",
            "507                   Terminator 2: Judgment Day (1991)   \n",
            "897   Star Wars: Episode V - The Empire Strikes Back...   \n",
            "\n",
            "                                genres  \n",
            "1938            Action|Sci-Fi|Thriller  \n",
            "224            Action|Adventure|Sci-Fi  \n",
            "418   Action|Adventure|Sci-Fi|Thriller  \n",
            "507                      Action|Sci-Fi  \n",
            "897            Action|Adventure|Sci-Fi  \n"
          ]
        }
      ],
      "source": [
        "Sci_fi = filter[filter['genres'].str.contains('Sci-Fi')]\n",
        "sort = Sci_fi.sort_values('count',ascending=False)\n",
        "first_5 = sort.head(5)\n",
        "print(first_5)"
      ]
    },
    {
      "cell_type": "markdown",
      "metadata": {
        "id": "jmBkDytLJ7bz"
      },
      "source": [
        "Web Scrapping"
      ]
    },
    {
      "cell_type": "code",
      "execution_count": null,
      "metadata": {
        "id": "nnZ7xGhRJ7b0",
        "outputId": "9459ace4-c9e1-49c1-f03a-0b207055d8d3"
      },
      "outputs": [
        {
          "name": "stdout",
          "output_type": "stream",
          "text": [
            "Requirement already satisfied: requests in c:\\users\\shrad\\appdata\\local\\programs\\python\\python311\\lib\\site-packages (2.31.0)\n",
            "Requirement already satisfied: charset-normalizer<4,>=2 in c:\\users\\shrad\\appdata\\local\\programs\\python\\python311\\lib\\site-packages (from requests) (3.3.2)\n",
            "Requirement already satisfied: idna<4,>=2.5 in c:\\users\\shrad\\appdata\\local\\programs\\python\\python311\\lib\\site-packages (from requests) (3.6)\n",
            "Requirement already satisfied: urllib3<3,>=1.21.1 in c:\\users\\shrad\\appdata\\local\\programs\\python\\python311\\lib\\site-packages (from requests) (2.1.0)\n",
            "Requirement already satisfied: certifi>=2017.4.17 in c:\\users\\shrad\\appdata\\local\\programs\\python\\python311\\lib\\site-packages (from requests) (2023.11.17)\n",
            "Note: you may need to restart the kernel to use updated packages.\n"
          ]
        },
        {
          "name": "stderr",
          "output_type": "stream",
          "text": [
            "\n",
            "[notice] A new release of pip available: 22.3.1 -> 23.3.2\n",
            "[notice] To update, run: python.exe -m pip install --upgrade pip\n"
          ]
        }
      ],
      "source": [
        " pip install requests"
      ]
    },
    {
      "cell_type": "code",
      "execution_count": null,
      "metadata": {
        "id": "LPyud4lkJ7b0",
        "outputId": "477db096-f29f-4572-8204-89af3f4384b0"
      },
      "outputs": [
        {
          "name": "stdout",
          "output_type": "stream",
          "text": [
            "Requirement already satisfied: bs4 in c:\\users\\shrad\\appdata\\local\\programs\\python\\python311\\lib\\site-packages (0.0.1)Note: you may need to restart the kernel to use updated packages.\n"
          ]
        },
        {
          "name": "stderr",
          "output_type": "stream",
          "text": [
            "\n",
            "[notice] A new release of pip available: 22.3.1 -> 23.3.2\n",
            "[notice] To update, run: python.exe -m pip install --upgrade pip\n"
          ]
        },
        {
          "name": "stdout",
          "output_type": "stream",
          "text": [
            "\n",
            "Requirement already satisfied: beautifulsoup4 in c:\\users\\shrad\\appdata\\local\\programs\\python\\python311\\lib\\site-packages (from bs4) (4.12.2)\n",
            "Requirement already satisfied: soupsieve>1.2 in c:\\users\\shrad\\appdata\\local\\programs\\python\\python311\\lib\\site-packages (from beautifulsoup4->bs4) (2.5)\n"
          ]
        }
      ],
      "source": [
        "pip install bs4"
      ]
    },
    {
      "cell_type": "code",
      "execution_count": null,
      "metadata": {
        "id": "LTmZ__TfJ7b1"
      },
      "outputs": [],
      "source": [
        "import requests\n",
        "import numpy as np\n",
        "from bs4 import BeautifulSoup\n",
        "\n",
        "def scrapper(imdbId):\n",
        "    id = str(int(imdbId))\n",
        "    n_zeroes = 7 - len(id)\n",
        "    new_id = \"0\"*n_zeroes + id\n",
        "    URL = f\"https://www.imdb.com/title/tt{new_id}/\"\n",
        "    request_header = {'Content-Type': 'text/html; charset=UTF-8',\n",
        "                      'User-Agent': 'Mozilla/5.0 (Windows NT 10.0; Win64; x64; rv:109.0) Gecko/20100101 Firefox/119.0',\n",
        "                      'Accept-Encoding': 'gzip, deflate, br'}\n",
        "    response = requests.get(URL, headers=request_header)\n",
        "    soup = BeautifulSoup(response.text)\n",
        "    imdb_rating = soup.find('span', attrs={'itemprop': 'ratingValue'})\n",
        "    return imdb_rating.text if imdb_rating else np.nan"
      ]
    },
    {
      "cell_type": "code",
      "execution_count": null,
      "metadata": {
        "id": "wcqGd45UJ7b2",
        "outputId": "42fd19d2-5480-4773-877a-9f9cdd95b3ae"
      },
      "outputs": [
        {
          "name": "stdout",
          "output_type": "stream",
          "text": [
            "[None, None, None]\n"
          ]
        }
      ],
      "source": [
        "def scrapper(imdbId):\n",
        "    id = imdbId[2:]\n",
        "    n_zeroes = 7 - len(id)\n",
        "    new_id = \"0\" * n_zeroes + id\n",
        "imdb_ids = ['tt0111161', 'tt0068646', 'tt0468569']  # Example IDs\n",
        "ratings = []\n",
        "for id in imdb_ids:\n",
        "    rating = scrapper(id)\n",
        "    ratings.append(rating)\n",
        "print(ratings)\n",
        "\n"
      ]
    }
  ],
  "metadata": {
    "kernelspec": {
      "display_name": "Python 3",
      "language": "python",
      "name": "python3"
    },
    "language_info": {
      "codemirror_mode": {
        "name": "ipython",
        "version": 3
      },
      "file_extension": ".py",
      "mimetype": "text/x-python",
      "name": "python",
      "nbconvert_exporter": "python",
      "pygments_lexer": "ipython3",
      "version": "3.11.3"
    },
    "colab": {
      "provenance": [],
      "include_colab_link": true
    }
  },
  "nbformat": 4,
  "nbformat_minor": 0
}