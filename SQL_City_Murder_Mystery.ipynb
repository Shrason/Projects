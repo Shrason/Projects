{
  "nbformat": 4,
  "nbformat_minor": 0,
  "metadata": {
    "colab": {
      "provenance": [],
      "authorship_tag": "ABX9TyORL8pJK2S4a2YmoKiWcXa4",
      "include_colab_link": true
    },
    "kernelspec": {
      "name": "python3",
      "display_name": "Python 3"
    },
    "language_info": {
      "name": "python"
    }
  },
  "cells": [
    {
      "cell_type": "markdown",
      "metadata": {
        "id": "view-in-github",
        "colab_type": "text"
      },
      "source": [
        "<a href=\"https://colab.research.google.com/github/Shrason/Projects/blob/main/SQL_City_Murder_Mystery.ipynb\" target=\"_parent\"><img src=\"https://colab.research.google.com/assets/colab-badge.svg\" alt=\"Open In Colab\"/></a>"
      ]
    },
    {
      "cell_type": "markdown",
      "source": [
        "# **SQL Murder Mystery**\n",
        "\n",
        "---\n",
        "\n"
      ],
      "metadata": {
        "id": "OZNK3yOhXNfI"
      }
    },
    {
      "cell_type": "markdown",
      "source": [
        "There's been a Murder in SQL City! The SQL Murder Mystery is designed to be both a self-directed lesson to learn SQL concepts and commands and a fun game for experienced SQL users to solve an intriguing crime.\n",
        "A crime has taken place and the detective needs your help. The detective gave you the crime scene report, but you somehow lost it. You vaguely remember that the crime was a murder that occurred sometime on Jan.15, 2018, and that it took place in SQL City.\n"
      ],
      "metadata": {
        "id": "9Hc5MfgoXKMK"
      }
    },
    {
      "cell_type": "code",
      "source": [
        "import sqlite3"
      ],
      "metadata": {
        "id": "IQ6nCqvjIURh"
      },
      "execution_count": null,
      "outputs": []
    },
    {
      "cell_type": "code",
      "source": [
        "connect = sqlite3.connect(\"/content/sql-murder-mystery.db\")\n",
        "cursor = connect.cursor()"
      ],
      "metadata": {
        "id": "qL3jO7UYIbFz"
      },
      "execution_count": null,
      "outputs": []
    },
    {
      "cell_type": "code",
      "source": [
        "tablelist = []\n",
        "for table in cursor.execute(\"select name from sqlite_master where type = 'table';\"):\n",
        "    tablelist.append(table[0])\n",
        "tablelist"
      ],
      "metadata": {
        "colab": {
          "base_uri": "https://localhost:8080/"
        },
        "id": "ZVGltnzRR7HD",
        "outputId": "c3af3946-f2ce-44be-a219-d512f9ea013a"
      },
      "execution_count": null,
      "outputs": [
        {
          "output_type": "execute_result",
          "data": {
            "text/plain": [
              "['crime_scene_report',\n",
              " 'drivers_license',\n",
              " 'person',\n",
              " 'facebook_event_checkin',\n",
              " 'interview',\n",
              " 'get_fit_now_member',\n",
              " 'get_fit_now_check_in',\n",
              " 'income',\n",
              " 'solution']"
            ]
          },
          "metadata": {},
          "execution_count": 3
        }
      ]
    },
    {
      "cell_type": "markdown",
      "source": [
        "Table info"
      ],
      "metadata": {
        "id": "9uUCiIf6k3ct"
      }
    },
    {
      "cell_type": "code",
      "source": [
        "cursor.execute(\"SELECT name, type, sql FROM sqlite_master WHERE type='table'\")\n",
        "table_info = cursor.fetchall()\n",
        "for name, type, sql in table_info:\n",
        "    print(name, type, sql)"
      ],
      "metadata": {
        "colab": {
          "base_uri": "https://localhost:8080/"
        },
        "id": "D99ZPPQ-nZm8",
        "outputId": "d0d3c7fd-095b-4063-8dff-3f87bf94d004"
      },
      "execution_count": null,
      "outputs": [
        {
          "output_type": "stream",
          "name": "stdout",
          "text": [
            "crime_scene_report table CREATE TABLE crime_scene_report (\n",
            "        date integer,\n",
            "        type text,\n",
            "        description text,\n",
            "        city text\n",
            "    )\n",
            "drivers_license table CREATE TABLE drivers_license (\n",
            "        id integer PRIMARY KEY,\n",
            "        age integer,\n",
            "        height integer,\n",
            "        eye_color text,\n",
            "        hair_color text,\n",
            "        gender text,\n",
            "        plate_number text,\n",
            "        car_make text,\n",
            "        car_model text\n",
            "    )\n",
            "person table CREATE TABLE person (\n",
            "        id integer PRIMARY KEY,\n",
            "        name text,\n",
            "        license_id integer,\n",
            "        address_number integer,\n",
            "        address_street_name text,\n",
            "        ssn integer,\n",
            "        FOREIGN KEY (license_id) REFERENCES drivers_license(id)\n",
            "    )\n",
            "facebook_event_checkin table CREATE TABLE facebook_event_checkin (\n",
            "        person_id integer,\n",
            "        event_id integer,\n",
            "        event_name text,\n",
            "        date integer,\n",
            "        FOREIGN KEY (person_id) REFERENCES person(id)\n",
            "    )\n",
            "interview table CREATE TABLE interview (\n",
            "        person_id integer,\n",
            "        transcript text,\n",
            "        FOREIGN KEY (person_id) REFERENCES person(id)\n",
            "    )\n",
            "get_fit_now_member table CREATE TABLE get_fit_now_member (\n",
            "        id text PRIMARY KEY,\n",
            "        person_id integer,\n",
            "        name text,\n",
            "        membership_start_date integer,\n",
            "        membership_status text,\n",
            "        FOREIGN KEY (person_id) REFERENCES person(id)\n",
            "    )\n",
            "get_fit_now_check_in table CREATE TABLE get_fit_now_check_in (\n",
            "        membership_id text,\n",
            "        check_in_date integer,\n",
            "        check_in_time integer,\n",
            "        check_out_time integer,\n",
            "        FOREIGN KEY (membership_id) REFERENCES get_fit_now_member(id)\n",
            "    )\n",
            "income table CREATE TABLE income (\n",
            "        ssn integer PRIMARY KEY,\n",
            "        annual_income integer\n",
            "    )\n",
            "solution table CREATE TABLE solution (\n",
            "        user integer,\n",
            "        value text\n",
            "    )\n"
          ]
        }
      ]
    },
    {
      "cell_type": "markdown",
      "source": [
        "Retrive the crime scene report"
      ],
      "metadata": {
        "id": "st-54e6JqhNN"
      }
    },
    {
      "cell_type": "code",
      "source": [
        "for rows in cursor.execute(\"SELECT * FROM crime_scene_report LIMIT 10\"):\n",
        "  print(rows)"
      ],
      "metadata": {
        "id": "rTHQQLx8qeDB",
        "colab": {
          "base_uri": "https://localhost:8080/"
        },
        "outputId": "187da825-b51a-4cbb-a344-bdb8b1dc0267"
      },
      "execution_count": null,
      "outputs": [
        {
          "output_type": "stream",
          "name": "stdout",
          "text": [
            "(20180115, 'robbery', 'A Man Dressed as Spider-Man Is on a Robbery Spree', 'NYC')\n",
            "(20180115, 'murder', 'Life? Dont talk to me about life.', 'Albany')\n",
            "(20180115, 'murder', 'Mama, I killed a man, put a gun against his head...', 'Reno')\n",
            "(20180215, 'murder', 'REDACTED REDACTED REDACTED', 'SQL City')\n",
            "(20180215, 'murder', 'Someone killed the guard! He took an arrow to the knee!', 'SQL City')\n",
            "(20180115, 'theft', 'Big Bully stole my lunch money!', 'Chicago')\n",
            "(20180115, 'fraud', 'Lorem ipsum dolor sit amet, consectetur adipiscing elit, sed do\\n            eiusmod tempor incididunt ut labore et dolore magna aliqua.', 'Seattle')\n",
            "(20170712, 'theft', 'A lone hunter stalks the night, firing arrows into the Darkness.\\n            There is no hiding, no escape. In the distance, the beast\\n            falters, tethered to the void. The killing blow comes without\\n            hesitation, without mercy.', 'SQL City')\n",
            "(20170820, 'arson', 'Wield the Hammer of Sol with honor, Titan, it is a thing of\\n            legend, both past and future.', 'SQL City')\n",
            "(20171110, 'robbery', 'The Gjallarhorn shoulder-mounted rocket system was forged from\\n            the armor of Guardians who fell at the Twilight Gap. Gifted\\n            to the survivors of that terrible battle, the Gjallarhorn\\n            is seen as a symbol of honor and survival.', 'SQL City')\n"
          ]
        }
      ]
    },
    {
      "cell_type": "code",
      "source": [
        "for rows in cursor.execute(\"SELECT * FROM crime_scene_report WHERE city = 'SQL City' and type = 'murder'\"):\n",
        "  print(rows)"
      ],
      "metadata": {
        "colab": {
          "base_uri": "https://localhost:8080/"
        },
        "id": "0dqVnj_VumUl",
        "outputId": "7e9a9ec1-01c3-41a7-e595-ca213db0039f"
      },
      "execution_count": null,
      "outputs": [
        {
          "output_type": "stream",
          "name": "stdout",
          "text": [
            "(20180215, 'murder', 'REDACTED REDACTED REDACTED', 'SQL City')\n",
            "(20180215, 'murder', 'Someone killed the guard! He took an arrow to the knee!', 'SQL City')\n",
            "(20180115, 'murder', 'Security footage shows that there were 2 witnesses. The first witness lives at the last house on \"Northwestern Dr\". The second witness, named Annabel, lives somewhere on \"Franklin Ave\".', 'SQL City')\n"
          ]
        }
      ]
    },
    {
      "cell_type": "markdown",
      "source": [
        "Witness Personal Details"
      ],
      "metadata": {
        "id": "javlwMJLssGD"
      }
    },
    {
      "cell_type": "code",
      "source": [
        "for rows in cursor.execute(\"SELECT * FROM person LIMIT 5 \"):\n",
        "  print(rows)"
      ],
      "metadata": {
        "colab": {
          "base_uri": "https://localhost:8080/"
        },
        "id": "5xO0aKVkyiUd",
        "outputId": "ee78dea8-60f6-44fe-b4d0-7f1956c4b0e9"
      },
      "execution_count": null,
      "outputs": [
        {
          "output_type": "stream",
          "name": "stdout",
          "text": [
            "(10000, 'Christoper Peteuil', 993845, 624, 'Bankhall Ave', 747714076)\n",
            "(10007, 'Kourtney Calderwood', 861794, 2791, 'Gustavus Blvd', 477972044)\n",
            "(10010, 'Muoi Cary', 385336, 741, 'Northwestern Dr', 828638512)\n",
            "(10016, 'Era Moselle', 431897, 1987, 'Wood Glade St', 614621061)\n",
            "(10025, 'Trena Hornby', 550890, 276, 'Daws Hill Way', 223877684)\n"
          ]
        }
      ]
    },
    {
      "cell_type": "markdown",
      "source": [
        "Witness 1"
      ],
      "metadata": {
        "id": "o8AV1UjExakX"
      }
    },
    {
      "cell_type": "code",
      "source": [
        "for rows in cursor.execute(\"SELECT *  FROM person WHERE address_street_name = 'Northwestern Dr' ORDER BY address_number DESC LIMIT 5 \"):\n",
        "  print(rows)"
      ],
      "metadata": {
        "colab": {
          "base_uri": "https://localhost:8080/"
        },
        "id": "9_Fkl8CCtyar",
        "outputId": "58685c4b-58a6-46fd-9dc6-84f5fbee8504"
      },
      "execution_count": null,
      "outputs": [
        {
          "output_type": "stream",
          "name": "stdout",
          "text": [
            "(14887, 'Morty Schapiro', 118009, 4919, 'Northwestern Dr', 111564949)\n",
            "(17729, 'Lasonya Wildey', 439686, 3824, 'Northwestern Dr', 917817122)\n",
            "(53890, 'Sophie Tiberio', 957671, 3755, 'Northwestern Dr', 442830147)\n",
            "(73368, 'Torie Thalmann', 773862, 3697, 'Northwestern Dr', 341559436)\n",
            "(96595, 'Coretta Cubie', 303645, 3631, 'Northwestern Dr', 378403829)\n"
          ]
        }
      ]
    },
    {
      "cell_type": "markdown",
      "source": [
        "- First witness name is 'Morty Schapiro'"
      ],
      "metadata": {
        "id": "Il6RNVeN0aCK"
      }
    },
    {
      "cell_type": "markdown",
      "source": [
        "Witness 2"
      ],
      "metadata": {
        "id": "3YVwzFwU0F8T"
      }
    },
    {
      "cell_type": "code",
      "source": [
        "for rows in cursor.execute(\"SELECT * FROM person WHERE address_street_name = 'Franklin Ave' and name LIKE 'Annabel' || '%'\"):\n",
        "  print(rows)"
      ],
      "metadata": {
        "colab": {
          "base_uri": "https://localhost:8080/"
        },
        "id": "fa4-7kRZ0yyk",
        "outputId": "d317fd9e-16d0-4962-84c3-a9e4c49b5fe5"
      },
      "execution_count": null,
      "outputs": [
        {
          "output_type": "stream",
          "name": "stdout",
          "text": [
            "(16371, 'Annabel Miller', 490173, 103, 'Franklin Ave', 318771143)\n"
          ]
        }
      ]
    },
    {
      "cell_type": "markdown",
      "source": [
        "- Second Witness name is 'Annabel Miller'"
      ],
      "metadata": {
        "id": "rfFFgUyY3PzT"
      }
    },
    {
      "cell_type": "markdown",
      "source": [
        "View Witness Interviews"
      ],
      "metadata": {
        "id": "omdmSi23tJMD"
      }
    },
    {
      "cell_type": "code",
      "source": [
        "for rows in cursor.execute(\"SELECT * FROM interview WHERE person_id IN (14887,16371)\"):\n",
        "  print(rows)"
      ],
      "metadata": {
        "colab": {
          "base_uri": "https://localhost:8080/"
        },
        "id": "ifs1aixftzL_",
        "outputId": "34597ee0-01f7-4ff8-9a82-0c5337e15728"
      },
      "execution_count": null,
      "outputs": [
        {
          "output_type": "stream",
          "name": "stdout",
          "text": [
            "(14887, 'I heard a gunshot and then saw a man run out. He had a \"Get Fit Now Gym\" bag. The membership number on the bag started with \"48Z\". Only gold members have those bags. The man got into a car with a plate that included \"H42W\".')\n",
            "(16371, 'I saw the murder happen, and I recognized the killer from my gym when I was working out last week on January the 9th.')\n"
          ]
        }
      ]
    },
    {
      "cell_type": "markdown",
      "source": [
        "- Morty Schaprio heard the gunshot, saw a man running out with a \"Get Fit Now Gym\" bag having membership number starting from \"48Z\" which is a gold membership.The man got into a car with a plate that included \"H42W\"\n",
        "- Annabel Miller saw the murder and the murder is from her gym. She recognize the killer from her gym while working out last week on January 9th."
      ],
      "metadata": {
        "id": "34mPl15n5q4H"
      }
    },
    {
      "cell_type": "markdown",
      "source": [
        "Check Gym Database"
      ],
      "metadata": {
        "id": "MszsboC2tLWD"
      }
    },
    {
      "cell_type": "code",
      "source": [
        "for rows in cursor.execute(\"SELECT * FROM get_fit_now_member WHERE name = 'Annabel Miller'\"):\n",
        "  print(rows)"
      ],
      "metadata": {
        "colab": {
          "base_uri": "https://localhost:8080/"
        },
        "id": "H8M8PkO4PEaP",
        "outputId": "46f5b2c6-9159-4775-906c-e4113173f788"
      },
      "execution_count": null,
      "outputs": [
        {
          "output_type": "stream",
          "name": "stdout",
          "text": [
            "('90081', 16371, 'Annabel Miller', 20160208, 'gold')\n"
          ]
        }
      ]
    },
    {
      "cell_type": "code",
      "source": [
        "for rows in cursor.execute(\"SELECT * FROM get_fit_now_check_in WHERE membership_id = 90081\"):\n",
        "  print(rows)"
      ],
      "metadata": {
        "colab": {
          "base_uri": "https://localhost:8080/"
        },
        "id": "v-wHBcY8P4h6",
        "outputId": "5d4cf5c3-b731-4fcf-d45d-0b133c344c49"
      },
      "execution_count": null,
      "outputs": [
        {
          "output_type": "stream",
          "name": "stdout",
          "text": [
            "('90081', 20180109, 1600, 1700)\n"
          ]
        }
      ]
    },
    {
      "cell_type": "code",
      "source": [
        "for rows in cursor.execute(\"SELECT * FROM get_fit_now_member WHERE membership_status = 'gold' and id LIKE '48Z%'\"):\n",
        "  print(rows)"
      ],
      "metadata": {
        "colab": {
          "base_uri": "https://localhost:8080/"
        },
        "id": "vPSUIgnNEUTz",
        "outputId": "5047c555-8336-4114-c598-0ad943f81c32"
      },
      "execution_count": null,
      "outputs": [
        {
          "output_type": "stream",
          "name": "stdout",
          "text": [
            "('48Z7A', 28819, 'Joe Germuska', 20160305, 'gold')\n",
            "('48Z55', 67318, 'Jeremy Bowers', 20160101, 'gold')\n"
          ]
        }
      ]
    },
    {
      "cell_type": "code",
      "source": [
        "for rows in cursor.execute(\"SELECT * FROM get_fit_now_check_in WHERE membership_id LIKE '48Z%'\"):\n",
        "  print(rows)"
      ],
      "metadata": {
        "colab": {
          "base_uri": "https://localhost:8080/"
        },
        "id": "aoa3c2YZDGx4",
        "outputId": "7f20dea4-f847-4377-ff3f-26957bc35af3"
      },
      "execution_count": null,
      "outputs": [
        {
          "output_type": "stream",
          "name": "stdout",
          "text": [
            "('48Z38', 20170611, 813, 1122)\n",
            "('48Z38', 20171212, 1150, 1153)\n",
            "('48Z38', 20170820, 919, 921)\n",
            "('48Z38', 20180314, 315, 1150)\n",
            "('48Z38', 20170120, 482, 1138)\n",
            "('48Z7A', 20180109, 1600, 1730)\n",
            "('48Z55', 20180109, 1530, 1700)\n"
          ]
        }
      ]
    },
    {
      "cell_type": "markdown",
      "source": [
        "- From the Gym data currently two gold members 'Joe Germuska' and 'Jeremy Bowers' who checked in gym on 9th January at timing near to Annabel Miller i.e 1600 to 1700."
      ],
      "metadata": {
        "id": "xa8SeRZYOMai"
      }
    },
    {
      "cell_type": "markdown",
      "source": [
        "Car Details"
      ],
      "metadata": {
        "id": "wTi_B-dPVWEl"
      }
    },
    {
      "cell_type": "code",
      "source": [
        "for rows in cursor.execute(\"SELECT * FROM person WHERE id IN (28819,67318)\"):\n",
        "  print(rows)"
      ],
      "metadata": {
        "colab": {
          "base_uri": "https://localhost:8080/"
        },
        "id": "UpvsI54LUnr-",
        "outputId": "81ce1eb4-3ae8-4f28-9ac5-29b1c1580b16"
      },
      "execution_count": null,
      "outputs": [
        {
          "output_type": "stream",
          "name": "stdout",
          "text": [
            "(28819, 'Joe Germuska', 173289, 111, 'Fisk Rd', 138909730)\n",
            "(67318, 'Jeremy Bowers', 423327, 530, 'Washington Pl, Apt 3A', 871539279)\n"
          ]
        }
      ]
    },
    {
      "cell_type": "code",
      "source": [
        "for rows in cursor.execute(\"SELECT * FROM drivers_license WHERE id IN (173289,423327)\"):\n",
        "  print(rows)"
      ],
      "metadata": {
        "id": "LqcFKNgXt0g5",
        "colab": {
          "base_uri": "https://localhost:8080/"
        },
        "outputId": "6b0a87e8-7fb9-412b-80c1-05927634d638"
      },
      "execution_count": null,
      "outputs": [
        {
          "output_type": "stream",
          "name": "stdout",
          "text": [
            "(423327, 30, 70, 'brown', 'brown', 'male', '0H42W2', 'Chevrolet', 'Spark LS')\n"
          ]
        }
      ]
    },
    {
      "cell_type": "markdown",
      "source": [
        "- Data for license number 173289 registered on 'Joe Germuska' name was not found from drivers_license table"
      ],
      "metadata": {
        "id": "40koaEXYWn5x"
      }
    },
    {
      "cell_type": "markdown",
      "source": [
        "Personal Details"
      ],
      "metadata": {
        "id": "FcjilD2btVOW"
      }
    },
    {
      "cell_type": "code",
      "source": [
        "for rows in cursor.execute(\"SELECT * FROM facebook_event_checkin WHERE person_id IN (28819,67318)\"):\n",
        "  print(rows)"
      ],
      "metadata": {
        "id": "mSVBb5jDt1SZ",
        "colab": {
          "base_uri": "https://localhost:8080/"
        },
        "outputId": "f17f6000-033a-4911-b490-0e7b66c9a00b"
      },
      "execution_count": null,
      "outputs": [
        {
          "output_type": "stream",
          "name": "stdout",
          "text": [
            "(67318, 4719, 'The Funky Grooves Tour', 20180115)\n",
            "(67318, 1143, 'SQL Symphony Concert', 20171206)\n"
          ]
        }
      ]
    },
    {
      "cell_type": "code",
      "source": [
        "for rows in cursor.execute(\"SELECT * FROM income WHERE ssn IN (138909730,871539279)\"):\n",
        "  print(rows)"
      ],
      "metadata": {
        "colab": {
          "base_uri": "https://localhost:8080/"
        },
        "id": "qrvUXWwjXkZl",
        "outputId": "ea90bc07-22e0-4564-bf7c-0fe628be2f22"
      },
      "execution_count": null,
      "outputs": [
        {
          "output_type": "stream",
          "name": "stdout",
          "text": [
            "(871539279, 10500)\n"
          ]
        }
      ]
    },
    {
      "cell_type": "markdown",
      "source": [
        "- Facebook events data and income information of person_id 28819 i.e Joe Germuska was not found."
      ],
      "metadata": {
        "id": "ABhiI1sXYXM0"
      }
    },
    {
      "cell_type": "markdown",
      "source": [
        "Analyze and Draw Conclusions"
      ],
      "metadata": {
        "id": "MJ8roJhBtdiF"
      }
    },
    {
      "cell_type": "code",
      "source": [
        "for rows in cursor.execute(\"SELECT * FROM interview WHERE person_id = 67318\"):\n",
        "  print(rows)"
      ],
      "metadata": {
        "id": "2K-tPcTjt3nU",
        "colab": {
          "base_uri": "https://localhost:8080/"
        },
        "outputId": "031b09ef-9179-431f-904d-e4cd37d5f5de"
      },
      "execution_count": null,
      "outputs": [
        {
          "output_type": "stream",
          "name": "stdout",
          "text": [
            "(67318, 'I was hired by a woman with a lot of money. I don\\'t know her name but I know she\\'s around 5\\'5\" (65\") or 5\\'7\" (67\"). She has red hair and she drives a Tesla Model S. I know that she attended the SQL Symphony Concert 3 times in December 2017.\\n')\n"
          ]
        }
      ]
    },
    {
      "cell_type": "code",
      "source": [
        "for rows in cursor.execute(\"SELECT * FROM drivers_license WHERE car_make = 'Tesla' and gender = 'female' and hair_color = 'red'\"):\n",
        "    print(rows)\n"
      ],
      "metadata": {
        "colab": {
          "base_uri": "https://localhost:8080/"
        },
        "id": "k8rieQn2wxI_",
        "outputId": "f3ea5199-e6c1-4af3-869b-9da53ff53631"
      },
      "execution_count": null,
      "outputs": [
        {
          "output_type": "stream",
          "name": "stdout",
          "text": [
            "(202298, 68, 66, 'green', 'red', 'female', '500123', 'Tesla', 'Model S')\n",
            "(291182, 65, 66, 'blue', 'red', 'female', '08CM64', 'Tesla', 'Model S')\n",
            "(918773, 48, 65, 'black', 'red', 'female', '917UU3', 'Tesla', 'Model S')\n"
          ]
        }
      ]
    },
    {
      "cell_type": "code",
      "source": [
        "for rows in cursor.execute(\"SELECT * FROM person WHERE license_id IN (202298,291182,918773)\"):\n",
        "  print(rows)"
      ],
      "metadata": {
        "colab": {
          "base_uri": "https://localhost:8080/"
        },
        "id": "e9HfK1Ak1BJB",
        "outputId": "b39c04f3-df26-421d-9dc0-26d086b84f26"
      },
      "execution_count": null,
      "outputs": [
        {
          "output_type": "stream",
          "name": "stdout",
          "text": [
            "(78881, 'Red Korb', 918773, 107, 'Camerata Dr', 961388910)\n",
            "(90700, 'Regina George', 291182, 332, 'Maple Ave', 337169072)\n",
            "(99716, 'Miranda Priestly', 202298, 1883, 'Golden Ave', 987756388)\n"
          ]
        }
      ]
    },
    {
      "cell_type": "code",
      "source": [
        "for rows in cursor.execute(\"SELECT * FROM facebook_event_checkin WHERE person_id IN (78881,90700,99716)\"):\n",
        "  print(rows)"
      ],
      "metadata": {
        "colab": {
          "base_uri": "https://localhost:8080/"
        },
        "id": "JokcFwJP2XwC",
        "outputId": "e42b5cd4-b046-4fa3-b5c3-ca06716f4fa3"
      },
      "execution_count": null,
      "outputs": [
        {
          "output_type": "stream",
          "name": "stdout",
          "text": [
            "(99716, 1143, 'SQL Symphony Concert', 20171206)\n",
            "(99716, 1143, 'SQL Symphony Concert', 20171212)\n",
            "(99716, 1143, 'SQL Symphony Concert', 20171229)\n"
          ]
        }
      ]
    },
    {
      "cell_type": "markdown",
      "source": [
        "- After, the inputs received from Jeremy Bowers's interview were verified, it is found that 'Miranda Priestly' is the mastermind behind the murder that occured in SQL City."
      ],
      "metadata": {
        "id": "QK2T3PRR4CbZ"
      }
    },
    {
      "cell_type": "markdown",
      "source": [
        "Report"
      ],
      "metadata": {
        "id": "CN31jHypluX6"
      }
    },
    {
      "cell_type": "markdown",
      "source": [
        "- The details of SQL city murder were retrived from the crime_scene_report. Total three findings were retived,out of which, one stated, the murder occured on  15th January 2018 has two witness.\n",
        "- With help of personal information table, the two witness were identified. First witness name is 'Morty Schapiro' and Second Witness name is 'Annabel Miller'. After, checking the witness interview it was found that,Morty Schaprio heard the gunshot, saw a man running out with a \"Get Fit Now Gym\" bag having membership number starting from \"48Z\" which is a gold membership.The man got into a car with a plate that included \"H42W\". Annabel Miller saw the murder and the murder is from her gym. She recognize the killer from her gym while working out last week on January 9th.\n",
        "- With this information and checking the gym table details, two gold members 'Joe Germuska' and 'Jeremy Bowers' checked in gym on 9th January at timing near to Annabel Miller i.e 1600 to 1700. After checking the car details, the car with a plate that included \"H42W\" is registered under name 'Jeremy Bowers'.\n",
        "- The personal details of 'Jeremy Bowers'shows that his annual income is 10500, and as per his facebook updates he has join 'The Funky Grooves Tour' on 15th January 2018 and attended 'SQL Symphony Concert' on 6th December 2017.\n",
        "- Data for license number 173289 registered on 'Joe Germuska' name was not found from drivers_license table, also Facebook events data and income information of person_id 28819 i.e Joe Germuska was not found.\n",
        "- The interview of Jeremy Bowers stated that, he was hired by a woman who is near about 65\"-67\" in height, with red hair and drives Tesla Model S. Also, she attended 'SQL Symphony Concert' thrice in December 2017.\n",
        "\n",
        "\n",
        "\n",
        "\n",
        "\n",
        "\n",
        "\n",
        "- After, the inputs received from Jeremy Bowers's interview were verified, it is found that 'Miranda Priestly' is the mastermind behind the murder that occured in SQL City.\n",
        "\n"
      ],
      "metadata": {
        "id": "4Hp2MDEdeIqZ"
      }
    }
  ]
}