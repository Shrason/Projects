{
  "nbformat": 4,
  "nbformat_minor": 0,
  "metadata": {
    "colab": {
      "provenance": [],
      "authorship_tag": "ABX9TyOwrBtErEwQNWyqDtKoTKYl",
      "include_colab_link": true
    },
    "kernelspec": {
      "name": "python3",
      "display_name": "Python 3"
    },
    "language_info": {
      "name": "python"
    }
  },
  "cells": [
    {
      "cell_type": "markdown",
      "metadata": {
        "id": "view-in-github",
        "colab_type": "text"
      },
      "source": [
        "<a href=\"https://colab.research.google.com/github/Shrason/Projects/blob/main/EDA_Superstore.ipynb\" target=\"_parent\"><img src=\"https://colab.research.google.com/assets/colab-badge.svg\" alt=\"Open In Colab\"/></a>"
      ]
    },
    {
      "cell_type": "markdown",
      "source": [
        "# **Superstore Sales**\n",
        "\n",
        "Retail dataset of a global superstore for 4 years.\n",
        "\n",
        "---"
      ],
      "metadata": {
        "id": "rR8sqoRDVy5F"
      }
    },
    {
      "cell_type": "markdown",
      "source": [
        "**Importing Required Libraries**\n",
        "\n",
        "---\n",
        "\n"
      ],
      "metadata": {
        "id": "iTkU4cqhPbhm"
      }
    },
    {
      "cell_type": "code",
      "execution_count": null,
      "metadata": {
        "id": "_BN5WN1JPXNH"
      },
      "outputs": [],
      "source": [
        "import pandas as pd\n",
        "import numpy as np\n",
        "import matplotlib.pyplot as plt\n",
        "import seaborn as sns"
      ]
    },
    {
      "cell_type": "markdown",
      "source": [
        "**Loading Data**\n",
        "\n",
        "---\n",
        "\n"
      ],
      "metadata": {
        "id": "HV47qhQdP---"
      }
    },
    {
      "cell_type": "code",
      "source": [
        "data = pd.read_csv('/content/train.csv')"
      ],
      "metadata": {
        "id": "CXic-n5kP97H"
      },
      "execution_count": null,
      "outputs": []
    },
    {
      "cell_type": "markdown",
      "source": [
        "**Data Information**\n",
        "\n",
        "---\n",
        "\n"
      ],
      "metadata": {
        "id": "o0nNsbGnQKfY"
      }
    },
    {
      "cell_type": "code",
      "source": [
        "data.shape"
      ],
      "metadata": {
        "id": "dAFcLPWfQX5V",
        "colab": {
          "base_uri": "https://localhost:8080/"
        },
        "outputId": "9bff615b-6dfe-4f3f-9b43-20f6745e609d"
      },
      "execution_count": null,
      "outputs": [
        {
          "output_type": "execute_result",
          "data": {
            "text/plain": [
              "(9800, 18)"
            ]
          },
          "metadata": {},
          "execution_count": 3
        }
      ]
    },
    {
      "cell_type": "code",
      "source": [
        "data.head(3)"
      ],
      "metadata": {
        "id": "k8zeoUaJQekD",
        "colab": {
          "base_uri": "https://localhost:8080/",
          "height": 389
        },
        "outputId": "7779e847-a4e5-4111-b14c-88d6bd7971c6"
      },
      "execution_count": null,
      "outputs": [
        {
          "output_type": "execute_result",
          "data": {
            "text/plain": [
              "   Row ID        Order ID  Order Date   Ship Date     Ship Mode Customer ID  \\\n",
              "0       1  CA-2017-152156  08/11/2017  11/11/2017  Second Class    CG-12520   \n",
              "1       2  CA-2017-152156  08/11/2017  11/11/2017  Second Class    CG-12520   \n",
              "2       3  CA-2017-138688  12/06/2017  16/06/2017  Second Class    DV-13045   \n",
              "\n",
              "     Customer Name    Segment        Country         City       State  \\\n",
              "0      Claire Gute   Consumer  United States    Henderson    Kentucky   \n",
              "1      Claire Gute   Consumer  United States    Henderson    Kentucky   \n",
              "2  Darrin Van Huff  Corporate  United States  Los Angeles  California   \n",
              "\n",
              "   Postal Code Region       Product ID         Category Sub-Category  \\\n",
              "0      42420.0  South  FUR-BO-10001798        Furniture    Bookcases   \n",
              "1      42420.0  South  FUR-CH-10000454        Furniture       Chairs   \n",
              "2      90036.0   West  OFF-LA-10000240  Office Supplies       Labels   \n",
              "\n",
              "                                        Product Name   Sales  \n",
              "0                  Bush Somerset Collection Bookcase  261.96  \n",
              "1  Hon Deluxe Fabric Upholstered Stacking Chairs,...  731.94  \n",
              "2  Self-Adhesive Address Labels for Typewriters b...   14.62  "
            ],
            "text/html": [
              "\n",
              "  <div id=\"df-88e70587-6ca3-447b-be4a-d390d36e15e4\" class=\"colab-df-container\">\n",
              "    <div>\n",
              "<style scoped>\n",
              "    .dataframe tbody tr th:only-of-type {\n",
              "        vertical-align: middle;\n",
              "    }\n",
              "\n",
              "    .dataframe tbody tr th {\n",
              "        vertical-align: top;\n",
              "    }\n",
              "\n",
              "    .dataframe thead th {\n",
              "        text-align: right;\n",
              "    }\n",
              "</style>\n",
              "<table border=\"1\" class=\"dataframe\">\n",
              "  <thead>\n",
              "    <tr style=\"text-align: right;\">\n",
              "      <th></th>\n",
              "      <th>Row ID</th>\n",
              "      <th>Order ID</th>\n",
              "      <th>Order Date</th>\n",
              "      <th>Ship Date</th>\n",
              "      <th>Ship Mode</th>\n",
              "      <th>Customer ID</th>\n",
              "      <th>Customer Name</th>\n",
              "      <th>Segment</th>\n",
              "      <th>Country</th>\n",
              "      <th>City</th>\n",
              "      <th>State</th>\n",
              "      <th>Postal Code</th>\n",
              "      <th>Region</th>\n",
              "      <th>Product ID</th>\n",
              "      <th>Category</th>\n",
              "      <th>Sub-Category</th>\n",
              "      <th>Product Name</th>\n",
              "      <th>Sales</th>\n",
              "    </tr>\n",
              "  </thead>\n",
              "  <tbody>\n",
              "    <tr>\n",
              "      <th>0</th>\n",
              "      <td>1</td>\n",
              "      <td>CA-2017-152156</td>\n",
              "      <td>08/11/2017</td>\n",
              "      <td>11/11/2017</td>\n",
              "      <td>Second Class</td>\n",
              "      <td>CG-12520</td>\n",
              "      <td>Claire Gute</td>\n",
              "      <td>Consumer</td>\n",
              "      <td>United States</td>\n",
              "      <td>Henderson</td>\n",
              "      <td>Kentucky</td>\n",
              "      <td>42420.0</td>\n",
              "      <td>South</td>\n",
              "      <td>FUR-BO-10001798</td>\n",
              "      <td>Furniture</td>\n",
              "      <td>Bookcases</td>\n",
              "      <td>Bush Somerset Collection Bookcase</td>\n",
              "      <td>261.96</td>\n",
              "    </tr>\n",
              "    <tr>\n",
              "      <th>1</th>\n",
              "      <td>2</td>\n",
              "      <td>CA-2017-152156</td>\n",
              "      <td>08/11/2017</td>\n",
              "      <td>11/11/2017</td>\n",
              "      <td>Second Class</td>\n",
              "      <td>CG-12520</td>\n",
              "      <td>Claire Gute</td>\n",
              "      <td>Consumer</td>\n",
              "      <td>United States</td>\n",
              "      <td>Henderson</td>\n",
              "      <td>Kentucky</td>\n",
              "      <td>42420.0</td>\n",
              "      <td>South</td>\n",
              "      <td>FUR-CH-10000454</td>\n",
              "      <td>Furniture</td>\n",
              "      <td>Chairs</td>\n",
              "      <td>Hon Deluxe Fabric Upholstered Stacking Chairs,...</td>\n",
              "      <td>731.94</td>\n",
              "    </tr>\n",
              "    <tr>\n",
              "      <th>2</th>\n",
              "      <td>3</td>\n",
              "      <td>CA-2017-138688</td>\n",
              "      <td>12/06/2017</td>\n",
              "      <td>16/06/2017</td>\n",
              "      <td>Second Class</td>\n",
              "      <td>DV-13045</td>\n",
              "      <td>Darrin Van Huff</td>\n",
              "      <td>Corporate</td>\n",
              "      <td>United States</td>\n",
              "      <td>Los Angeles</td>\n",
              "      <td>California</td>\n",
              "      <td>90036.0</td>\n",
              "      <td>West</td>\n",
              "      <td>OFF-LA-10000240</td>\n",
              "      <td>Office Supplies</td>\n",
              "      <td>Labels</td>\n",
              "      <td>Self-Adhesive Address Labels for Typewriters b...</td>\n",
              "      <td>14.62</td>\n",
              "    </tr>\n",
              "  </tbody>\n",
              "</table>\n",
              "</div>\n",
              "    <div class=\"colab-df-buttons\">\n",
              "\n",
              "  <div class=\"colab-df-container\">\n",
              "    <button class=\"colab-df-convert\" onclick=\"convertToInteractive('df-88e70587-6ca3-447b-be4a-d390d36e15e4')\"\n",
              "            title=\"Convert this dataframe to an interactive table.\"\n",
              "            style=\"display:none;\">\n",
              "\n",
              "  <svg xmlns=\"http://www.w3.org/2000/svg\" height=\"24px\" viewBox=\"0 -960 960 960\">\n",
              "    <path d=\"M120-120v-720h720v720H120Zm60-500h600v-160H180v160Zm220 220h160v-160H400v160Zm0 220h160v-160H400v160ZM180-400h160v-160H180v160Zm440 0h160v-160H620v160ZM180-180h160v-160H180v160Zm440 0h160v-160H620v160Z\"/>\n",
              "  </svg>\n",
              "    </button>\n",
              "\n",
              "  <style>\n",
              "    .colab-df-container {\n",
              "      display:flex;\n",
              "      gap: 12px;\n",
              "    }\n",
              "\n",
              "    .colab-df-convert {\n",
              "      background-color: #E8F0FE;\n",
              "      border: none;\n",
              "      border-radius: 50%;\n",
              "      cursor: pointer;\n",
              "      display: none;\n",
              "      fill: #1967D2;\n",
              "      height: 32px;\n",
              "      padding: 0 0 0 0;\n",
              "      width: 32px;\n",
              "    }\n",
              "\n",
              "    .colab-df-convert:hover {\n",
              "      background-color: #E2EBFA;\n",
              "      box-shadow: 0px 1px 2px rgba(60, 64, 67, 0.3), 0px 1px 3px 1px rgba(60, 64, 67, 0.15);\n",
              "      fill: #174EA6;\n",
              "    }\n",
              "\n",
              "    .colab-df-buttons div {\n",
              "      margin-bottom: 4px;\n",
              "    }\n",
              "\n",
              "    [theme=dark] .colab-df-convert {\n",
              "      background-color: #3B4455;\n",
              "      fill: #D2E3FC;\n",
              "    }\n",
              "\n",
              "    [theme=dark] .colab-df-convert:hover {\n",
              "      background-color: #434B5C;\n",
              "      box-shadow: 0px 1px 3px 1px rgba(0, 0, 0, 0.15);\n",
              "      filter: drop-shadow(0px 1px 2px rgba(0, 0, 0, 0.3));\n",
              "      fill: #FFFFFF;\n",
              "    }\n",
              "  </style>\n",
              "\n",
              "    <script>\n",
              "      const buttonEl =\n",
              "        document.querySelector('#df-88e70587-6ca3-447b-be4a-d390d36e15e4 button.colab-df-convert');\n",
              "      buttonEl.style.display =\n",
              "        google.colab.kernel.accessAllowed ? 'block' : 'none';\n",
              "\n",
              "      async function convertToInteractive(key) {\n",
              "        const element = document.querySelector('#df-88e70587-6ca3-447b-be4a-d390d36e15e4');\n",
              "        const dataTable =\n",
              "          await google.colab.kernel.invokeFunction('convertToInteractive',\n",
              "                                                    [key], {});\n",
              "        if (!dataTable) return;\n",
              "\n",
              "        const docLinkHtml = 'Like what you see? Visit the ' +\n",
              "          '<a target=\"_blank\" href=https://colab.research.google.com/notebooks/data_table.ipynb>data table notebook</a>'\n",
              "          + ' to learn more about interactive tables.';\n",
              "        element.innerHTML = '';\n",
              "        dataTable['output_type'] = 'display_data';\n",
              "        await google.colab.output.renderOutput(dataTable, element);\n",
              "        const docLink = document.createElement('div');\n",
              "        docLink.innerHTML = docLinkHtml;\n",
              "        element.appendChild(docLink);\n",
              "      }\n",
              "    </script>\n",
              "  </div>\n",
              "\n",
              "\n",
              "<div id=\"df-a6af68d2-4208-4a55-bf56-e9007efe4f34\">\n",
              "  <button class=\"colab-df-quickchart\" onclick=\"quickchart('df-a6af68d2-4208-4a55-bf56-e9007efe4f34')\"\n",
              "            title=\"Suggest charts\"\n",
              "            style=\"display:none;\">\n",
              "\n",
              "<svg xmlns=\"http://www.w3.org/2000/svg\" height=\"24px\"viewBox=\"0 0 24 24\"\n",
              "     width=\"24px\">\n",
              "    <g>\n",
              "        <path d=\"M19 3H5c-1.1 0-2 .9-2 2v14c0 1.1.9 2 2 2h14c1.1 0 2-.9 2-2V5c0-1.1-.9-2-2-2zM9 17H7v-7h2v7zm4 0h-2V7h2v10zm4 0h-2v-4h2v4z\"/>\n",
              "    </g>\n",
              "</svg>\n",
              "  </button>\n",
              "\n",
              "<style>\n",
              "  .colab-df-quickchart {\n",
              "      --bg-color: #E8F0FE;\n",
              "      --fill-color: #1967D2;\n",
              "      --hover-bg-color: #E2EBFA;\n",
              "      --hover-fill-color: #174EA6;\n",
              "      --disabled-fill-color: #AAA;\n",
              "      --disabled-bg-color: #DDD;\n",
              "  }\n",
              "\n",
              "  [theme=dark] .colab-df-quickchart {\n",
              "      --bg-color: #3B4455;\n",
              "      --fill-color: #D2E3FC;\n",
              "      --hover-bg-color: #434B5C;\n",
              "      --hover-fill-color: #FFFFFF;\n",
              "      --disabled-bg-color: #3B4455;\n",
              "      --disabled-fill-color: #666;\n",
              "  }\n",
              "\n",
              "  .colab-df-quickchart {\n",
              "    background-color: var(--bg-color);\n",
              "    border: none;\n",
              "    border-radius: 50%;\n",
              "    cursor: pointer;\n",
              "    display: none;\n",
              "    fill: var(--fill-color);\n",
              "    height: 32px;\n",
              "    padding: 0;\n",
              "    width: 32px;\n",
              "  }\n",
              "\n",
              "  .colab-df-quickchart:hover {\n",
              "    background-color: var(--hover-bg-color);\n",
              "    box-shadow: 0 1px 2px rgba(60, 64, 67, 0.3), 0 1px 3px 1px rgba(60, 64, 67, 0.15);\n",
              "    fill: var(--button-hover-fill-color);\n",
              "  }\n",
              "\n",
              "  .colab-df-quickchart-complete:disabled,\n",
              "  .colab-df-quickchart-complete:disabled:hover {\n",
              "    background-color: var(--disabled-bg-color);\n",
              "    fill: var(--disabled-fill-color);\n",
              "    box-shadow: none;\n",
              "  }\n",
              "\n",
              "  .colab-df-spinner {\n",
              "    border: 2px solid var(--fill-color);\n",
              "    border-color: transparent;\n",
              "    border-bottom-color: var(--fill-color);\n",
              "    animation:\n",
              "      spin 1s steps(1) infinite;\n",
              "  }\n",
              "\n",
              "  @keyframes spin {\n",
              "    0% {\n",
              "      border-color: transparent;\n",
              "      border-bottom-color: var(--fill-color);\n",
              "      border-left-color: var(--fill-color);\n",
              "    }\n",
              "    20% {\n",
              "      border-color: transparent;\n",
              "      border-left-color: var(--fill-color);\n",
              "      border-top-color: var(--fill-color);\n",
              "    }\n",
              "    30% {\n",
              "      border-color: transparent;\n",
              "      border-left-color: var(--fill-color);\n",
              "      border-top-color: var(--fill-color);\n",
              "      border-right-color: var(--fill-color);\n",
              "    }\n",
              "    40% {\n",
              "      border-color: transparent;\n",
              "      border-right-color: var(--fill-color);\n",
              "      border-top-color: var(--fill-color);\n",
              "    }\n",
              "    60% {\n",
              "      border-color: transparent;\n",
              "      border-right-color: var(--fill-color);\n",
              "    }\n",
              "    80% {\n",
              "      border-color: transparent;\n",
              "      border-right-color: var(--fill-color);\n",
              "      border-bottom-color: var(--fill-color);\n",
              "    }\n",
              "    90% {\n",
              "      border-color: transparent;\n",
              "      border-bottom-color: var(--fill-color);\n",
              "    }\n",
              "  }\n",
              "</style>\n",
              "\n",
              "  <script>\n",
              "    async function quickchart(key) {\n",
              "      const quickchartButtonEl =\n",
              "        document.querySelector('#' + key + ' button');\n",
              "      quickchartButtonEl.disabled = true;  // To prevent multiple clicks.\n",
              "      quickchartButtonEl.classList.add('colab-df-spinner');\n",
              "      try {\n",
              "        const charts = await google.colab.kernel.invokeFunction(\n",
              "            'suggestCharts', [key], {});\n",
              "      } catch (error) {\n",
              "        console.error('Error during call to suggestCharts:', error);\n",
              "      }\n",
              "      quickchartButtonEl.classList.remove('colab-df-spinner');\n",
              "      quickchartButtonEl.classList.add('colab-df-quickchart-complete');\n",
              "    }\n",
              "    (() => {\n",
              "      let quickchartButtonEl =\n",
              "        document.querySelector('#df-a6af68d2-4208-4a55-bf56-e9007efe4f34 button');\n",
              "      quickchartButtonEl.style.display =\n",
              "        google.colab.kernel.accessAllowed ? 'block' : 'none';\n",
              "    })();\n",
              "  </script>\n",
              "</div>\n",
              "\n",
              "    </div>\n",
              "  </div>\n"
            ],
            "application/vnd.google.colaboratory.intrinsic+json": {
              "type": "dataframe",
              "variable_name": "data",
              "repr_error": "'str' object has no attribute 'empty'"
            }
          },
          "metadata": {},
          "execution_count": 4
        }
      ]
    },
    {
      "cell_type": "code",
      "source": [
        "data.info()"
      ],
      "metadata": {
        "id": "71OqOQXuQibW",
        "colab": {
          "base_uri": "https://localhost:8080/"
        },
        "outputId": "3f9f11b2-d405-43af-8f3b-fd2e00af40cd"
      },
      "execution_count": null,
      "outputs": [
        {
          "output_type": "stream",
          "name": "stdout",
          "text": [
            "<class 'pandas.core.frame.DataFrame'>\n",
            "RangeIndex: 9800 entries, 0 to 9799\n",
            "Data columns (total 18 columns):\n",
            " #   Column         Non-Null Count  Dtype  \n",
            "---  ------         --------------  -----  \n",
            " 0   Row ID         9800 non-null   int64  \n",
            " 1   Order ID       9800 non-null   object \n",
            " 2   Order Date     9800 non-null   object \n",
            " 3   Ship Date      9800 non-null   object \n",
            " 4   Ship Mode      9800 non-null   object \n",
            " 5   Customer ID    9800 non-null   object \n",
            " 6   Customer Name  9800 non-null   object \n",
            " 7   Segment        9800 non-null   object \n",
            " 8   Country        9800 non-null   object \n",
            " 9   City           9800 non-null   object \n",
            " 10  State          9800 non-null   object \n",
            " 11  Postal Code    9789 non-null   float64\n",
            " 12  Region         9800 non-null   object \n",
            " 13  Product ID     9800 non-null   object \n",
            " 14  Category       9800 non-null   object \n",
            " 15  Sub-Category   9800 non-null   object \n",
            " 16  Product Name   9800 non-null   object \n",
            " 17  Sales          9800 non-null   float64\n",
            "dtypes: float64(2), int64(1), object(15)\n",
            "memory usage: 1.3+ MB\n"
          ]
        }
      ]
    },
    {
      "cell_type": "markdown",
      "source": [
        "**Data Cleaning**\n",
        "\n",
        "---\n",
        "\n"
      ],
      "metadata": {
        "id": "Uoggc2YmRQ5e"
      }
    },
    {
      "cell_type": "markdown",
      "source": [
        "_Renaming the columns:"
      ],
      "metadata": {
        "id": "xLDCOXmCR04a"
      }
    },
    {
      "cell_type": "code",
      "source": [
        "data.columns = data.columns.str.lower()"
      ],
      "metadata": {
        "id": "zHBY6c0zumDk"
      },
      "execution_count": null,
      "outputs": []
    },
    {
      "cell_type": "code",
      "source": [
        "data.columns"
      ],
      "metadata": {
        "colab": {
          "base_uri": "https://localhost:8080/"
        },
        "id": "MPeDI1mmymQC",
        "outputId": "8bdc0f97-b41e-41e5-8c4e-6cd26da3d521"
      },
      "execution_count": null,
      "outputs": [
        {
          "output_type": "execute_result",
          "data": {
            "text/plain": [
              "Index(['row id', 'order id', 'order date', 'ship date', 'ship mode',\n",
              "       'customer id', 'customer name', 'segment', 'country', 'city', 'state',\n",
              "       'postal code', 'region', 'product id', 'category', 'sub-category',\n",
              "       'product name', 'sales'],\n",
              "      dtype='object')"
            ]
          },
          "metadata": {},
          "execution_count": 7
        }
      ]
    },
    {
      "cell_type": "markdown",
      "source": [
        "_Converting columns into appropriate data type:"
      ],
      "metadata": {
        "id": "0ao7u10nR7u5"
      }
    },
    {
      "cell_type": "code",
      "source": [
        "data['order date'] = pd.to_datetime(data['order date'], format=\"%d/%m/%Y\")\n"
      ],
      "metadata": {
        "id": "cmigGMzEFBYf"
      },
      "execution_count": null,
      "outputs": []
    },
    {
      "cell_type": "code",
      "source": [
        "data['ship date'] = pd.to_datetime(data['ship date'], format=\"%d/%m/%Y\")\n"
      ],
      "metadata": {
        "id": "Mt4WQaQoFD_3"
      },
      "execution_count": null,
      "outputs": []
    },
    {
      "cell_type": "code",
      "source": [
        "data.info()"
      ],
      "metadata": {
        "colab": {
          "base_uri": "https://localhost:8080/"
        },
        "id": "0E4BH7yT_Bdt",
        "outputId": "3ede2022-7fd2-4e6e-ccc3-c48a8bec5dd7"
      },
      "execution_count": null,
      "outputs": [
        {
          "output_type": "stream",
          "name": "stdout",
          "text": [
            "<class 'pandas.core.frame.DataFrame'>\n",
            "RangeIndex: 9800 entries, 0 to 9799\n",
            "Data columns (total 18 columns):\n",
            " #   Column         Non-Null Count  Dtype         \n",
            "---  ------         --------------  -----         \n",
            " 0   row id         9800 non-null   int64         \n",
            " 1   order id       9800 non-null   object        \n",
            " 2   order date     9800 non-null   datetime64[ns]\n",
            " 3   ship date      9800 non-null   datetime64[ns]\n",
            " 4   ship mode      9800 non-null   object        \n",
            " 5   customer id    9800 non-null   object        \n",
            " 6   customer name  9800 non-null   object        \n",
            " 7   segment        9800 non-null   object        \n",
            " 8   country        9800 non-null   object        \n",
            " 9   city           9800 non-null   object        \n",
            " 10  state          9800 non-null   object        \n",
            " 11  postal code    9789 non-null   float64       \n",
            " 12  region         9800 non-null   object        \n",
            " 13  product id     9800 non-null   object        \n",
            " 14  category       9800 non-null   object        \n",
            " 15  sub-category   9800 non-null   object        \n",
            " 16  product name   9800 non-null   object        \n",
            " 17  sales          9800 non-null   float64       \n",
            "dtypes: datetime64[ns](2), float64(2), int64(1), object(13)\n",
            "memory usage: 1.3+ MB\n"
          ]
        }
      ]
    },
    {
      "cell_type": "markdown",
      "source": [
        "_Checking for presence of any null values:"
      ],
      "metadata": {
        "id": "ZA4Vh8fySVXY"
      }
    },
    {
      "cell_type": "code",
      "source": [
        "data.isnull().any()"
      ],
      "metadata": {
        "colab": {
          "base_uri": "https://localhost:8080/"
        },
        "id": "mzIF1MvDl4gy",
        "outputId": "81cee101-9961-4d44-d68b-14be700b5d92"
      },
      "execution_count": null,
      "outputs": [
        {
          "output_type": "execute_result",
          "data": {
            "text/plain": [
              "row id           False\n",
              "order id         False\n",
              "order date       False\n",
              "ship date        False\n",
              "ship mode        False\n",
              "customer id      False\n",
              "customer name    False\n",
              "segment          False\n",
              "country          False\n",
              "city             False\n",
              "state            False\n",
              "postal code       True\n",
              "region           False\n",
              "product id       False\n",
              "category         False\n",
              "sub-category     False\n",
              "product name     False\n",
              "sales            False\n",
              "dtype: bool"
            ]
          },
          "metadata": {},
          "execution_count": 11
        }
      ]
    },
    {
      "cell_type": "code",
      "source": [
        "data[data['postal code'].isna()]"
      ],
      "metadata": {
        "colab": {
          "base_uri": "https://localhost:8080/",
          "height": 932
        },
        "id": "04ZOaCVmmbfw",
        "outputId": "5c85447f-6c39-441a-cc06-9411e19749a0"
      },
      "execution_count": null,
      "outputs": [
        {
          "output_type": "execute_result",
          "data": {
            "text/plain": [
              "      row id        order id order date  ship date       ship mode  \\\n",
              "2234    2235  CA-2018-104066 2018-12-05 2018-12-10  Standard Class   \n",
              "5274    5275  CA-2016-162887 2016-11-07 2016-11-09    Second Class   \n",
              "8798    8799  US-2017-150140 2017-04-06 2017-04-10  Standard Class   \n",
              "9146    9147  US-2017-165505 2017-01-23 2017-01-27  Standard Class   \n",
              "9147    9148  US-2017-165505 2017-01-23 2017-01-27  Standard Class   \n",
              "9148    9149  US-2017-165505 2017-01-23 2017-01-27  Standard Class   \n",
              "9386    9387  US-2018-127292 2018-01-19 2018-01-23  Standard Class   \n",
              "9387    9388  US-2018-127292 2018-01-19 2018-01-23  Standard Class   \n",
              "9388    9389  US-2018-127292 2018-01-19 2018-01-23  Standard Class   \n",
              "9389    9390  US-2018-127292 2018-01-19 2018-01-23  Standard Class   \n",
              "9741    9742  CA-2016-117086 2016-11-08 2016-11-12  Standard Class   \n",
              "\n",
              "     customer id     customer name      segment        country        city  \\\n",
              "2234    QJ-19255      Quincy Jones    Corporate  United States  Burlington   \n",
              "5274    SV-20785  Stewart Visinsky     Consumer  United States  Burlington   \n",
              "8798    VM-21685   Valerie Mitchum  Home Office  United States  Burlington   \n",
              "9146    CB-12535  Claudia Bergmann    Corporate  United States  Burlington   \n",
              "9147    CB-12535  Claudia Bergmann    Corporate  United States  Burlington   \n",
              "9148    CB-12535  Claudia Bergmann    Corporate  United States  Burlington   \n",
              "9386    RM-19375     Raymond Messe     Consumer  United States  Burlington   \n",
              "9387    RM-19375     Raymond Messe     Consumer  United States  Burlington   \n",
              "9388    RM-19375     Raymond Messe     Consumer  United States  Burlington   \n",
              "9389    RM-19375     Raymond Messe     Consumer  United States  Burlington   \n",
              "9741    QJ-19255      Quincy Jones    Corporate  United States  Burlington   \n",
              "\n",
              "        state  postal code region       product id         category  \\\n",
              "2234  Vermont          NaN   East  TEC-AC-10001013       Technology   \n",
              "5274  Vermont          NaN   East  FUR-CH-10000595        Furniture   \n",
              "8798  Vermont          NaN   East  TEC-PH-10002555       Technology   \n",
              "9146  Vermont          NaN   East  TEC-AC-10002926       Technology   \n",
              "9147  Vermont          NaN   East  OFF-AR-10003477  Office Supplies   \n",
              "9148  Vermont          NaN   East  OFF-ST-10001526  Office Supplies   \n",
              "9386  Vermont          NaN   East  OFF-PA-10000157  Office Supplies   \n",
              "9387  Vermont          NaN   East  OFF-PA-10001970  Office Supplies   \n",
              "9388  Vermont          NaN   East  OFF-AP-10000828  Office Supplies   \n",
              "9389  Vermont          NaN   East  OFF-EN-10001509  Office Supplies   \n",
              "9741  Vermont          NaN   East  FUR-BO-10004834        Furniture   \n",
              "\n",
              "     sub-category                                       product name    sales  \n",
              "2234  Accessories        Logitech ClearChat Comfort/USB Headset H390   205.03  \n",
              "5274       Chairs                    Safco Contoured Stacking Chairs   715.20  \n",
              "8798       Phones                Nortel Meridian M5316 Digital phone  1294.75  \n",
              "9146  Accessories              Logitech Wireless Marathon Mouse M705    99.98  \n",
              "9147          Art                                  4009 Highlighters     8.04  \n",
              "9148      Storage              Iceberg Mobile Mega Data/Printer Cart  1564.29  \n",
              "9386        Paper                                          Xerox 191    79.92  \n",
              "9387        Paper                                         Xerox 1881    12.28  \n",
              "9388   Appliances                    Avanti 4.4 Cu. Ft. Refrigerator   542.94  \n",
              "9389    Envelopes                          Poly String Tie Envelopes     2.04  \n",
              "9741    Bookcases  Riverside Palais Royal Lawyers Bookcase, Royal...  4404.90  "
            ],
            "text/html": [
              "\n",
              "  <div id=\"df-99d55c97-0033-441f-bbb7-07805b6bba97\" class=\"colab-df-container\">\n",
              "    <div>\n",
              "<style scoped>\n",
              "    .dataframe tbody tr th:only-of-type {\n",
              "        vertical-align: middle;\n",
              "    }\n",
              "\n",
              "    .dataframe tbody tr th {\n",
              "        vertical-align: top;\n",
              "    }\n",
              "\n",
              "    .dataframe thead th {\n",
              "        text-align: right;\n",
              "    }\n",
              "</style>\n",
              "<table border=\"1\" class=\"dataframe\">\n",
              "  <thead>\n",
              "    <tr style=\"text-align: right;\">\n",
              "      <th></th>\n",
              "      <th>row id</th>\n",
              "      <th>order id</th>\n",
              "      <th>order date</th>\n",
              "      <th>ship date</th>\n",
              "      <th>ship mode</th>\n",
              "      <th>customer id</th>\n",
              "      <th>customer name</th>\n",
              "      <th>segment</th>\n",
              "      <th>country</th>\n",
              "      <th>city</th>\n",
              "      <th>state</th>\n",
              "      <th>postal code</th>\n",
              "      <th>region</th>\n",
              "      <th>product id</th>\n",
              "      <th>category</th>\n",
              "      <th>sub-category</th>\n",
              "      <th>product name</th>\n",
              "      <th>sales</th>\n",
              "    </tr>\n",
              "  </thead>\n",
              "  <tbody>\n",
              "    <tr>\n",
              "      <th>2234</th>\n",
              "      <td>2235</td>\n",
              "      <td>CA-2018-104066</td>\n",
              "      <td>2018-12-05</td>\n",
              "      <td>2018-12-10</td>\n",
              "      <td>Standard Class</td>\n",
              "      <td>QJ-19255</td>\n",
              "      <td>Quincy Jones</td>\n",
              "      <td>Corporate</td>\n",
              "      <td>United States</td>\n",
              "      <td>Burlington</td>\n",
              "      <td>Vermont</td>\n",
              "      <td>NaN</td>\n",
              "      <td>East</td>\n",
              "      <td>TEC-AC-10001013</td>\n",
              "      <td>Technology</td>\n",
              "      <td>Accessories</td>\n",
              "      <td>Logitech ClearChat Comfort/USB Headset H390</td>\n",
              "      <td>205.03</td>\n",
              "    </tr>\n",
              "    <tr>\n",
              "      <th>5274</th>\n",
              "      <td>5275</td>\n",
              "      <td>CA-2016-162887</td>\n",
              "      <td>2016-11-07</td>\n",
              "      <td>2016-11-09</td>\n",
              "      <td>Second Class</td>\n",
              "      <td>SV-20785</td>\n",
              "      <td>Stewart Visinsky</td>\n",
              "      <td>Consumer</td>\n",
              "      <td>United States</td>\n",
              "      <td>Burlington</td>\n",
              "      <td>Vermont</td>\n",
              "      <td>NaN</td>\n",
              "      <td>East</td>\n",
              "      <td>FUR-CH-10000595</td>\n",
              "      <td>Furniture</td>\n",
              "      <td>Chairs</td>\n",
              "      <td>Safco Contoured Stacking Chairs</td>\n",
              "      <td>715.20</td>\n",
              "    </tr>\n",
              "    <tr>\n",
              "      <th>8798</th>\n",
              "      <td>8799</td>\n",
              "      <td>US-2017-150140</td>\n",
              "      <td>2017-04-06</td>\n",
              "      <td>2017-04-10</td>\n",
              "      <td>Standard Class</td>\n",
              "      <td>VM-21685</td>\n",
              "      <td>Valerie Mitchum</td>\n",
              "      <td>Home Office</td>\n",
              "      <td>United States</td>\n",
              "      <td>Burlington</td>\n",
              "      <td>Vermont</td>\n",
              "      <td>NaN</td>\n",
              "      <td>East</td>\n",
              "      <td>TEC-PH-10002555</td>\n",
              "      <td>Technology</td>\n",
              "      <td>Phones</td>\n",
              "      <td>Nortel Meridian M5316 Digital phone</td>\n",
              "      <td>1294.75</td>\n",
              "    </tr>\n",
              "    <tr>\n",
              "      <th>9146</th>\n",
              "      <td>9147</td>\n",
              "      <td>US-2017-165505</td>\n",
              "      <td>2017-01-23</td>\n",
              "      <td>2017-01-27</td>\n",
              "      <td>Standard Class</td>\n",
              "      <td>CB-12535</td>\n",
              "      <td>Claudia Bergmann</td>\n",
              "      <td>Corporate</td>\n",
              "      <td>United States</td>\n",
              "      <td>Burlington</td>\n",
              "      <td>Vermont</td>\n",
              "      <td>NaN</td>\n",
              "      <td>East</td>\n",
              "      <td>TEC-AC-10002926</td>\n",
              "      <td>Technology</td>\n",
              "      <td>Accessories</td>\n",
              "      <td>Logitech Wireless Marathon Mouse M705</td>\n",
              "      <td>99.98</td>\n",
              "    </tr>\n",
              "    <tr>\n",
              "      <th>9147</th>\n",
              "      <td>9148</td>\n",
              "      <td>US-2017-165505</td>\n",
              "      <td>2017-01-23</td>\n",
              "      <td>2017-01-27</td>\n",
              "      <td>Standard Class</td>\n",
              "      <td>CB-12535</td>\n",
              "      <td>Claudia Bergmann</td>\n",
              "      <td>Corporate</td>\n",
              "      <td>United States</td>\n",
              "      <td>Burlington</td>\n",
              "      <td>Vermont</td>\n",
              "      <td>NaN</td>\n",
              "      <td>East</td>\n",
              "      <td>OFF-AR-10003477</td>\n",
              "      <td>Office Supplies</td>\n",
              "      <td>Art</td>\n",
              "      <td>4009 Highlighters</td>\n",
              "      <td>8.04</td>\n",
              "    </tr>\n",
              "    <tr>\n",
              "      <th>9148</th>\n",
              "      <td>9149</td>\n",
              "      <td>US-2017-165505</td>\n",
              "      <td>2017-01-23</td>\n",
              "      <td>2017-01-27</td>\n",
              "      <td>Standard Class</td>\n",
              "      <td>CB-12535</td>\n",
              "      <td>Claudia Bergmann</td>\n",
              "      <td>Corporate</td>\n",
              "      <td>United States</td>\n",
              "      <td>Burlington</td>\n",
              "      <td>Vermont</td>\n",
              "      <td>NaN</td>\n",
              "      <td>East</td>\n",
              "      <td>OFF-ST-10001526</td>\n",
              "      <td>Office Supplies</td>\n",
              "      <td>Storage</td>\n",
              "      <td>Iceberg Mobile Mega Data/Printer Cart</td>\n",
              "      <td>1564.29</td>\n",
              "    </tr>\n",
              "    <tr>\n",
              "      <th>9386</th>\n",
              "      <td>9387</td>\n",
              "      <td>US-2018-127292</td>\n",
              "      <td>2018-01-19</td>\n",
              "      <td>2018-01-23</td>\n",
              "      <td>Standard Class</td>\n",
              "      <td>RM-19375</td>\n",
              "      <td>Raymond Messe</td>\n",
              "      <td>Consumer</td>\n",
              "      <td>United States</td>\n",
              "      <td>Burlington</td>\n",
              "      <td>Vermont</td>\n",
              "      <td>NaN</td>\n",
              "      <td>East</td>\n",
              "      <td>OFF-PA-10000157</td>\n",
              "      <td>Office Supplies</td>\n",
              "      <td>Paper</td>\n",
              "      <td>Xerox 191</td>\n",
              "      <td>79.92</td>\n",
              "    </tr>\n",
              "    <tr>\n",
              "      <th>9387</th>\n",
              "      <td>9388</td>\n",
              "      <td>US-2018-127292</td>\n",
              "      <td>2018-01-19</td>\n",
              "      <td>2018-01-23</td>\n",
              "      <td>Standard Class</td>\n",
              "      <td>RM-19375</td>\n",
              "      <td>Raymond Messe</td>\n",
              "      <td>Consumer</td>\n",
              "      <td>United States</td>\n",
              "      <td>Burlington</td>\n",
              "      <td>Vermont</td>\n",
              "      <td>NaN</td>\n",
              "      <td>East</td>\n",
              "      <td>OFF-PA-10001970</td>\n",
              "      <td>Office Supplies</td>\n",
              "      <td>Paper</td>\n",
              "      <td>Xerox 1881</td>\n",
              "      <td>12.28</td>\n",
              "    </tr>\n",
              "    <tr>\n",
              "      <th>9388</th>\n",
              "      <td>9389</td>\n",
              "      <td>US-2018-127292</td>\n",
              "      <td>2018-01-19</td>\n",
              "      <td>2018-01-23</td>\n",
              "      <td>Standard Class</td>\n",
              "      <td>RM-19375</td>\n",
              "      <td>Raymond Messe</td>\n",
              "      <td>Consumer</td>\n",
              "      <td>United States</td>\n",
              "      <td>Burlington</td>\n",
              "      <td>Vermont</td>\n",
              "      <td>NaN</td>\n",
              "      <td>East</td>\n",
              "      <td>OFF-AP-10000828</td>\n",
              "      <td>Office Supplies</td>\n",
              "      <td>Appliances</td>\n",
              "      <td>Avanti 4.4 Cu. Ft. Refrigerator</td>\n",
              "      <td>542.94</td>\n",
              "    </tr>\n",
              "    <tr>\n",
              "      <th>9389</th>\n",
              "      <td>9390</td>\n",
              "      <td>US-2018-127292</td>\n",
              "      <td>2018-01-19</td>\n",
              "      <td>2018-01-23</td>\n",
              "      <td>Standard Class</td>\n",
              "      <td>RM-19375</td>\n",
              "      <td>Raymond Messe</td>\n",
              "      <td>Consumer</td>\n",
              "      <td>United States</td>\n",
              "      <td>Burlington</td>\n",
              "      <td>Vermont</td>\n",
              "      <td>NaN</td>\n",
              "      <td>East</td>\n",
              "      <td>OFF-EN-10001509</td>\n",
              "      <td>Office Supplies</td>\n",
              "      <td>Envelopes</td>\n",
              "      <td>Poly String Tie Envelopes</td>\n",
              "      <td>2.04</td>\n",
              "    </tr>\n",
              "    <tr>\n",
              "      <th>9741</th>\n",
              "      <td>9742</td>\n",
              "      <td>CA-2016-117086</td>\n",
              "      <td>2016-11-08</td>\n",
              "      <td>2016-11-12</td>\n",
              "      <td>Standard Class</td>\n",
              "      <td>QJ-19255</td>\n",
              "      <td>Quincy Jones</td>\n",
              "      <td>Corporate</td>\n",
              "      <td>United States</td>\n",
              "      <td>Burlington</td>\n",
              "      <td>Vermont</td>\n",
              "      <td>NaN</td>\n",
              "      <td>East</td>\n",
              "      <td>FUR-BO-10004834</td>\n",
              "      <td>Furniture</td>\n",
              "      <td>Bookcases</td>\n",
              "      <td>Riverside Palais Royal Lawyers Bookcase, Royal...</td>\n",
              "      <td>4404.90</td>\n",
              "    </tr>\n",
              "  </tbody>\n",
              "</table>\n",
              "</div>\n",
              "    <div class=\"colab-df-buttons\">\n",
              "\n",
              "  <div class=\"colab-df-container\">\n",
              "    <button class=\"colab-df-convert\" onclick=\"convertToInteractive('df-99d55c97-0033-441f-bbb7-07805b6bba97')\"\n",
              "            title=\"Convert this dataframe to an interactive table.\"\n",
              "            style=\"display:none;\">\n",
              "\n",
              "  <svg xmlns=\"http://www.w3.org/2000/svg\" height=\"24px\" viewBox=\"0 -960 960 960\">\n",
              "    <path d=\"M120-120v-720h720v720H120Zm60-500h600v-160H180v160Zm220 220h160v-160H400v160Zm0 220h160v-160H400v160ZM180-400h160v-160H180v160Zm440 0h160v-160H620v160ZM180-180h160v-160H180v160Zm440 0h160v-160H620v160Z\"/>\n",
              "  </svg>\n",
              "    </button>\n",
              "\n",
              "  <style>\n",
              "    .colab-df-container {\n",
              "      display:flex;\n",
              "      gap: 12px;\n",
              "    }\n",
              "\n",
              "    .colab-df-convert {\n",
              "      background-color: #E8F0FE;\n",
              "      border: none;\n",
              "      border-radius: 50%;\n",
              "      cursor: pointer;\n",
              "      display: none;\n",
              "      fill: #1967D2;\n",
              "      height: 32px;\n",
              "      padding: 0 0 0 0;\n",
              "      width: 32px;\n",
              "    }\n",
              "\n",
              "    .colab-df-convert:hover {\n",
              "      background-color: #E2EBFA;\n",
              "      box-shadow: 0px 1px 2px rgba(60, 64, 67, 0.3), 0px 1px 3px 1px rgba(60, 64, 67, 0.15);\n",
              "      fill: #174EA6;\n",
              "    }\n",
              "\n",
              "    .colab-df-buttons div {\n",
              "      margin-bottom: 4px;\n",
              "    }\n",
              "\n",
              "    [theme=dark] .colab-df-convert {\n",
              "      background-color: #3B4455;\n",
              "      fill: #D2E3FC;\n",
              "    }\n",
              "\n",
              "    [theme=dark] .colab-df-convert:hover {\n",
              "      background-color: #434B5C;\n",
              "      box-shadow: 0px 1px 3px 1px rgba(0, 0, 0, 0.15);\n",
              "      filter: drop-shadow(0px 1px 2px rgba(0, 0, 0, 0.3));\n",
              "      fill: #FFFFFF;\n",
              "    }\n",
              "  </style>\n",
              "\n",
              "    <script>\n",
              "      const buttonEl =\n",
              "        document.querySelector('#df-99d55c97-0033-441f-bbb7-07805b6bba97 button.colab-df-convert');\n",
              "      buttonEl.style.display =\n",
              "        google.colab.kernel.accessAllowed ? 'block' : 'none';\n",
              "\n",
              "      async function convertToInteractive(key) {\n",
              "        const element = document.querySelector('#df-99d55c97-0033-441f-bbb7-07805b6bba97');\n",
              "        const dataTable =\n",
              "          await google.colab.kernel.invokeFunction('convertToInteractive',\n",
              "                                                    [key], {});\n",
              "        if (!dataTable) return;\n",
              "\n",
              "        const docLinkHtml = 'Like what you see? Visit the ' +\n",
              "          '<a target=\"_blank\" href=https://colab.research.google.com/notebooks/data_table.ipynb>data table notebook</a>'\n",
              "          + ' to learn more about interactive tables.';\n",
              "        element.innerHTML = '';\n",
              "        dataTable['output_type'] = 'display_data';\n",
              "        await google.colab.output.renderOutput(dataTable, element);\n",
              "        const docLink = document.createElement('div');\n",
              "        docLink.innerHTML = docLinkHtml;\n",
              "        element.appendChild(docLink);\n",
              "      }\n",
              "    </script>\n",
              "  </div>\n",
              "\n",
              "\n",
              "<div id=\"df-6f22e921-b3ae-4e68-ad37-c4fb4dc4559a\">\n",
              "  <button class=\"colab-df-quickchart\" onclick=\"quickchart('df-6f22e921-b3ae-4e68-ad37-c4fb4dc4559a')\"\n",
              "            title=\"Suggest charts\"\n",
              "            style=\"display:none;\">\n",
              "\n",
              "<svg xmlns=\"http://www.w3.org/2000/svg\" height=\"24px\"viewBox=\"0 0 24 24\"\n",
              "     width=\"24px\">\n",
              "    <g>\n",
              "        <path d=\"M19 3H5c-1.1 0-2 .9-2 2v14c0 1.1.9 2 2 2h14c1.1 0 2-.9 2-2V5c0-1.1-.9-2-2-2zM9 17H7v-7h2v7zm4 0h-2V7h2v10zm4 0h-2v-4h2v4z\"/>\n",
              "    </g>\n",
              "</svg>\n",
              "  </button>\n",
              "\n",
              "<style>\n",
              "  .colab-df-quickchart {\n",
              "      --bg-color: #E8F0FE;\n",
              "      --fill-color: #1967D2;\n",
              "      --hover-bg-color: #E2EBFA;\n",
              "      --hover-fill-color: #174EA6;\n",
              "      --disabled-fill-color: #AAA;\n",
              "      --disabled-bg-color: #DDD;\n",
              "  }\n",
              "\n",
              "  [theme=dark] .colab-df-quickchart {\n",
              "      --bg-color: #3B4455;\n",
              "      --fill-color: #D2E3FC;\n",
              "      --hover-bg-color: #434B5C;\n",
              "      --hover-fill-color: #FFFFFF;\n",
              "      --disabled-bg-color: #3B4455;\n",
              "      --disabled-fill-color: #666;\n",
              "  }\n",
              "\n",
              "  .colab-df-quickchart {\n",
              "    background-color: var(--bg-color);\n",
              "    border: none;\n",
              "    border-radius: 50%;\n",
              "    cursor: pointer;\n",
              "    display: none;\n",
              "    fill: var(--fill-color);\n",
              "    height: 32px;\n",
              "    padding: 0;\n",
              "    width: 32px;\n",
              "  }\n",
              "\n",
              "  .colab-df-quickchart:hover {\n",
              "    background-color: var(--hover-bg-color);\n",
              "    box-shadow: 0 1px 2px rgba(60, 64, 67, 0.3), 0 1px 3px 1px rgba(60, 64, 67, 0.15);\n",
              "    fill: var(--button-hover-fill-color);\n",
              "  }\n",
              "\n",
              "  .colab-df-quickchart-complete:disabled,\n",
              "  .colab-df-quickchart-complete:disabled:hover {\n",
              "    background-color: var(--disabled-bg-color);\n",
              "    fill: var(--disabled-fill-color);\n",
              "    box-shadow: none;\n",
              "  }\n",
              "\n",
              "  .colab-df-spinner {\n",
              "    border: 2px solid var(--fill-color);\n",
              "    border-color: transparent;\n",
              "    border-bottom-color: var(--fill-color);\n",
              "    animation:\n",
              "      spin 1s steps(1) infinite;\n",
              "  }\n",
              "\n",
              "  @keyframes spin {\n",
              "    0% {\n",
              "      border-color: transparent;\n",
              "      border-bottom-color: var(--fill-color);\n",
              "      border-left-color: var(--fill-color);\n",
              "    }\n",
              "    20% {\n",
              "      border-color: transparent;\n",
              "      border-left-color: var(--fill-color);\n",
              "      border-top-color: var(--fill-color);\n",
              "    }\n",
              "    30% {\n",
              "      border-color: transparent;\n",
              "      border-left-color: var(--fill-color);\n",
              "      border-top-color: var(--fill-color);\n",
              "      border-right-color: var(--fill-color);\n",
              "    }\n",
              "    40% {\n",
              "      border-color: transparent;\n",
              "      border-right-color: var(--fill-color);\n",
              "      border-top-color: var(--fill-color);\n",
              "    }\n",
              "    60% {\n",
              "      border-color: transparent;\n",
              "      border-right-color: var(--fill-color);\n",
              "    }\n",
              "    80% {\n",
              "      border-color: transparent;\n",
              "      border-right-color: var(--fill-color);\n",
              "      border-bottom-color: var(--fill-color);\n",
              "    }\n",
              "    90% {\n",
              "      border-color: transparent;\n",
              "      border-bottom-color: var(--fill-color);\n",
              "    }\n",
              "  }\n",
              "</style>\n",
              "\n",
              "  <script>\n",
              "    async function quickchart(key) {\n",
              "      const quickchartButtonEl =\n",
              "        document.querySelector('#' + key + ' button');\n",
              "      quickchartButtonEl.disabled = true;  // To prevent multiple clicks.\n",
              "      quickchartButtonEl.classList.add('colab-df-spinner');\n",
              "      try {\n",
              "        const charts = await google.colab.kernel.invokeFunction(\n",
              "            'suggestCharts', [key], {});\n",
              "      } catch (error) {\n",
              "        console.error('Error during call to suggestCharts:', error);\n",
              "      }\n",
              "      quickchartButtonEl.classList.remove('colab-df-spinner');\n",
              "      quickchartButtonEl.classList.add('colab-df-quickchart-complete');\n",
              "    }\n",
              "    (() => {\n",
              "      let quickchartButtonEl =\n",
              "        document.querySelector('#df-6f22e921-b3ae-4e68-ad37-c4fb4dc4559a button');\n",
              "      quickchartButtonEl.style.display =\n",
              "        google.colab.kernel.accessAllowed ? 'block' : 'none';\n",
              "    })();\n",
              "  </script>\n",
              "</div>\n",
              "\n",
              "    </div>\n",
              "  </div>\n"
            ],
            "application/vnd.google.colaboratory.intrinsic+json": {
              "type": "dataframe",
              "summary": "{\n  \"name\": \"data[data['postal code']\",\n  \"rows\": 11,\n  \"fields\": [\n    {\n      \"column\": \"row id\",\n      \"properties\": {\n        \"dtype\": \"number\",\n        \"std\": 2348,\n        \"min\": 2235,\n        \"max\": 9742,\n        \"num_unique_values\": 11,\n        \"samples\": [\n          9149,\n          2235,\n          9390\n        ],\n        \"semantic_type\": \"\",\n        \"description\": \"\"\n      }\n    },\n    {\n      \"column\": \"order id\",\n      \"properties\": {\n        \"dtype\": \"string\",\n        \"num_unique_values\": 6,\n        \"samples\": [\n          \"CA-2018-104066\",\n          \"CA-2016-162887\",\n          \"CA-2016-117086\"\n        ],\n        \"semantic_type\": \"\",\n        \"description\": \"\"\n      }\n    },\n    {\n      \"column\": \"order date\",\n      \"properties\": {\n        \"dtype\": \"date\",\n        \"min\": \"2016-11-07 00:00:00\",\n        \"max\": \"2018-12-05 00:00:00\",\n        \"num_unique_values\": 6,\n        \"samples\": [\n          \"2018-12-05 00:00:00\",\n          \"2016-11-07 00:00:00\",\n          \"2016-11-08 00:00:00\"\n        ],\n        \"semantic_type\": \"\",\n        \"description\": \"\"\n      }\n    },\n    {\n      \"column\": \"ship date\",\n      \"properties\": {\n        \"dtype\": \"date\",\n        \"min\": \"2016-11-09 00:00:00\",\n        \"max\": \"2018-12-10 00:00:00\",\n        \"num_unique_values\": 6,\n        \"samples\": [\n          \"2018-12-10 00:00:00\",\n          \"2016-11-09 00:00:00\",\n          \"2016-11-12 00:00:00\"\n        ],\n        \"semantic_type\": \"\",\n        \"description\": \"\"\n      }\n    },\n    {\n      \"column\": \"ship mode\",\n      \"properties\": {\n        \"dtype\": \"category\",\n        \"num_unique_values\": 2,\n        \"samples\": [\n          \"Second Class\",\n          \"Standard Class\"\n        ],\n        \"semantic_type\": \"\",\n        \"description\": \"\"\n      }\n    },\n    {\n      \"column\": \"customer id\",\n      \"properties\": {\n        \"dtype\": \"category\",\n        \"num_unique_values\": 5,\n        \"samples\": [\n          \"SV-20785\",\n          \"RM-19375\"\n        ],\n        \"semantic_type\": \"\",\n        \"description\": \"\"\n      }\n    },\n    {\n      \"column\": \"customer name\",\n      \"properties\": {\n        \"dtype\": \"category\",\n        \"num_unique_values\": 5,\n        \"samples\": [\n          \"Stewart Visinsky\",\n          \"Raymond Messe\"\n        ],\n        \"semantic_type\": \"\",\n        \"description\": \"\"\n      }\n    },\n    {\n      \"column\": \"segment\",\n      \"properties\": {\n        \"dtype\": \"category\",\n        \"num_unique_values\": 3,\n        \"samples\": [\n          \"Corporate\",\n          \"Consumer\"\n        ],\n        \"semantic_type\": \"\",\n        \"description\": \"\"\n      }\n    },\n    {\n      \"column\": \"country\",\n      \"properties\": {\n        \"dtype\": \"category\",\n        \"num_unique_values\": 1,\n        \"samples\": [\n          \"United States\"\n        ],\n        \"semantic_type\": \"\",\n        \"description\": \"\"\n      }\n    },\n    {\n      \"column\": \"city\",\n      \"properties\": {\n        \"dtype\": \"category\",\n        \"num_unique_values\": 1,\n        \"samples\": [\n          \"Burlington\"\n        ],\n        \"semantic_type\": \"\",\n        \"description\": \"\"\n      }\n    },\n    {\n      \"column\": \"state\",\n      \"properties\": {\n        \"dtype\": \"category\",\n        \"num_unique_values\": 1,\n        \"samples\": [\n          \"Vermont\"\n        ],\n        \"semantic_type\": \"\",\n        \"description\": \"\"\n      }\n    },\n    {\n      \"column\": \"postal code\",\n      \"properties\": {\n        \"dtype\": \"number\",\n        \"std\": null,\n        \"min\": null,\n        \"max\": null,\n        \"num_unique_values\": 0,\n        \"samples\": [],\n        \"semantic_type\": \"\",\n        \"description\": \"\"\n      }\n    },\n    {\n      \"column\": \"region\",\n      \"properties\": {\n        \"dtype\": \"category\",\n        \"num_unique_values\": 1,\n        \"samples\": [],\n        \"semantic_type\": \"\",\n        \"description\": \"\"\n      }\n    },\n    {\n      \"column\": \"product id\",\n      \"properties\": {\n        \"dtype\": \"string\",\n        \"num_unique_values\": 11,\n        \"samples\": [],\n        \"semantic_type\": \"\",\n        \"description\": \"\"\n      }\n    },\n    {\n      \"column\": \"category\",\n      \"properties\": {\n        \"dtype\": \"category\",\n        \"num_unique_values\": 3,\n        \"samples\": [],\n        \"semantic_type\": \"\",\n        \"description\": \"\"\n      }\n    },\n    {\n      \"column\": \"sub-category\",\n      \"properties\": {\n        \"dtype\": \"string\",\n        \"num_unique_values\": 9,\n        \"samples\": [],\n        \"semantic_type\": \"\",\n        \"description\": \"\"\n      }\n    },\n    {\n      \"column\": \"product name\",\n      \"properties\": {\n        \"dtype\": \"string\",\n        \"num_unique_values\": 11,\n        \"samples\": [],\n        \"semantic_type\": \"\",\n        \"description\": \"\"\n      }\n    },\n    {\n      \"column\": \"sales\",\n      \"properties\": {\n        \"dtype\": \"number\",\n        \"std\": 1309.310744655023,\n        \"min\": 2.04,\n        \"max\": 4404.9,\n        \"num_unique_values\": 11,\n        \"samples\": [],\n        \"semantic_type\": \"\",\n        \"description\": \"\"\n      }\n    }\n  ]\n}"
            }
          },
          "metadata": {},
          "execution_count": 12
        }
      ]
    },
    {
      "cell_type": "code",
      "source": [
        "data['postal code'] = data['postal code'].fillna(05402.0)"
      ],
      "metadata": {
        "id": "wj2eAnOZqjGE"
      },
      "execution_count": null,
      "outputs": []
    },
    {
      "cell_type": "code",
      "source": [
        "data['postal code'] = data['postal code'].astype(int)"
      ],
      "metadata": {
        "id": "8jKUYiUzp90h"
      },
      "execution_count": null,
      "outputs": []
    },
    {
      "cell_type": "code",
      "source": [
        "data[data['postal code']== 05402.0].head(3)"
      ],
      "metadata": {
        "colab": {
          "base_uri": "https://localhost:8080/",
          "height": 334
        },
        "id": "8gfzLjx9uHU_",
        "outputId": "0209b50c-1ed1-4a79-b30b-ae5a19fc2b22"
      },
      "execution_count": null,
      "outputs": [
        {
          "output_type": "execute_result",
          "data": {
            "text/plain": [
              "      row id        order id order date  ship date       ship mode  \\\n",
              "2234    2235  CA-2018-104066 2018-12-05 2018-12-10  Standard Class   \n",
              "5274    5275  CA-2016-162887 2016-11-07 2016-11-09    Second Class   \n",
              "8798    8799  US-2017-150140 2017-04-06 2017-04-10  Standard Class   \n",
              "\n",
              "     customer id     customer name      segment        country        city  \\\n",
              "2234    QJ-19255      Quincy Jones    Corporate  United States  Burlington   \n",
              "5274    SV-20785  Stewart Visinsky     Consumer  United States  Burlington   \n",
              "8798    VM-21685   Valerie Mitchum  Home Office  United States  Burlington   \n",
              "\n",
              "        state  postal code region       product id    category sub-category  \\\n",
              "2234  Vermont         5402   East  TEC-AC-10001013  Technology  Accessories   \n",
              "5274  Vermont         5402   East  FUR-CH-10000595   Furniture       Chairs   \n",
              "8798  Vermont         5402   East  TEC-PH-10002555  Technology       Phones   \n",
              "\n",
              "                                     product name    sales  \n",
              "2234  Logitech ClearChat Comfort/USB Headset H390   205.03  \n",
              "5274              Safco Contoured Stacking Chairs   715.20  \n",
              "8798          Nortel Meridian M5316 Digital phone  1294.75  "
            ],
            "text/html": [
              "\n",
              "  <div id=\"df-08b5bf76-cd49-4885-8181-07a0903f77a3\" class=\"colab-df-container\">\n",
              "    <div>\n",
              "<style scoped>\n",
              "    .dataframe tbody tr th:only-of-type {\n",
              "        vertical-align: middle;\n",
              "    }\n",
              "\n",
              "    .dataframe tbody tr th {\n",
              "        vertical-align: top;\n",
              "    }\n",
              "\n",
              "    .dataframe thead th {\n",
              "        text-align: right;\n",
              "    }\n",
              "</style>\n",
              "<table border=\"1\" class=\"dataframe\">\n",
              "  <thead>\n",
              "    <tr style=\"text-align: right;\">\n",
              "      <th></th>\n",
              "      <th>row id</th>\n",
              "      <th>order id</th>\n",
              "      <th>order date</th>\n",
              "      <th>ship date</th>\n",
              "      <th>ship mode</th>\n",
              "      <th>customer id</th>\n",
              "      <th>customer name</th>\n",
              "      <th>segment</th>\n",
              "      <th>country</th>\n",
              "      <th>city</th>\n",
              "      <th>state</th>\n",
              "      <th>postal code</th>\n",
              "      <th>region</th>\n",
              "      <th>product id</th>\n",
              "      <th>category</th>\n",
              "      <th>sub-category</th>\n",
              "      <th>product name</th>\n",
              "      <th>sales</th>\n",
              "    </tr>\n",
              "  </thead>\n",
              "  <tbody>\n",
              "    <tr>\n",
              "      <th>2234</th>\n",
              "      <td>2235</td>\n",
              "      <td>CA-2018-104066</td>\n",
              "      <td>2018-12-05</td>\n",
              "      <td>2018-12-10</td>\n",
              "      <td>Standard Class</td>\n",
              "      <td>QJ-19255</td>\n",
              "      <td>Quincy Jones</td>\n",
              "      <td>Corporate</td>\n",
              "      <td>United States</td>\n",
              "      <td>Burlington</td>\n",
              "      <td>Vermont</td>\n",
              "      <td>5402</td>\n",
              "      <td>East</td>\n",
              "      <td>TEC-AC-10001013</td>\n",
              "      <td>Technology</td>\n",
              "      <td>Accessories</td>\n",
              "      <td>Logitech ClearChat Comfort/USB Headset H390</td>\n",
              "      <td>205.03</td>\n",
              "    </tr>\n",
              "    <tr>\n",
              "      <th>5274</th>\n",
              "      <td>5275</td>\n",
              "      <td>CA-2016-162887</td>\n",
              "      <td>2016-11-07</td>\n",
              "      <td>2016-11-09</td>\n",
              "      <td>Second Class</td>\n",
              "      <td>SV-20785</td>\n",
              "      <td>Stewart Visinsky</td>\n",
              "      <td>Consumer</td>\n",
              "      <td>United States</td>\n",
              "      <td>Burlington</td>\n",
              "      <td>Vermont</td>\n",
              "      <td>5402</td>\n",
              "      <td>East</td>\n",
              "      <td>FUR-CH-10000595</td>\n",
              "      <td>Furniture</td>\n",
              "      <td>Chairs</td>\n",
              "      <td>Safco Contoured Stacking Chairs</td>\n",
              "      <td>715.20</td>\n",
              "    </tr>\n",
              "    <tr>\n",
              "      <th>8798</th>\n",
              "      <td>8799</td>\n",
              "      <td>US-2017-150140</td>\n",
              "      <td>2017-04-06</td>\n",
              "      <td>2017-04-10</td>\n",
              "      <td>Standard Class</td>\n",
              "      <td>VM-21685</td>\n",
              "      <td>Valerie Mitchum</td>\n",
              "      <td>Home Office</td>\n",
              "      <td>United States</td>\n",
              "      <td>Burlington</td>\n",
              "      <td>Vermont</td>\n",
              "      <td>5402</td>\n",
              "      <td>East</td>\n",
              "      <td>TEC-PH-10002555</td>\n",
              "      <td>Technology</td>\n",
              "      <td>Phones</td>\n",
              "      <td>Nortel Meridian M5316 Digital phone</td>\n",
              "      <td>1294.75</td>\n",
              "    </tr>\n",
              "  </tbody>\n",
              "</table>\n",
              "</div>\n",
              "    <div class=\"colab-df-buttons\">\n",
              "\n",
              "  <div class=\"colab-df-container\">\n",
              "    <button class=\"colab-df-convert\" onclick=\"convertToInteractive('df-08b5bf76-cd49-4885-8181-07a0903f77a3')\"\n",
              "            title=\"Convert this dataframe to an interactive table.\"\n",
              "            style=\"display:none;\">\n",
              "\n",
              "  <svg xmlns=\"http://www.w3.org/2000/svg\" height=\"24px\" viewBox=\"0 -960 960 960\">\n",
              "    <path d=\"M120-120v-720h720v720H120Zm60-500h600v-160H180v160Zm220 220h160v-160H400v160Zm0 220h160v-160H400v160ZM180-400h160v-160H180v160Zm440 0h160v-160H620v160ZM180-180h160v-160H180v160Zm440 0h160v-160H620v160Z\"/>\n",
              "  </svg>\n",
              "    </button>\n",
              "\n",
              "  <style>\n",
              "    .colab-df-container {\n",
              "      display:flex;\n",
              "      gap: 12px;\n",
              "    }\n",
              "\n",
              "    .colab-df-convert {\n",
              "      background-color: #E8F0FE;\n",
              "      border: none;\n",
              "      border-radius: 50%;\n",
              "      cursor: pointer;\n",
              "      display: none;\n",
              "      fill: #1967D2;\n",
              "      height: 32px;\n",
              "      padding: 0 0 0 0;\n",
              "      width: 32px;\n",
              "    }\n",
              "\n",
              "    .colab-df-convert:hover {\n",
              "      background-color: #E2EBFA;\n",
              "      box-shadow: 0px 1px 2px rgba(60, 64, 67, 0.3), 0px 1px 3px 1px rgba(60, 64, 67, 0.15);\n",
              "      fill: #174EA6;\n",
              "    }\n",
              "\n",
              "    .colab-df-buttons div {\n",
              "      margin-bottom: 4px;\n",
              "    }\n",
              "\n",
              "    [theme=dark] .colab-df-convert {\n",
              "      background-color: #3B4455;\n",
              "      fill: #D2E3FC;\n",
              "    }\n",
              "\n",
              "    [theme=dark] .colab-df-convert:hover {\n",
              "      background-color: #434B5C;\n",
              "      box-shadow: 0px 1px 3px 1px rgba(0, 0, 0, 0.15);\n",
              "      filter: drop-shadow(0px 1px 2px rgba(0, 0, 0, 0.3));\n",
              "      fill: #FFFFFF;\n",
              "    }\n",
              "  </style>\n",
              "\n",
              "    <script>\n",
              "      const buttonEl =\n",
              "        document.querySelector('#df-08b5bf76-cd49-4885-8181-07a0903f77a3 button.colab-df-convert');\n",
              "      buttonEl.style.display =\n",
              "        google.colab.kernel.accessAllowed ? 'block' : 'none';\n",
              "\n",
              "      async function convertToInteractive(key) {\n",
              "        const element = document.querySelector('#df-08b5bf76-cd49-4885-8181-07a0903f77a3');\n",
              "        const dataTable =\n",
              "          await google.colab.kernel.invokeFunction('convertToInteractive',\n",
              "                                                    [key], {});\n",
              "        if (!dataTable) return;\n",
              "\n",
              "        const docLinkHtml = 'Like what you see? Visit the ' +\n",
              "          '<a target=\"_blank\" href=https://colab.research.google.com/notebooks/data_table.ipynb>data table notebook</a>'\n",
              "          + ' to learn more about interactive tables.';\n",
              "        element.innerHTML = '';\n",
              "        dataTable['output_type'] = 'display_data';\n",
              "        await google.colab.output.renderOutput(dataTable, element);\n",
              "        const docLink = document.createElement('div');\n",
              "        docLink.innerHTML = docLinkHtml;\n",
              "        element.appendChild(docLink);\n",
              "      }\n",
              "    </script>\n",
              "  </div>\n",
              "\n",
              "\n",
              "<div id=\"df-9931a730-c583-46a7-a730-aa6ef0776083\">\n",
              "  <button class=\"colab-df-quickchart\" onclick=\"quickchart('df-9931a730-c583-46a7-a730-aa6ef0776083')\"\n",
              "            title=\"Suggest charts\"\n",
              "            style=\"display:none;\">\n",
              "\n",
              "<svg xmlns=\"http://www.w3.org/2000/svg\" height=\"24px\"viewBox=\"0 0 24 24\"\n",
              "     width=\"24px\">\n",
              "    <g>\n",
              "        <path d=\"M19 3H5c-1.1 0-2 .9-2 2v14c0 1.1.9 2 2 2h14c1.1 0 2-.9 2-2V5c0-1.1-.9-2-2-2zM9 17H7v-7h2v7zm4 0h-2V7h2v10zm4 0h-2v-4h2v4z\"/>\n",
              "    </g>\n",
              "</svg>\n",
              "  </button>\n",
              "\n",
              "<style>\n",
              "  .colab-df-quickchart {\n",
              "      --bg-color: #E8F0FE;\n",
              "      --fill-color: #1967D2;\n",
              "      --hover-bg-color: #E2EBFA;\n",
              "      --hover-fill-color: #174EA6;\n",
              "      --disabled-fill-color: #AAA;\n",
              "      --disabled-bg-color: #DDD;\n",
              "  }\n",
              "\n",
              "  [theme=dark] .colab-df-quickchart {\n",
              "      --bg-color: #3B4455;\n",
              "      --fill-color: #D2E3FC;\n",
              "      --hover-bg-color: #434B5C;\n",
              "      --hover-fill-color: #FFFFFF;\n",
              "      --disabled-bg-color: #3B4455;\n",
              "      --disabled-fill-color: #666;\n",
              "  }\n",
              "\n",
              "  .colab-df-quickchart {\n",
              "    background-color: var(--bg-color);\n",
              "    border: none;\n",
              "    border-radius: 50%;\n",
              "    cursor: pointer;\n",
              "    display: none;\n",
              "    fill: var(--fill-color);\n",
              "    height: 32px;\n",
              "    padding: 0;\n",
              "    width: 32px;\n",
              "  }\n",
              "\n",
              "  .colab-df-quickchart:hover {\n",
              "    background-color: var(--hover-bg-color);\n",
              "    box-shadow: 0 1px 2px rgba(60, 64, 67, 0.3), 0 1px 3px 1px rgba(60, 64, 67, 0.15);\n",
              "    fill: var(--button-hover-fill-color);\n",
              "  }\n",
              "\n",
              "  .colab-df-quickchart-complete:disabled,\n",
              "  .colab-df-quickchart-complete:disabled:hover {\n",
              "    background-color: var(--disabled-bg-color);\n",
              "    fill: var(--disabled-fill-color);\n",
              "    box-shadow: none;\n",
              "  }\n",
              "\n",
              "  .colab-df-spinner {\n",
              "    border: 2px solid var(--fill-color);\n",
              "    border-color: transparent;\n",
              "    border-bottom-color: var(--fill-color);\n",
              "    animation:\n",
              "      spin 1s steps(1) infinite;\n",
              "  }\n",
              "\n",
              "  @keyframes spin {\n",
              "    0% {\n",
              "      border-color: transparent;\n",
              "      border-bottom-color: var(--fill-color);\n",
              "      border-left-color: var(--fill-color);\n",
              "    }\n",
              "    20% {\n",
              "      border-color: transparent;\n",
              "      border-left-color: var(--fill-color);\n",
              "      border-top-color: var(--fill-color);\n",
              "    }\n",
              "    30% {\n",
              "      border-color: transparent;\n",
              "      border-left-color: var(--fill-color);\n",
              "      border-top-color: var(--fill-color);\n",
              "      border-right-color: var(--fill-color);\n",
              "    }\n",
              "    40% {\n",
              "      border-color: transparent;\n",
              "      border-right-color: var(--fill-color);\n",
              "      border-top-color: var(--fill-color);\n",
              "    }\n",
              "    60% {\n",
              "      border-color: transparent;\n",
              "      border-right-color: var(--fill-color);\n",
              "    }\n",
              "    80% {\n",
              "      border-color: transparent;\n",
              "      border-right-color: var(--fill-color);\n",
              "      border-bottom-color: var(--fill-color);\n",
              "    }\n",
              "    90% {\n",
              "      border-color: transparent;\n",
              "      border-bottom-color: var(--fill-color);\n",
              "    }\n",
              "  }\n",
              "</style>\n",
              "\n",
              "  <script>\n",
              "    async function quickchart(key) {\n",
              "      const quickchartButtonEl =\n",
              "        document.querySelector('#' + key + ' button');\n",
              "      quickchartButtonEl.disabled = true;  // To prevent multiple clicks.\n",
              "      quickchartButtonEl.classList.add('colab-df-spinner');\n",
              "      try {\n",
              "        const charts = await google.colab.kernel.invokeFunction(\n",
              "            'suggestCharts', [key], {});\n",
              "      } catch (error) {\n",
              "        console.error('Error during call to suggestCharts:', error);\n",
              "      }\n",
              "      quickchartButtonEl.classList.remove('colab-df-spinner');\n",
              "      quickchartButtonEl.classList.add('colab-df-quickchart-complete');\n",
              "    }\n",
              "    (() => {\n",
              "      let quickchartButtonEl =\n",
              "        document.querySelector('#df-9931a730-c583-46a7-a730-aa6ef0776083 button');\n",
              "      quickchartButtonEl.style.display =\n",
              "        google.colab.kernel.accessAllowed ? 'block' : 'none';\n",
              "    })();\n",
              "  </script>\n",
              "</div>\n",
              "\n",
              "    </div>\n",
              "  </div>\n"
            ],
            "application/vnd.google.colaboratory.intrinsic+json": {
              "type": "dataframe",
              "summary": "{\n  \"name\": \"data[data['postal code']== 05402\",\n  \"rows\": 3,\n  \"fields\": [\n    {\n      \"column\": \"row id\",\n      \"properties\": {\n        \"dtype\": \"number\",\n        \"std\": 3284,\n        \"min\": 2235,\n        \"max\": 8799,\n        \"num_unique_values\": 3,\n        \"samples\": [\n          2235,\n          5275,\n          8799\n        ],\n        \"semantic_type\": \"\",\n        \"description\": \"\"\n      }\n    },\n    {\n      \"column\": \"order id\",\n      \"properties\": {\n        \"dtype\": \"string\",\n        \"num_unique_values\": 3,\n        \"samples\": [\n          \"CA-2018-104066\",\n          \"CA-2016-162887\",\n          \"US-2017-150140\"\n        ],\n        \"semantic_type\": \"\",\n        \"description\": \"\"\n      }\n    },\n    {\n      \"column\": \"order date\",\n      \"properties\": {\n        \"dtype\": \"date\",\n        \"min\": \"2016-11-07 00:00:00\",\n        \"max\": \"2018-12-05 00:00:00\",\n        \"num_unique_values\": 3,\n        \"samples\": [\n          \"2018-12-05 00:00:00\",\n          \"2016-11-07 00:00:00\",\n          \"2017-04-06 00:00:00\"\n        ],\n        \"semantic_type\": \"\",\n        \"description\": \"\"\n      }\n    },\n    {\n      \"column\": \"ship date\",\n      \"properties\": {\n        \"dtype\": \"date\",\n        \"min\": \"2016-11-09 00:00:00\",\n        \"max\": \"2018-12-10 00:00:00\",\n        \"num_unique_values\": 3,\n        \"samples\": [\n          \"2018-12-10 00:00:00\",\n          \"2016-11-09 00:00:00\",\n          \"2017-04-10 00:00:00\"\n        ],\n        \"semantic_type\": \"\",\n        \"description\": \"\"\n      }\n    },\n    {\n      \"column\": \"ship mode\",\n      \"properties\": {\n        \"dtype\": \"string\",\n        \"num_unique_values\": 2,\n        \"samples\": [\n          \"Second Class\",\n          \"Standard Class\"\n        ],\n        \"semantic_type\": \"\",\n        \"description\": \"\"\n      }\n    },\n    {\n      \"column\": \"customer id\",\n      \"properties\": {\n        \"dtype\": \"string\",\n        \"num_unique_values\": 3,\n        \"samples\": [\n          \"QJ-19255\",\n          \"SV-20785\"\n        ],\n        \"semantic_type\": \"\",\n        \"description\": \"\"\n      }\n    },\n    {\n      \"column\": \"customer name\",\n      \"properties\": {\n        \"dtype\": \"string\",\n        \"num_unique_values\": 3,\n        \"samples\": [\n          \"Quincy Jones\",\n          \"Stewart Visinsky\"\n        ],\n        \"semantic_type\": \"\",\n        \"description\": \"\"\n      }\n    },\n    {\n      \"column\": \"segment\",\n      \"properties\": {\n        \"dtype\": \"string\",\n        \"num_unique_values\": 3,\n        \"samples\": [\n          \"Corporate\",\n          \"Consumer\"\n        ],\n        \"semantic_type\": \"\",\n        \"description\": \"\"\n      }\n    },\n    {\n      \"column\": \"country\",\n      \"properties\": {\n        \"dtype\": \"category\",\n        \"num_unique_values\": 1,\n        \"samples\": [\n          \"United States\"\n        ],\n        \"semantic_type\": \"\",\n        \"description\": \"\"\n      }\n    },\n    {\n      \"column\": \"city\",\n      \"properties\": {\n        \"dtype\": \"category\",\n        \"num_unique_values\": 1,\n        \"samples\": [\n          \"Burlington\"\n        ],\n        \"semantic_type\": \"\",\n        \"description\": \"\"\n      }\n    },\n    {\n      \"column\": \"state\",\n      \"properties\": {\n        \"dtype\": \"category\",\n        \"num_unique_values\": 1,\n        \"samples\": [\n          \"Vermont\"\n        ],\n        \"semantic_type\": \"\",\n        \"description\": \"\"\n      }\n    },\n    {\n      \"column\": \"postal code\",\n      \"properties\": {\n        \"dtype\": \"number\",\n        \"std\": 0,\n        \"min\": 5402,\n        \"max\": 5402,\n        \"num_unique_values\": 1,\n        \"samples\": [\n          5402\n        ],\n        \"semantic_type\": \"\",\n        \"description\": \"\"\n      }\n    },\n    {\n      \"column\": \"region\",\n      \"properties\": {\n        \"dtype\": \"category\",\n        \"num_unique_values\": 1,\n        \"samples\": [\n          \"East\"\n        ],\n        \"semantic_type\": \"\",\n        \"description\": \"\"\n      }\n    },\n    {\n      \"column\": \"product id\",\n      \"properties\": {\n        \"dtype\": \"string\",\n        \"num_unique_values\": 3,\n        \"samples\": [\n          \"TEC-AC-10001013\"\n        ],\n        \"semantic_type\": \"\",\n        \"description\": \"\"\n      }\n    },\n    {\n      \"column\": \"category\",\n      \"properties\": {\n        \"dtype\": \"string\",\n        \"num_unique_values\": 2,\n        \"samples\": [\n          \"Furniture\"\n        ],\n        \"semantic_type\": \"\",\n        \"description\": \"\"\n      }\n    },\n    {\n      \"column\": \"sub-category\",\n      \"properties\": {\n        \"dtype\": \"string\",\n        \"num_unique_values\": 3,\n        \"samples\": [\n          \"Accessories\"\n        ],\n        \"semantic_type\": \"\",\n        \"description\": \"\"\n      }\n    },\n    {\n      \"column\": \"product name\",\n      \"properties\": {\n        \"dtype\": \"string\",\n        \"num_unique_values\": 3,\n        \"samples\": [\n          \"Logitech ClearChat Comfort/USB Headset H390\"\n        ],\n        \"semantic_type\": \"\",\n        \"description\": \"\"\n      }\n    },\n    {\n      \"column\": \"sales\",\n      \"properties\": {\n        \"dtype\": \"number\",\n        \"std\": 545.2279813374707,\n        \"min\": 205.03,\n        \"max\": 1294.75,\n        \"num_unique_values\": 3,\n        \"samples\": [\n          205.03\n        ],\n        \"semantic_type\": \"\",\n        \"description\": \"\"\n      }\n    }\n  ]\n}"
            }
          },
          "metadata": {},
          "execution_count": 15
        }
      ]
    },
    {
      "cell_type": "markdown",
      "source": [
        "_Checking for duplicate data if any:"
      ],
      "metadata": {
        "id": "RA4aG16zSh6A"
      }
    },
    {
      "cell_type": "code",
      "source": [
        "data.duplicated().any()"
      ],
      "metadata": {
        "colab": {
          "base_uri": "https://localhost:8080/"
        },
        "id": "SQmMoGLitICs",
        "outputId": "42c4876c-e328-4b97-db4b-51158df04488"
      },
      "execution_count": null,
      "outputs": [
        {
          "output_type": "execute_result",
          "data": {
            "text/plain": [
              "False"
            ]
          },
          "metadata": {},
          "execution_count": 16
        }
      ]
    },
    {
      "cell_type": "markdown",
      "source": [
        "**Univariet Analysis**\n",
        "\n",
        "---\n",
        "\n"
      ],
      "metadata": {
        "id": "tMLVYVHeTA2g"
      }
    },
    {
      "cell_type": "markdown",
      "source": [
        "_Separating numerical and categorical data:"
      ],
      "metadata": {
        "id": "NB3nBiwJTNXi"
      }
    },
    {
      "cell_type": "markdown",
      "source": [
        "1. Categoric_feature"
      ],
      "metadata": {
        "id": "eVEggUD2Uia-"
      }
    },
    {
      "cell_type": "code",
      "source": [
        "categoric_feature = data[['ship mode','customer name', 'segment', 'country', 'city', 'state', 'region', 'product id', 'category', 'sub-category', 'product name']]"
      ],
      "metadata": {
        "id": "QTqhG8xr4mRl"
      },
      "execution_count": null,
      "outputs": []
    },
    {
      "cell_type": "markdown",
      "source": [
        "2. Numeric_discrete"
      ],
      "metadata": {
        "id": "KM1Y8G34VA3u"
      }
    },
    {
      "cell_type": "code",
      "source": [
        "numeric_discrete = data.select_dtypes(include=['int64'])"
      ],
      "metadata": {
        "id": "o6_81A7pUxex"
      },
      "execution_count": null,
      "outputs": []
    },
    {
      "cell_type": "code",
      "source": [
        "numeric_discrete = list(data.select_dtypes(include=['int64']).columns)"
      ],
      "metadata": {
        "id": "an8Bn9AfTxDG"
      },
      "execution_count": null,
      "outputs": []
    },
    {
      "cell_type": "code",
      "source": [
        "print(numeric_discrete)"
      ],
      "metadata": {
        "id": "BL9cMRGVT2Ij",
        "colab": {
          "base_uri": "https://localhost:8080/"
        },
        "outputId": "f97a182f-e5bc-40d3-acae-e40e1ee42a7a"
      },
      "execution_count": null,
      "outputs": [
        {
          "output_type": "stream",
          "name": "stdout",
          "text": [
            "['row id', 'postal code']\n"
          ]
        }
      ]
    },
    {
      "cell_type": "markdown",
      "source": [
        "3. Numeric_continuous"
      ],
      "metadata": {
        "id": "V9pbgdKpVEn3"
      }
    },
    {
      "cell_type": "code",
      "source": [
        "numeric_continuous = data.select_dtypes(include=['float64'])"
      ],
      "metadata": {
        "id": "mWCoukWuVJdl"
      },
      "execution_count": null,
      "outputs": []
    },
    {
      "cell_type": "code",
      "source": [
        "numeric_continuous = list(data.select_dtypes(include=['float64']).columns)"
      ],
      "metadata": {
        "id": "WNpiNXEWT5vg"
      },
      "execution_count": null,
      "outputs": []
    },
    {
      "cell_type": "code",
      "source": [
        "print(numeric_continuous)"
      ],
      "metadata": {
        "id": "-EBbNnShT9xi",
        "colab": {
          "base_uri": "https://localhost:8080/"
        },
        "outputId": "7815edb4-2a1e-4b96-a7e3-1f5ad00159a7"
      },
      "execution_count": null,
      "outputs": [
        {
          "output_type": "stream",
          "name": "stdout",
          "text": [
            "['sales']\n"
          ]
        }
      ]
    },
    {
      "cell_type": "markdown",
      "source": [
        "_Non-Visual Analysis:"
      ],
      "metadata": {
        "id": "_cAbl1uTUC7u"
      }
    },
    {
      "cell_type": "code",
      "source": [
        "def discrete_feature(discrete_feature):\n",
        "  for col in discrete_feature:\n",
        "    print('*'*5 , col , '*'*5)\n",
        "    print(discrete_feature[col].agg(['count','nunique','unique']))\n",
        "    print('value_count: \\n', discrete_feature[col].value_counts())\n",
        "    print()"
      ],
      "metadata": {
        "id": "kZKONNkBUKDQ"
      },
      "execution_count": null,
      "outputs": []
    },
    {
      "cell_type": "markdown",
      "source": [
        "1. Categoric_feature"
      ],
      "metadata": {
        "id": "fbQRbbRDXEJY"
      }
    },
    {
      "cell_type": "code",
      "source": [
        "discrete_feature(categoric_feature)"
      ],
      "metadata": {
        "id": "8D2YJJBhU0yd",
        "colab": {
          "base_uri": "https://localhost:8080/"
        },
        "outputId": "668a50f9-11bf-4f8a-c74b-1d91865a168c"
      },
      "execution_count": null,
      "outputs": [
        {
          "output_type": "stream",
          "name": "stdout",
          "text": [
            "***** ship mode *****\n",
            "count                                                   9800\n",
            "nunique                                                    4\n",
            "unique     [Second Class, Standard Class, First Class, Sa...\n",
            "Name: ship mode, dtype: object\n",
            "value_count: \n",
            " Standard Class    5859\n",
            "Second Class      1902\n",
            "First Class       1501\n",
            "Same Day           538\n",
            "Name: ship mode, dtype: int64\n",
            "\n",
            "***** customer name *****\n",
            "count                                                   9800\n",
            "nunique                                                  793\n",
            "unique     [Claire Gute, Darrin Van Huff, Sean O'Donnell,...\n",
            "Name: customer name, dtype: object\n",
            "value_count: \n",
            " William Brown          35\n",
            "Matt Abelman           34\n",
            "Paul Prost             34\n",
            "John Lee               33\n",
            "Chloris Kastensmidt    32\n",
            "                       ..\n",
            "Jocasta Rupert          1\n",
            "Carl Jackson            1\n",
            "Sung Chung              1\n",
            "Ricardo Emerson         1\n",
            "Anthony O'Donnell       1\n",
            "Name: customer name, Length: 793, dtype: int64\n",
            "\n",
            "***** segment *****\n",
            "count                                    9800\n",
            "nunique                                     3\n",
            "unique     [Consumer, Corporate, Home Office]\n",
            "Name: segment, dtype: object\n",
            "value_count: \n",
            " Consumer       5101\n",
            "Corporate      2953\n",
            "Home Office    1746\n",
            "Name: segment, dtype: int64\n",
            "\n",
            "***** country *****\n",
            "count                 9800\n",
            "nunique                  1\n",
            "unique     [United States]\n",
            "Name: country, dtype: object\n",
            "value_count: \n",
            " United States    9800\n",
            "Name: country, dtype: int64\n",
            "\n",
            "***** city *****\n",
            "count                                                   9800\n",
            "nunique                                                  529\n",
            "unique     [Henderson, Los Angeles, Fort Lauderdale, Conc...\n",
            "Name: city, dtype: object\n",
            "value_count: \n",
            " New York City    891\n",
            "Los Angeles      728\n",
            "Philadelphia     532\n",
            "San Francisco    500\n",
            "Seattle          426\n",
            "                ... \n",
            "San Mateo          1\n",
            "Cheyenne           1\n",
            "Conway             1\n",
            "Melbourne          1\n",
            "Springdale         1\n",
            "Name: city, Length: 529, dtype: int64\n",
            "\n",
            "***** state *****\n",
            "count                                                   9800\n",
            "nunique                                                   49\n",
            "unique     [Kentucky, California, Florida, North Carolina...\n",
            "Name: state, dtype: object\n",
            "value_count: \n",
            " California              1946\n",
            "New York                1097\n",
            "Texas                    973\n",
            "Pennsylvania             582\n",
            "Washington               504\n",
            "Illinois                 483\n",
            "Ohio                     454\n",
            "Florida                  373\n",
            "Michigan                 253\n",
            "North Carolina           247\n",
            "Virginia                 224\n",
            "Arizona                  223\n",
            "Tennessee                183\n",
            "Colorado                 179\n",
            "Georgia                  177\n",
            "Kentucky                 137\n",
            "Indiana                  135\n",
            "Massachusetts            135\n",
            "Oregon                   122\n",
            "New Jersey               122\n",
            "Maryland                 105\n",
            "Wisconsin                105\n",
            "Delaware                  93\n",
            "Minnesota                 89\n",
            "Connecticut               82\n",
            "Missouri                  66\n",
            "Oklahoma                  66\n",
            "Alabama                   61\n",
            "Arkansas                  60\n",
            "Rhode Island              55\n",
            "Mississippi               53\n",
            "Utah                      53\n",
            "South Carolina            42\n",
            "Louisiana                 41\n",
            "Nevada                    39\n",
            "Nebraska                  38\n",
            "New Mexico                37\n",
            "New Hampshire             27\n",
            "Iowa                      26\n",
            "Kansas                    24\n",
            "Idaho                     21\n",
            "Montana                   15\n",
            "South Dakota              12\n",
            "Vermont                   11\n",
            "District of Columbia      10\n",
            "Maine                      8\n",
            "North Dakota               7\n",
            "West Virginia              4\n",
            "Wyoming                    1\n",
            "Name: state, dtype: int64\n",
            "\n",
            "***** region *****\n",
            "count                              9800\n",
            "nunique                               4\n",
            "unique     [South, West, Central, East]\n",
            "Name: region, dtype: object\n",
            "value_count: \n",
            " West       3140\n",
            "East       2785\n",
            "Central    2277\n",
            "South      1598\n",
            "Name: region, dtype: int64\n",
            "\n",
            "***** product id *****\n",
            "count                                                   9800\n",
            "nunique                                                 1861\n",
            "unique     [FUR-BO-10001798, FUR-CH-10000454, OFF-LA-1000...\n",
            "Name: product id, dtype: object\n",
            "value_count: \n",
            " OFF-PA-10001970    19\n",
            "TEC-AC-10003832    18\n",
            "FUR-FU-10004270    16\n",
            "TEC-AC-10002049    15\n",
            "TEC-AC-10003628    15\n",
            "                   ..\n",
            "OFF-PA-10000919     1\n",
            "TEC-MA-10003353     1\n",
            "OFF-LA-10003388     1\n",
            "OFF-EN-10004206     1\n",
            "TEC-PH-10002645     1\n",
            "Name: product id, Length: 1861, dtype: int64\n",
            "\n",
            "***** category *****\n",
            "count                                          9800\n",
            "nunique                                           3\n",
            "unique     [Furniture, Office Supplies, Technology]\n",
            "Name: category, dtype: object\n",
            "value_count: \n",
            " Office Supplies    5909\n",
            "Furniture          2078\n",
            "Technology         1813\n",
            "Name: category, dtype: int64\n",
            "\n",
            "***** sub-category *****\n",
            "count                                                   9800\n",
            "nunique                                                   17\n",
            "unique     [Bookcases, Chairs, Labels, Tables, Storage, F...\n",
            "Name: sub-category, dtype: object\n",
            "value_count: \n",
            " Binders        1492\n",
            "Paper          1338\n",
            "Furnishings     931\n",
            "Phones          876\n",
            "Storage         832\n",
            "Art             785\n",
            "Accessories     756\n",
            "Chairs          607\n",
            "Appliances      459\n",
            "Labels          357\n",
            "Tables          314\n",
            "Envelopes       248\n",
            "Bookcases       226\n",
            "Fasteners       214\n",
            "Supplies        184\n",
            "Machines        115\n",
            "Copiers          66\n",
            "Name: sub-category, dtype: int64\n",
            "\n",
            "***** product name *****\n",
            "count                                                   9800\n",
            "nunique                                                 1849\n",
            "unique     [Bush Somerset Collection Bookcase, Hon Deluxe...\n",
            "Name: product name, dtype: object\n",
            "value_count: \n",
            " Staple envelope                                                        47\n",
            "Staples                                                                46\n",
            "Easy-staple paper                                                      44\n",
            "Avery Non-Stick Binders                                                20\n",
            "Staples in misc. colors                                                18\n",
            "                                                                       ..\n",
            "Xiaomi Mi3                                                              1\n",
            "Universal Ultra Bright White Copier/Laser Paper, 8 1/2\" x 11\", Ream     1\n",
            "Socket Bluetooth Cordless Hand Scanner (CHS)                            1\n",
            "Logitech Illuminated Ultrathin Keyboard with Backlighting               1\n",
            "LG G2                                                                   1\n",
            "Name: product name, Length: 1849, dtype: int64\n",
            "\n"
          ]
        }
      ]
    },
    {
      "cell_type": "markdown",
      "source": [
        "Observation:\n",
        "\n",
        "\n",
        "* Standard class is the most opted ship mode.\n",
        "* Consumer is the highest segment.\n",
        "* New York is the highest ordering city.\n",
        "*\tCalifornia is the highest ordering state.\n",
        "*\tWest is the highest ordering region.\n",
        "*\tOffice supplies is the most ordered category.\n",
        "*\t Binders followed by papers is the most ordered sub-category.\n",
        "*\tStaple envelope, staples and easy-staple paper is the most ordered product.\n",
        "\n",
        "\n"
      ],
      "metadata": {
        "id": "Bvye4mpCZEEZ"
      }
    },
    {
      "cell_type": "markdown",
      "source": [
        "3. Numeric_continuous"
      ],
      "metadata": {
        "id": "iGKNu87bXNeh"
      }
    },
    {
      "cell_type": "code",
      "source": [
        "data['sales'].describe()"
      ],
      "metadata": {
        "id": "Sd4THZy2WfTx",
        "colab": {
          "base_uri": "https://localhost:8080/"
        },
        "outputId": "886cbe4e-d13d-4136-cfaa-e4be4955aa57"
      },
      "execution_count": null,
      "outputs": [
        {
          "output_type": "execute_result",
          "data": {
            "text/plain": [
              "count     9800.000000\n",
              "mean       230.769059\n",
              "std        626.651875\n",
              "min          0.444000\n",
              "25%         17.248000\n",
              "50%         54.490000\n",
              "75%        210.605000\n",
              "max      22638.480000\n",
              "Name: sales, dtype: float64"
            ]
          },
          "metadata": {},
          "execution_count": 26
        }
      ]
    },
    {
      "cell_type": "markdown",
      "source": [
        "_Visual Analysis:"
      ],
      "metadata": {
        "id": "z01k6WGnWiNL"
      }
    },
    {
      "cell_type": "code",
      "source": [
        "sns.distplot(data['sales'])"
      ],
      "metadata": {
        "colab": {
          "base_uri": "https://localhost:8080/",
          "height": 667
        },
        "id": "E1chluI87RY3",
        "outputId": "d993e60f-f2f4-473f-8def-2aadb396a052"
      },
      "execution_count": null,
      "outputs": [
        {
          "output_type": "stream",
          "name": "stderr",
          "text": [
            "<ipython-input-27-decb05c99e4b>:1: UserWarning: \n",
            "\n",
            "`distplot` is a deprecated function and will be removed in seaborn v0.14.0.\n",
            "\n",
            "Please adapt your code to use either `displot` (a figure-level function with\n",
            "similar flexibility) or `histplot` (an axes-level function for histograms).\n",
            "\n",
            "For a guide to updating your code to use the new functions, please see\n",
            "https://gist.github.com/mwaskom/de44147ed2974457ad6372750bbe5751\n",
            "\n",
            "  sns.distplot(data['sales'])\n"
          ]
        },
        {
          "output_type": "execute_result",
          "data": {
            "text/plain": [
              "<Axes: xlabel='sales', ylabel='Density'>"
            ]
          },
          "metadata": {},
          "execution_count": 27
        },
        {
          "output_type": "display_data",
          "data": {
            "text/plain": [
              "<Figure size 640x480 with 1 Axes>"
            ],
            "image/png": "[encoded data removed]"
          },
          "metadata": {}
        }
      ]
    },
    {
      "cell_type": "markdown",
      "source": [
        "* The sales distribution graph is skewed towards right."
      ],
      "metadata": {
        "id": "f1LpffqsZ5OI"
      }
    },
    {
      "cell_type": "code",
      "source": [
        "plt.boxplot(data['sales'])"
      ],
      "metadata": {
        "colab": {
          "base_uri": "https://localhost:8080/",
          "height": 575
        },
        "id": "I2NTwVC-8CJc",
        "outputId": "9a72d615-0efa-4b24-edfd-58d943bb3a5a"
      },
      "execution_count": null,
      "outputs": [
        {
          "output_type": "execute_result",
          "data": {
            "text/plain": [
              "{'whiskers': [<matplotlib.lines.Line2D at 0x7a77070a3b20>,\n",
              "  <matplotlib.lines.Line2D at 0x7a77070a3dc0>],\n",
              " 'caps': [<matplotlib.lines.Line2D at 0x7a77070a3eb0>,\n",
              "  <matplotlib.lines.Line2D at 0x7a77070dc190>],\n",
              " 'boxes': [<matplotlib.lines.Line2D at 0x7a77070a3820>],\n",
              " 'medians': [<matplotlib.lines.Line2D at 0x7a77070dc430>],\n",
              " 'fliers': [<matplotlib.lines.Line2D at 0x7a77070dc6d0>],\n",
              " 'means': []}"
            ]
          },
          "metadata": {},
          "execution_count": 28
        },
        {
          "output_type": "display_data",
          "data": {
            "text/plain": [
              "<Figure size 640x480 with 1 Axes>"
            ],
            "image/png": "[encoded data removed]"
          },
          "metadata": {}
        }
      ]
    },
    {
      "cell_type": "markdown",
      "source": [
        "* As the sales column contains outlier, thus higest value far way from mean will be cutoff."
      ],
      "metadata": {
        "id": "uMgkiufHaSlK"
      }
    },
    {
      "cell_type": "code",
      "source": [
        "data = data[data['sales'] < 15000]"
      ],
      "metadata": {
        "id": "u8kmZ4S18GQd"
      },
      "execution_count": null,
      "outputs": []
    },
    {
      "cell_type": "markdown",
      "source": [
        "**Bivariate Analysis**\n",
        "\n",
        "---\n",
        "\n"
      ],
      "metadata": {
        "id": "mVJIifgFWqAG"
      }
    },
    {
      "cell_type": "markdown",
      "source": [
        "**Categorical Data Vs. Categorical Data"
      ],
      "metadata": {
        "id": "dYuNwuG49BV0"
      }
    },
    {
      "cell_type": "code",
      "source": [
        "categoric_feature.columns"
      ],
      "metadata": {
        "colab": {
          "base_uri": "https://localhost:8080/"
        },
        "id": "p1gFopZM9GWM",
        "outputId": "9867d718-576f-4c56-e0e7-f4c7f8295382"
      },
      "execution_count": null,
      "outputs": [
        {
          "output_type": "execute_result",
          "data": {
            "text/plain": [
              "Index(['ship mode', 'customer name', 'segment', 'country', 'city', 'state',\n",
              "       'region', 'product id', 'category', 'sub-category', 'product name'],\n",
              "      dtype='object')"
            ]
          },
          "metadata": {},
          "execution_count": 30
        }
      ]
    },
    {
      "cell_type": "code",
      "source": [
        "category_state = pd.crosstab(data['state'],data['category'])\n",
        "category_state.plot.bar()"
      ],
      "metadata": {
        "colab": {
          "base_uri": "https://localhost:8080/",
          "height": 591
        },
        "id": "mz4Cvaoi9Ui5",
        "outputId": "5e1646ac-671a-41f6-c035-30e9e9d9a196"
      },
      "execution_count": null,
      "outputs": [
        {
          "output_type": "execute_result",
          "data": {
            "text/plain": [
              "<Axes: xlabel='state'>"
            ]
          },
          "metadata": {},
          "execution_count": 31
        },
        {
          "output_type": "display_data",
          "data": {
            "text/plain": [
              "<Figure size 640x480 with 1 Axes>"
            ],
            "image/png": "[encoded data removed]"
          },
          "metadata": {}
        }
      ]
    },
    {
      "cell_type": "markdown",
      "source": [
        "* From the state vs. category graph, it is observed that in California office supplies are orderd more followed by New York and Texas."
      ],
      "metadata": {
        "id": "_QcnHLWXauC0"
      }
    },
    {
      "cell_type": "code",
      "source": [
        "category_city = pd.crosstab(data['city'],data['category'])\n",
        "category_city.sort_values(by='Office Supplies', ascending=False)"
      ],
      "metadata": {
        "colab": {
          "base_uri": "https://localhost:8080/",
          "height": 455
        },
        "id": "3SYDVVcNAtzc",
        "outputId": "c8b76e2f-e218-418d-b8bf-561b248e840e"
      },
      "execution_count": null,
      "outputs": [
        {
          "output_type": "execute_result",
          "data": {
            "text/plain": [
              "category       Furniture  Office Supplies  Technology\n",
              "city                                                 \n",
              "New York City        187              535         169\n",
              "Los Angeles          151              432         145\n",
              "San Francisco         99              317          84\n",
              "Philadelphia         111              308         113\n",
              "Seattle               96              248          82\n",
              "...                  ...              ...         ...\n",
              "Cheyenne               1                0           0\n",
              "Lehi                   0                0           2\n",
              "Linden                 0                0           1\n",
              "Champaign              1                0           0\n",
              "Lake Elsinore          1                0           0\n",
              "\n",
              "[529 rows x 3 columns]"
            ],
            "text/html": [
              "\n",
              "  <div id=\"df-2423b693-e066-47e1-975a-375f3d7c5b04\" class=\"colab-df-container\">\n",
              "    <div>\n",
              "<style scoped>\n",
              "    .dataframe tbody tr th:only-of-type {\n",
              "        vertical-align: middle;\n",
              "    }\n",
              "\n",
              "    .dataframe tbody tr th {\n",
              "        vertical-align: top;\n",
              "    }\n",
              "\n",
              "    .dataframe thead th {\n",
              "        text-align: right;\n",
              "    }\n",
              "</style>\n",
              "<table border=\"1\" class=\"dataframe\">\n",
              "  <thead>\n",
              "    <tr style=\"text-align: right;\">\n",
              "      <th>category</th>\n",
              "      <th>Furniture</th>\n",
              "      <th>Office Supplies</th>\n",
              "      <th>Technology</th>\n",
              "    </tr>\n",
              "    <tr>\n",
              "      <th>city</th>\n",
              "      <th></th>\n",
              "      <th></th>\n",
              "      <th></th>\n",
              "    </tr>\n",
              "  </thead>\n",
              "  <tbody>\n",
              "    <tr>\n",
              "      <th>New York City</th>\n",
              "      <td>187</td>\n",
              "      <td>535</td>\n",
              "      <td>169</td>\n",
              "    </tr>\n",
              "    <tr>\n",
              "      <th>Los Angeles</th>\n",
              "      <td>151</td>\n",
              "      <td>432</td>\n",
              "      <td>145</td>\n",
              "    </tr>\n",
              "    <tr>\n",
              "      <th>San Francisco</th>\n",
              "      <td>99</td>\n",
              "      <td>317</td>\n",
              "      <td>84</td>\n",
              "    </tr>\n",
              "    <tr>\n",
              "      <th>Philadelphia</th>\n",
              "      <td>111</td>\n",
              "      <td>308</td>\n",
              "      <td>113</td>\n",
              "    </tr>\n",
              "    <tr>\n",
              "      <th>Seattle</th>\n",
              "      <td>96</td>\n",
              "      <td>248</td>\n",
              "      <td>82</td>\n",
              "    </tr>\n",
              "    <tr>\n",
              "      <th>...</th>\n",
              "      <td>...</td>\n",
              "      <td>...</td>\n",
              "      <td>...</td>\n",
              "    </tr>\n",
              "    <tr>\n",
              "      <th>Cheyenne</th>\n",
              "      <td>1</td>\n",
              "      <td>0</td>\n",
              "      <td>0</td>\n",
              "    </tr>\n",
              "    <tr>\n",
              "      <th>Lehi</th>\n",
              "      <td>0</td>\n",
              "      <td>0</td>\n",
              "      <td>2</td>\n",
              "    </tr>\n",
              "    <tr>\n",
              "      <th>Linden</th>\n",
              "      <td>0</td>\n",
              "      <td>0</td>\n",
              "      <td>1</td>\n",
              "    </tr>\n",
              "    <tr>\n",
              "      <th>Champaign</th>\n",
              "      <td>1</td>\n",
              "      <td>0</td>\n",
              "      <td>0</td>\n",
              "    </tr>\n",
              "    <tr>\n",
              "      <th>Lake Elsinore</th>\n",
              "      <td>1</td>\n",
              "      <td>0</td>\n",
              "      <td>0</td>\n",
              "    </tr>\n",
              "  </tbody>\n",
              "</table>\n",
              "<p>529 rows × 3 columns</p>\n",
              "</div>\n",
              "    <div class=\"colab-df-buttons\">\n",
              "\n",
              "  <div class=\"colab-df-container\">\n",
              "    <button class=\"colab-df-convert\" onclick=\"convertToInteractive('df-2423b693-e066-47e1-975a-375f3d7c5b04')\"\n",
              "            title=\"Convert this dataframe to an interactive table.\"\n",
              "            style=\"display:none;\">\n",
              "\n",
              "  <svg xmlns=\"http://www.w3.org/2000/svg\" height=\"24px\" viewBox=\"0 -960 960 960\">\n",
              "    <path d=\"M120-120v-720h720v720H120Zm60-500h600v-160H180v160Zm220 220h160v-160H400v160Zm0 220h160v-160H400v160ZM180-400h160v-160H180v160Zm440 0h160v-160H620v160ZM180-180h160v-160H180v160Zm440 0h160v-160H620v160Z\"/>\n",
              "  </svg>\n",
              "    </button>\n",
              "\n",
              "  <style>\n",
              "    .colab-df-container {\n",
              "      display:flex;\n",
              "      gap: 12px;\n",
              "    }\n",
              "\n",
              "    .colab-df-convert {\n",
              "      background-color: #E8F0FE;\n",
              "      border: none;\n",
              "      border-radius: 50%;\n",
              "      cursor: pointer;\n",
              "      display: none;\n",
              "      fill: #1967D2;\n",
              "      height: 32px;\n",
              "      padding: 0 0 0 0;\n",
              "      width: 32px;\n",
              "    }\n",
              "\n",
              "    .colab-df-convert:hover {\n",
              "      background-color: #E2EBFA;\n",
              "      box-shadow: 0px 1px 2px rgba(60, 64, 67, 0.3), 0px 1px 3px 1px rgba(60, 64, 67, 0.15);\n",
              "      fill: #174EA6;\n",
              "    }\n",
              "\n",
              "    .colab-df-buttons div {\n",
              "      margin-bottom: 4px;\n",
              "    }\n",
              "\n",
              "    [theme=dark] .colab-df-convert {\n",
              "      background-color: #3B4455;\n",
              "      fill: #D2E3FC;\n",
              "    }\n",
              "\n",
              "    [theme=dark] .colab-df-convert:hover {\n",
              "      background-color: #434B5C;\n",
              "      box-shadow: 0px 1px 3px 1px rgba(0, 0, 0, 0.15);\n",
              "      filter: drop-shadow(0px 1px 2px rgba(0, 0, 0, 0.3));\n",
              "      fill: #FFFFFF;\n",
              "    }\n",
              "  </style>\n",
              "\n",
              "    <script>\n",
              "      const buttonEl =\n",
              "        document.querySelector('#df-2423b693-e066-47e1-975a-375f3d7c5b04 button.colab-df-convert');\n",
              "      buttonEl.style.display =\n",
              "        google.colab.kernel.accessAllowed ? 'block' : 'none';\n",
              "\n",
              "      async function convertToInteractive(key) {\n",
              "        const element = document.querySelector('#df-2423b693-e066-47e1-975a-375f3d7c5b04');\n",
              "        const dataTable =\n",
              "          await google.colab.kernel.invokeFunction('convertToInteractive',\n",
              "                                                    [key], {});\n",
              "        if (!dataTable) return;\n",
              "\n",
              "        const docLinkHtml = 'Like what you see? Visit the ' +\n",
              "          '<a target=\"_blank\" href=https://colab.research.google.com/notebooks/data_table.ipynb>data table notebook</a>'\n",
              "          + ' to learn more about interactive tables.';\n",
              "        element.innerHTML = '';\n",
              "        dataTable['output_type'] = 'display_data';\n",
              "        await google.colab.output.renderOutput(dataTable, element);\n",
              "        const docLink = document.createElement('div');\n",
              "        docLink.innerHTML = docLinkHtml;\n",
              "        element.appendChild(docLink);\n",
              "      }\n",
              "    </script>\n",
              "  </div>\n",
              "\n",
              "\n",
              "<div id=\"df-11938157-ce32-4d10-bd60-9f0c89cb74ec\">\n",
              "  <button class=\"colab-df-quickchart\" onclick=\"quickchart('df-11938157-ce32-4d10-bd60-9f0c89cb74ec')\"\n",
              "            title=\"Suggest charts\"\n",
              "            style=\"display:none;\">\n",
              "\n",
              "<svg xmlns=\"http://www.w3.org/2000/svg\" height=\"24px\"viewBox=\"0 0 24 24\"\n",
              "     width=\"24px\">\n",
              "    <g>\n",
              "        <path d=\"M19 3H5c-1.1 0-2 .9-2 2v14c0 1.1.9 2 2 2h14c1.1 0 2-.9 2-2V5c0-1.1-.9-2-2-2zM9 17H7v-7h2v7zm4 0h-2V7h2v10zm4 0h-2v-4h2v4z\"/>\n",
              "    </g>\n",
              "</svg>\n",
              "  </button>\n",
              "\n",
              "<style>\n",
              "  .colab-df-quickchart {\n",
              "      --bg-color: #E8F0FE;\n",
              "      --fill-color: #1967D2;\n",
              "      --hover-bg-color: #E2EBFA;\n",
              "      --hover-fill-color: #174EA6;\n",
              "      --disabled-fill-color: #AAA;\n",
              "      --disabled-bg-color: #DDD;\n",
              "  }\n",
              "\n",
              "  [theme=dark] .colab-df-quickchart {\n",
              "      --bg-color: #3B4455;\n",
              "      --fill-color: #D2E3FC;\n",
              "      --hover-bg-color: #434B5C;\n",
              "      --hover-fill-color: #FFFFFF;\n",
              "      --disabled-bg-color: #3B4455;\n",
              "      --disabled-fill-color: #666;\n",
              "  }\n",
              "\n",
              "  .colab-df-quickchart {\n",
              "    background-color: var(--bg-color);\n",
              "    border: none;\n",
              "    border-radius: 50%;\n",
              "    cursor: pointer;\n",
              "    display: none;\n",
              "    fill: var(--fill-color);\n",
              "    height: 32px;\n",
              "    padding: 0;\n",
              "    width: 32px;\n",
              "  }\n",
              "\n",
              "  .colab-df-quickchart:hover {\n",
              "    background-color: var(--hover-bg-color);\n",
              "    box-shadow: 0 1px 2px rgba(60, 64, 67, 0.3), 0 1px 3px 1px rgba(60, 64, 67, 0.15);\n",
              "    fill: var(--button-hover-fill-color);\n",
              "  }\n",
              "\n",
              "  .colab-df-quickchart-complete:disabled,\n",
              "  .colab-df-quickchart-complete:disabled:hover {\n",
              "    background-color: var(--disabled-bg-color);\n",
              "    fill: var(--disabled-fill-color);\n",
              "    box-shadow: none;\n",
              "  }\n",
              "\n",
              "  .colab-df-spinner {\n",
              "    border: 2px solid var(--fill-color);\n",
              "    border-color: transparent;\n",
              "    border-bottom-color: var(--fill-color);\n",
              "    animation:\n",
              "      spin 1s steps(1) infinite;\n",
              "  }\n",
              "\n",
              "  @keyframes spin {\n",
              "    0% {\n",
              "      border-color: transparent;\n",
              "      border-bottom-color: var(--fill-color);\n",
              "      border-left-color: var(--fill-color);\n",
              "    }\n",
              "    20% {\n",
              "      border-color: transparent;\n",
              "      border-left-color: var(--fill-color);\n",
              "      border-top-color: var(--fill-color);\n",
              "    }\n",
              "    30% {\n",
              "      border-color: transparent;\n",
              "      border-left-color: var(--fill-color);\n",
              "      border-top-color: var(--fill-color);\n",
              "      border-right-color: var(--fill-color);\n",
              "    }\n",
              "    40% {\n",
              "      border-color: transparent;\n",
              "      border-right-color: var(--fill-color);\n",
              "      border-top-color: var(--fill-color);\n",
              "    }\n",
              "    60% {\n",
              "      border-color: transparent;\n",
              "      border-right-color: var(--fill-color);\n",
              "    }\n",
              "    80% {\n",
              "      border-color: transparent;\n",
              "      border-right-color: var(--fill-color);\n",
              "      border-bottom-color: var(--fill-color);\n",
              "    }\n",
              "    90% {\n",
              "      border-color: transparent;\n",
              "      border-bottom-color: var(--fill-color);\n",
              "    }\n",
              "  }\n",
              "</style>\n",
              "\n",
              "  <script>\n",
              "    async function quickchart(key) {\n",
              "      const quickchartButtonEl =\n",
              "        document.querySelector('#' + key + ' button');\n",
              "      quickchartButtonEl.disabled = true;  // To prevent multiple clicks.\n",
              "      quickchartButtonEl.classList.add('colab-df-spinner');\n",
              "      try {\n",
              "        const charts = await google.colab.kernel.invokeFunction(\n",
              "            'suggestCharts', [key], {});\n",
              "      } catch (error) {\n",
              "        console.error('Error during call to suggestCharts:', error);\n",
              "      }\n",
              "      quickchartButtonEl.classList.remove('colab-df-spinner');\n",
              "      quickchartButtonEl.classList.add('colab-df-quickchart-complete');\n",
              "    }\n",
              "    (() => {\n",
              "      let quickchartButtonEl =\n",
              "        document.querySelector('#df-11938157-ce32-4d10-bd60-9f0c89cb74ec button');\n",
              "      quickchartButtonEl.style.display =\n",
              "        google.colab.kernel.accessAllowed ? 'block' : 'none';\n",
              "    })();\n",
              "  </script>\n",
              "</div>\n",
              "\n",
              "    </div>\n",
              "  </div>\n"
            ],
            "application/vnd.google.colaboratory.intrinsic+json": {
              "type": "dataframe",
              "summary": "{\n  \"name\": \"category_city\",\n  \"rows\": 529,\n  \"fields\": [\n    {\n      \"column\": \"Furniture\",\n      \"properties\": {\n        \"dtype\": \"number\",\n        \"std\": 14,\n        \"min\": 0,\n        \"max\": 187,\n        \"num_unique_values\": 32,\n        \"samples\": [\n          1,\n          17,\n          4\n        ],\n        \"semantic_type\": \"\",\n        \"description\": \"\"\n      }\n    },\n    {\n      \"column\": \"Office Supplies\",\n      \"properties\": {\n        \"dtype\": \"number\",\n        \"std\": 40,\n        \"min\": 0,\n        \"max\": 535,\n        \"num_unique_values\": 50,\n        \"samples\": [\n          53,\n          10,\n          19\n        ],\n        \"semantic_type\": \"\",\n        \"description\": \"\"\n      }\n    },\n    {\n      \"column\": \"Technology\",\n      \"properties\": {\n        \"dtype\": \"number\",\n        \"std\": 12,\n        \"min\": 0,\n        \"max\": 169,\n        \"num_unique_values\": 31,\n        \"samples\": [\n          1,\n          23,\n          6\n        ],\n        \"semantic_type\": \"\",\n        \"description\": \"\"\n      }\n    }\n  ]\n}"
            }
          },
          "metadata": {},
          "execution_count": 32
        }
      ]
    },
    {
      "cell_type": "markdown",
      "source": [
        "* From category vs. city crosstab, it is observed that office supplies are ordered more in New York city followed by Los Angeles."
      ],
      "metadata": {
        "id": "hHTAyDFebUdS"
      }
    },
    {
      "cell_type": "code",
      "source": [
        "sub_category_state = pd.crosstab(data['state'],data['sub-category'])\n",
        "sub_category_state_sort = sub_category_state.sort_values(by='Paper',ascending=False)\n",
        "sub_category_state_sort.head()"
      ],
      "metadata": {
        "colab": {
          "base_uri": "https://localhost:8080/",
          "height": 275
        },
        "id": "ABjMW9Ozgshz",
        "outputId": "ec314be9-098f-46bb-d640-a3916ecac523"
      },
      "execution_count": null,
      "outputs": [
        {
          "output_type": "execute_result",
          "data": {
            "text/plain": [
              "sub-category  Accessories  Appliances  Art  Binders  Bookcases  Chairs  \\\n",
              "state                                                                    \n",
              "California            143          91  162      267         51     126   \n",
              "New York               75          43   89      174         32      75   \n",
              "Texas                  79          47   71      151         26      60   \n",
              "Pennsylvania           44          22   40       98         10      36   \n",
              "Washington             53          17   34       86         10      34   \n",
              "\n",
              "sub-category  Copiers  Envelopes  Fasteners  Furnishings  Labels  Machines  \\\n",
              "state                                                                        \n",
              "California         15         45         41          184      80        23   \n",
              "New York            7         30         21           96      44        16   \n",
              "Texas               5         29         24           78      30        13   \n",
              "Pennsylvania        5         18         14           64      23         7   \n",
              "Washington          5          6         15           49      17         7   \n",
              "\n",
              "sub-category  Paper  Phones  Storage  Supplies  Tables  \n",
              "state                                                   \n",
              "California      281     168      159        41      69  \n",
              "New York        145     106       95        21      28  \n",
              "Texas           145      80       83        19      33  \n",
              "Pennsylvania     64      62       48        12      15  \n",
              "Washington       59      35       48         9      20  "
            ],
            "text/html": [
              "\n",
              "  <div id=\"df-fb9cd000-3282-416f-b5ee-4ce55c50fd2e\" class=\"colab-df-container\">\n",
              "    <div>\n",
              "<style scoped>\n",
              "    .dataframe tbody tr th:only-of-type {\n",
              "        vertical-align: middle;\n",
              "    }\n",
              "\n",
              "    .dataframe tbody tr th {\n",
              "        vertical-align: top;\n",
              "    }\n",
              "\n",
              "    .dataframe thead th {\n",
              "        text-align: right;\n",
              "    }\n",
              "</style>\n",
              "<table border=\"1\" class=\"dataframe\">\n",
              "  <thead>\n",
              "    <tr style=\"text-align: right;\">\n",
              "      <th>sub-category</th>\n",
              "      <th>Accessories</th>\n",
              "      <th>Appliances</th>\n",
              "      <th>Art</th>\n",
              "      <th>Binders</th>\n",
              "      <th>Bookcases</th>\n",
              "      <th>Chairs</th>\n",
              "      <th>Copiers</th>\n",
              "      <th>Envelopes</th>\n",
              "      <th>Fasteners</th>\n",
              "      <th>Furnishings</th>\n",
              "      <th>Labels</th>\n",
              "      <th>Machines</th>\n",
              "      <th>Paper</th>\n",
              "      <th>Phones</th>\n",
              "      <th>Storage</th>\n",
              "      <th>Supplies</th>\n",
              "      <th>Tables</th>\n",
              "    </tr>\n",
              "    <tr>\n",
              "      <th>state</th>\n",
              "      <th></th>\n",
              "      <th></th>\n",
              "      <th></th>\n",
              "      <th></th>\n",
              "      <th></th>\n",
              "      <th></th>\n",
              "      <th></th>\n",
              "      <th></th>\n",
              "      <th></th>\n",
              "      <th></th>\n",
              "      <th></th>\n",
              "      <th></th>\n",
              "      <th></th>\n",
              "      <th></th>\n",
              "      <th></th>\n",
              "      <th></th>\n",
              "      <th></th>\n",
              "    </tr>\n",
              "  </thead>\n",
              "  <tbody>\n",
              "    <tr>\n",
              "      <th>California</th>\n",
              "      <td>143</td>\n",
              "      <td>91</td>\n",
              "      <td>162</td>\n",
              "      <td>267</td>\n",
              "      <td>51</td>\n",
              "      <td>126</td>\n",
              "      <td>15</td>\n",
              "      <td>45</td>\n",
              "      <td>41</td>\n",
              "      <td>184</td>\n",
              "      <td>80</td>\n",
              "      <td>23</td>\n",
              "      <td>281</td>\n",
              "      <td>168</td>\n",
              "      <td>159</td>\n",
              "      <td>41</td>\n",
              "      <td>69</td>\n",
              "    </tr>\n",
              "    <tr>\n",
              "      <th>New York</th>\n",
              "      <td>75</td>\n",
              "      <td>43</td>\n",
              "      <td>89</td>\n",
              "      <td>174</td>\n",
              "      <td>32</td>\n",
              "      <td>75</td>\n",
              "      <td>7</td>\n",
              "      <td>30</td>\n",
              "      <td>21</td>\n",
              "      <td>96</td>\n",
              "      <td>44</td>\n",
              "      <td>16</td>\n",
              "      <td>145</td>\n",
              "      <td>106</td>\n",
              "      <td>95</td>\n",
              "      <td>21</td>\n",
              "      <td>28</td>\n",
              "    </tr>\n",
              "    <tr>\n",
              "      <th>Texas</th>\n",
              "      <td>79</td>\n",
              "      <td>47</td>\n",
              "      <td>71</td>\n",
              "      <td>151</td>\n",
              "      <td>26</td>\n",
              "      <td>60</td>\n",
              "      <td>5</td>\n",
              "      <td>29</td>\n",
              "      <td>24</td>\n",
              "      <td>78</td>\n",
              "      <td>30</td>\n",
              "      <td>13</td>\n",
              "      <td>145</td>\n",
              "      <td>80</td>\n",
              "      <td>83</td>\n",
              "      <td>19</td>\n",
              "      <td>33</td>\n",
              "    </tr>\n",
              "    <tr>\n",
              "      <th>Pennsylvania</th>\n",
              "      <td>44</td>\n",
              "      <td>22</td>\n",
              "      <td>40</td>\n",
              "      <td>98</td>\n",
              "      <td>10</td>\n",
              "      <td>36</td>\n",
              "      <td>5</td>\n",
              "      <td>18</td>\n",
              "      <td>14</td>\n",
              "      <td>64</td>\n",
              "      <td>23</td>\n",
              "      <td>7</td>\n",
              "      <td>64</td>\n",
              "      <td>62</td>\n",
              "      <td>48</td>\n",
              "      <td>12</td>\n",
              "      <td>15</td>\n",
              "    </tr>\n",
              "    <tr>\n",
              "      <th>Washington</th>\n",
              "      <td>53</td>\n",
              "      <td>17</td>\n",
              "      <td>34</td>\n",
              "      <td>86</td>\n",
              "      <td>10</td>\n",
              "      <td>34</td>\n",
              "      <td>5</td>\n",
              "      <td>6</td>\n",
              "      <td>15</td>\n",
              "      <td>49</td>\n",
              "      <td>17</td>\n",
              "      <td>7</td>\n",
              "      <td>59</td>\n",
              "      <td>35</td>\n",
              "      <td>48</td>\n",
              "      <td>9</td>\n",
              "      <td>20</td>\n",
              "    </tr>\n",
              "  </tbody>\n",
              "</table>\n",
              "</div>\n",
              "    <div class=\"colab-df-buttons\">\n",
              "\n",
              "  <div class=\"colab-df-container\">\n",
              "    <button class=\"colab-df-convert\" onclick=\"convertToInteractive('df-fb9cd000-3282-416f-b5ee-4ce55c50fd2e')\"\n",
              "            title=\"Convert this dataframe to an interactive table.\"\n",
              "            style=\"display:none;\">\n",
              "\n",
              "  <svg xmlns=\"http://www.w3.org/2000/svg\" height=\"24px\" viewBox=\"0 -960 960 960\">\n",
              "    <path d=\"M120-120v-720h720v720H120Zm60-500h600v-160H180v160Zm220 220h160v-160H400v160Zm0 220h160v-160H400v160ZM180-400h160v-160H180v160Zm440 0h160v-160H620v160ZM180-180h160v-160H180v160Zm440 0h160v-160H620v160Z\"/>\n",
              "  </svg>\n",
              "    </button>\n",
              "\n",
              "  <style>\n",
              "    .colab-df-container {\n",
              "      display:flex;\n",
              "      gap: 12px;\n",
              "    }\n",
              "\n",
              "    .colab-df-convert {\n",
              "      background-color: #E8F0FE;\n",
              "      border: none;\n",
              "      border-radius: 50%;\n",
              "      cursor: pointer;\n",
              "      display: none;\n",
              "      fill: #1967D2;\n",
              "      height: 32px;\n",
              "      padding: 0 0 0 0;\n",
              "      width: 32px;\n",
              "    }\n",
              "\n",
              "    .colab-df-convert:hover {\n",
              "      background-color: #E2EBFA;\n",
              "      box-shadow: 0px 1px 2px rgba(60, 64, 67, 0.3), 0px 1px 3px 1px rgba(60, 64, 67, 0.15);\n",
              "      fill: #174EA6;\n",
              "    }\n",
              "\n",
              "    .colab-df-buttons div {\n",
              "      margin-bottom: 4px;\n",
              "    }\n",
              "\n",
              "    [theme=dark] .colab-df-convert {\n",
              "      background-color: #3B4455;\n",
              "      fill: #D2E3FC;\n",
              "    }\n",
              "\n",
              "    [theme=dark] .colab-df-convert:hover {\n",
              "      background-color: #434B5C;\n",
              "      box-shadow: 0px 1px 3px 1px rgba(0, 0, 0, 0.15);\n",
              "      filter: drop-shadow(0px 1px 2px rgba(0, 0, 0, 0.3));\n",
              "      fill: #FFFFFF;\n",
              "    }\n",
              "  </style>\n",
              "\n",
              "    <script>\n",
              "      const buttonEl =\n",
              "        document.querySelector('#df-fb9cd000-3282-416f-b5ee-4ce55c50fd2e button.colab-df-convert');\n",
              "      buttonEl.style.display =\n",
              "        google.colab.kernel.accessAllowed ? 'block' : 'none';\n",
              "\n",
              "      async function convertToInteractive(key) {\n",
              "        const element = document.querySelector('#df-fb9cd000-3282-416f-b5ee-4ce55c50fd2e');\n",
              "        const dataTable =\n",
              "          await google.colab.kernel.invokeFunction('convertToInteractive',\n",
              "                                                    [key], {});\n",
              "        if (!dataTable) return;\n",
              "\n",
              "        const docLinkHtml = 'Like what you see? Visit the ' +\n",
              "          '<a target=\"_blank\" href=https://colab.research.google.com/notebooks/data_table.ipynb>data table notebook</a>'\n",
              "          + ' to learn more about interactive tables.';\n",
              "        element.innerHTML = '';\n",
              "        dataTable['output_type'] = 'display_data';\n",
              "        await google.colab.output.renderOutput(dataTable, element);\n",
              "        const docLink = document.createElement('div');\n",
              "        docLink.innerHTML = docLinkHtml;\n",
              "        element.appendChild(docLink);\n",
              "      }\n",
              "    </script>\n",
              "  </div>\n",
              "\n",
              "\n",
              "<div id=\"df-f5266790-6e46-4e84-a614-81c0e375a1cf\">\n",
              "  <button class=\"colab-df-quickchart\" onclick=\"quickchart('df-f5266790-6e46-4e84-a614-81c0e375a1cf')\"\n",
              "            title=\"Suggest charts\"\n",
              "            style=\"display:none;\">\n",
              "\n",
              "<svg xmlns=\"http://www.w3.org/2000/svg\" height=\"24px\"viewBox=\"0 0 24 24\"\n",
              "     width=\"24px\">\n",
              "    <g>\n",
              "        <path d=\"M19 3H5c-1.1 0-2 .9-2 2v14c0 1.1.9 2 2 2h14c1.1 0 2-.9 2-2V5c0-1.1-.9-2-2-2zM9 17H7v-7h2v7zm4 0h-2V7h2v10zm4 0h-2v-4h2v4z\"/>\n",
              "    </g>\n",
              "</svg>\n",
              "  </button>\n",
              "\n",
              "<style>\n",
              "  .colab-df-quickchart {\n",
              "      --bg-color: #E8F0FE;\n",
              "      --fill-color: #1967D2;\n",
              "      --hover-bg-color: #E2EBFA;\n",
              "      --hover-fill-color: #174EA6;\n",
              "      --disabled-fill-color: #AAA;\n",
              "      --disabled-bg-color: #DDD;\n",
              "  }\n",
              "\n",
              "  [theme=dark] .colab-df-quickchart {\n",
              "      --bg-color: #3B4455;\n",
              "      --fill-color: #D2E3FC;\n",
              "      --hover-bg-color: #434B5C;\n",
              "      --hover-fill-color: #FFFFFF;\n",
              "      --disabled-bg-color: #3B4455;\n",
              "      --disabled-fill-color: #666;\n",
              "  }\n",
              "\n",
              "  .colab-df-quickchart {\n",
              "    background-color: var(--bg-color);\n",
              "    border: none;\n",
              "    border-radius: 50%;\n",
              "    cursor: pointer;\n",
              "    display: none;\n",
              "    fill: var(--fill-color);\n",
              "    height: 32px;\n",
              "    padding: 0;\n",
              "    width: 32px;\n",
              "  }\n",
              "\n",
              "  .colab-df-quickchart:hover {\n",
              "    background-color: var(--hover-bg-color);\n",
              "    box-shadow: 0 1px 2px rgba(60, 64, 67, 0.3), 0 1px 3px 1px rgba(60, 64, 67, 0.15);\n",
              "    fill: var(--button-hover-fill-color);\n",
              "  }\n",
              "\n",
              "  .colab-df-quickchart-complete:disabled,\n",
              "  .colab-df-quickchart-complete:disabled:hover {\n",
              "    background-color: var(--disabled-bg-color);\n",
              "    fill: var(--disabled-fill-color);\n",
              "    box-shadow: none;\n",
              "  }\n",
              "\n",
              "  .colab-df-spinner {\n",
              "    border: 2px solid var(--fill-color);\n",
              "    border-color: transparent;\n",
              "    border-bottom-color: var(--fill-color);\n",
              "    animation:\n",
              "      spin 1s steps(1) infinite;\n",
              "  }\n",
              "\n",
              "  @keyframes spin {\n",
              "    0% {\n",
              "      border-color: transparent;\n",
              "      border-bottom-color: var(--fill-color);\n",
              "      border-left-color: var(--fill-color);\n",
              "    }\n",
              "    20% {\n",
              "      border-color: transparent;\n",
              "      border-left-color: var(--fill-color);\n",
              "      border-top-color: var(--fill-color);\n",
              "    }\n",
              "    30% {\n",
              "      border-color: transparent;\n",
              "      border-left-color: var(--fill-color);\n",
              "      border-top-color: var(--fill-color);\n",
              "      border-right-color: var(--fill-color);\n",
              "    }\n",
              "    40% {\n",
              "      border-color: transparent;\n",
              "      border-right-color: var(--fill-color);\n",
              "      border-top-color: var(--fill-color);\n",
              "    }\n",
              "    60% {\n",
              "      border-color: transparent;\n",
              "      border-right-color: var(--fill-color);\n",
              "    }\n",
              "    80% {\n",
              "      border-color: transparent;\n",
              "      border-right-color: var(--fill-color);\n",
              "      border-bottom-color: var(--fill-color);\n",
              "    }\n",
              "    90% {\n",
              "      border-color: transparent;\n",
              "      border-bottom-color: var(--fill-color);\n",
              "    }\n",
              "  }\n",
              "</style>\n",
              "\n",
              "  <script>\n",
              "    async function quickchart(key) {\n",
              "      const quickchartButtonEl =\n",
              "        document.querySelector('#' + key + ' button');\n",
              "      quickchartButtonEl.disabled = true;  // To prevent multiple clicks.\n",
              "      quickchartButtonEl.classList.add('colab-df-spinner');\n",
              "      try {\n",
              "        const charts = await google.colab.kernel.invokeFunction(\n",
              "            'suggestCharts', [key], {});\n",
              "      } catch (error) {\n",
              "        console.error('Error during call to suggestCharts:', error);\n",
              "      }\n",
              "      quickchartButtonEl.classList.remove('colab-df-spinner');\n",
              "      quickchartButtonEl.classList.add('colab-df-quickchart-complete');\n",
              "    }\n",
              "    (() => {\n",
              "      let quickchartButtonEl =\n",
              "        document.querySelector('#df-f5266790-6e46-4e84-a614-81c0e375a1cf button');\n",
              "      quickchartButtonEl.style.display =\n",
              "        google.colab.kernel.accessAllowed ? 'block' : 'none';\n",
              "    })();\n",
              "  </script>\n",
              "</div>\n",
              "\n",
              "    </div>\n",
              "  </div>\n"
            ],
            "application/vnd.google.colaboratory.intrinsic+json": {
              "type": "dataframe",
              "variable_name": "sub_category_state_sort",
              "summary": "{\n  \"name\": \"sub_category_state_sort\",\n  \"rows\": 49,\n  \"fields\": [\n    {\n      \"column\": \"Accessories\",\n      \"properties\": {\n        \"dtype\": \"number\",\n        \"std\": 25,\n        \"min\": 0,\n        \"max\": 143,\n        \"num_unique_values\": 25,\n        \"samples\": [\n          19,\n          4,\n          143\n        ],\n        \"semantic_type\": \"\",\n        \"description\": \"\"\n      }\n    },\n    {\n      \"column\": \"Appliances\",\n      \"properties\": {\n        \"dtype\": \"number\",\n        \"std\": 15,\n        \"min\": 0,\n        \"max\": 91,\n        \"num_unique_values\": 22,\n        \"samples\": [\n          91,\n          12,\n          6\n        ],\n        \"semantic_type\": \"\",\n        \"description\": \"\"\n      }\n    },\n    {\n      \"column\": \"Art\",\n      \"properties\": {\n        \"dtype\": \"number\",\n        \"std\": 27,\n        \"min\": 0,\n        \"max\": 162,\n        \"num_unique_values\": 26,\n        \"samples\": [\n          26,\n          9,\n          162\n        ],\n        \"semantic_type\": \"\",\n        \"description\": \"\"\n      }\n    },\n    {\n      \"column\": \"Binders\",\n      \"properties\": {\n        \"dtype\": \"number\",\n        \"std\": 50,\n        \"min\": 0,\n        \"max\": 267,\n        \"num_unique_values\": 33,\n        \"samples\": [\n          0,\n          29,\n          9\n        ],\n        \"semantic_type\": \"\",\n        \"description\": \"\"\n      }\n    },\n    {\n      \"column\": \"Bookcases\",\n      \"properties\": {\n        \"dtype\": \"number\",\n        \"std\": 9,\n        \"min\": 0,\n        \"max\": 51,\n        \"num_unique_values\": 13,\n        \"samples\": [\n          9,\n          0,\n          51\n        ],\n        \"semantic_type\": \"\",\n        \"description\": \"\"\n      }\n    },\n    {\n      \"column\": \"Chairs\",\n      \"properties\": {\n        \"dtype\": \"number\",\n        \"std\": 22,\n        \"min\": 0,\n        \"max\": 126,\n        \"num_unique_values\": 22,\n        \"samples\": [\n          126,\n          8,\n          9\n        ],\n        \"semantic_type\": \"\",\n        \"description\": \"\"\n      }\n    },\n    {\n      \"column\": \"Copiers\",\n      \"properties\": {\n        \"dtype\": \"number\",\n        \"std\": 2,\n        \"min\": 0,\n        \"max\": 15,\n        \"num_unique_values\": 7,\n        \"samples\": [\n          15,\n          7,\n          1\n        ],\n        \"semantic_type\": \"\",\n        \"description\": \"\"\n      }\n    },\n    {\n      \"column\": \"Envelopes\",\n      \"properties\": {\n        \"dtype\": \"number\",\n        \"std\": 8,\n        \"min\": 0,\n        \"max\": 45,\n        \"num_unique_values\": 16,\n        \"samples\": [\n          45,\n          30,\n          8\n        ],\n        \"semantic_type\": \"\",\n        \"description\": \"\"\n      }\n    },\n    {\n      \"column\": \"Fasteners\",\n      \"properties\": {\n        \"dtype\": \"number\",\n        \"std\": 7,\n        \"min\": 0,\n        \"max\": 41,\n        \"num_unique_values\": 13,\n        \"samples\": [\n          0,\n          2,\n          41\n        ],\n        \"semantic_type\": \"\",\n        \"description\": \"\"\n      }\n    },\n    {\n      \"column\": \"Furnishings\",\n      \"properties\": {\n        \"dtype\": \"number\",\n        \"std\": 32,\n        \"min\": 0,\n        \"max\": 184,\n        \"num_unique_values\": 27,\n        \"samples\": [\n          19,\n          26,\n          21\n        ],\n        \"semantic_type\": \"\",\n        \"description\": \"\"\n      }\n    },\n    {\n      \"column\": \"Labels\",\n      \"properties\": {\n        \"dtype\": \"number\",\n        \"std\": 13,\n        \"min\": 0,\n        \"max\": 80,\n        \"num_unique_values\": 15,\n        \"samples\": [\n          7,\n          6,\n          80\n        ],\n        \"semantic_type\": \"\",\n        \"description\": \"\"\n      }\n    },\n    {\n      \"column\": \"Machines\",\n      \"properties\": {\n        \"dtype\": \"number\",\n        \"std\": 4,\n        \"min\": 0,\n        \"max\": 23,\n        \"num_unique_values\": 11,\n        \"samples\": [\n          8,\n          23,\n          1\n        ],\n        \"semantic_type\": \"\",\n        \"description\": \"\"\n      }\n    },\n    {\n      \"column\": \"Paper\",\n      \"properties\": {\n        \"dtype\": \"number\",\n        \"std\": 47,\n        \"min\": 0,\n        \"max\": 281,\n        \"num_unique_values\": 26,\n        \"samples\": [\n          30,\n          11,\n          281\n        ],\n        \"semantic_type\": \"\",\n        \"description\": \"\"\n      }\n    },\n    {\n      \"column\": \"Phones\",\n      \"properties\": {\n        \"dtype\": \"number\",\n        \"std\": 30,\n        \"min\": 0,\n        \"max\": 168,\n        \"num_unique_values\": 25,\n        \"samples\": [\n          27,\n          3,\n          168\n        ],\n        \"semantic_type\": \"\",\n        \"description\": \"\"\n      }\n    },\n    {\n      \"column\": \"Storage\",\n      \"properties\": {\n        \"dtype\": \"number\",\n        \"std\": 28,\n        \"min\": 0,\n        \"max\": 159,\n        \"num_unique_values\": 25,\n        \"samples\": [\n          21,\n          14,\n          159\n        ],\n        \"semantic_type\": \"\",\n        \"description\": \"\"\n      }\n    },\n    {\n      \"column\": \"Supplies\",\n      \"properties\": {\n        \"dtype\": \"number\",\n        \"std\": 7,\n        \"min\": 0,\n        \"max\": 41,\n        \"num_unique_values\": 13,\n        \"samples\": [\n          3,\n          0,\n          41\n        ],\n        \"semantic_type\": \"\",\n        \"description\": \"\"\n      }\n    },\n    {\n      \"column\": \"Tables\",\n      \"properties\": {\n        \"dtype\": \"number\",\n        \"std\": 11,\n        \"min\": 0,\n        \"max\": 69,\n        \"num_unique_values\": 17,\n        \"samples\": [\n          69,\n          28,\n          18\n        ],\n        \"semantic_type\": \"\",\n        \"description\": \"\"\n      }\n    }\n  ]\n}"
            }
          },
          "metadata": {},
          "execution_count": 33
        }
      ]
    },
    {
      "cell_type": "markdown",
      "source": [
        "* From sub-category vs. state, it is observed that binders are the highest ordered sub-category by California followed by New York."
      ],
      "metadata": {
        "id": "nBsxIULPcANl"
      }
    },
    {
      "cell_type": "code",
      "source": [
        "sub_category_city = pd.crosstab(data['city'],data['sub-category'])\n",
        "sub_category_city_sort = sub_category_city.sort_values(by='Paper',ascending=False)\n",
        "sub_category_city_sort.head()"
      ],
      "metadata": {
        "colab": {
          "base_uri": "https://localhost:8080/",
          "height": 309
        },
        "id": "EBOsYFP8jnix",
        "outputId": "9e435f92-9de3-4fa0-c42b-04b67b77e802"
      },
      "execution_count": null,
      "outputs": [
        {
          "output_type": "execute_result",
          "data": {
            "text/plain": [
              "sub-category   Accessories  Appliances  Art  Binders  Bookcases  Chairs  \\\n",
              "city                                                                      \n",
              "New York City           64          35   69      140         29      61   \n",
              "Los Angeles             55          36   65       93         14      45   \n",
              "San Francisco           41          24   48       72         16      23   \n",
              "Philadelphia            43          21   35       87          8      31   \n",
              "Houston                 26          20   25       60         11      26   \n",
              "\n",
              "sub-category   Copiers  Envelopes  Fasteners  Furnishings  Labels  Machines  \\\n",
              "city                                                                          \n",
              "New York City        6         21         17           74      36        12   \n",
              "Los Angeles          7         10         14           62      26        11   \n",
              "San Francisco        3         15          6           44      21         5   \n",
              "Philadelphia         5         16         14           57      21         7   \n",
              "Houston              1         10          9           34      10         6   \n",
              "\n",
              "sub-category   Paper  Phones  Storage  Supplies  Tables  \n",
              "city                                                     \n",
              "New York City    121      87       79        17      23  \n",
              "Los Angeles      116      72       59        13      30  \n",
              "San Francisco     72      35       44        15      16  \n",
              "Philadelphia      61      58       44         9      15  \n",
              "Houston           58      32       32         5       9  "
            ],
            "text/html": [
              "\n",
              "  <div id=\"df-63bb2f72-03ab-4a8d-acb6-aa52f134541b\" class=\"colab-df-container\">\n",
              "    <div>\n",
              "<style scoped>\n",
              "    .dataframe tbody tr th:only-of-type {\n",
              "        vertical-align: middle;\n",
              "    }\n",
              "\n",
              "    .dataframe tbody tr th {\n",
              "        vertical-align: top;\n",
              "    }\n",
              "\n",
              "    .dataframe thead th {\n",
              "        text-align: right;\n",
              "    }\n",
              "</style>\n",
              "<table border=\"1\" class=\"dataframe\">\n",
              "  <thead>\n",
              "    <tr style=\"text-align: right;\">\n",
              "      <th>sub-category</th>\n",
              "      <th>Accessories</th>\n",
              "      <th>Appliances</th>\n",
              "      <th>Art</th>\n",
              "      <th>Binders</th>\n",
              "      <th>Bookcases</th>\n",
              "      <th>Chairs</th>\n",
              "      <th>Copiers</th>\n",
              "      <th>Envelopes</th>\n",
              "      <th>Fasteners</th>\n",
              "      <th>Furnishings</th>\n",
              "      <th>Labels</th>\n",
              "      <th>Machines</th>\n",
              "      <th>Paper</th>\n",
              "      <th>Phones</th>\n",
              "      <th>Storage</th>\n",
              "      <th>Supplies</th>\n",
              "      <th>Tables</th>\n",
              "    </tr>\n",
              "    <tr>\n",
              "      <th>city</th>\n",
              "      <th></th>\n",
              "      <th></th>\n",
              "      <th></th>\n",
              "      <th></th>\n",
              "      <th></th>\n",
              "      <th></th>\n",
              "      <th></th>\n",
              "      <th></th>\n",
              "      <th></th>\n",
              "      <th></th>\n",
              "      <th></th>\n",
              "      <th></th>\n",
              "      <th></th>\n",
              "      <th></th>\n",
              "      <th></th>\n",
              "      <th></th>\n",
              "      <th></th>\n",
              "    </tr>\n",
              "  </thead>\n",
              "  <tbody>\n",
              "    <tr>\n",
              "      <th>New York City</th>\n",
              "      <td>64</td>\n",
              "      <td>35</td>\n",
              "      <td>69</td>\n",
              "      <td>140</td>\n",
              "      <td>29</td>\n",
              "      <td>61</td>\n",
              "      <td>6</td>\n",
              "      <td>21</td>\n",
              "      <td>17</td>\n",
              "      <td>74</td>\n",
              "      <td>36</td>\n",
              "      <td>12</td>\n",
              "      <td>121</td>\n",
              "      <td>87</td>\n",
              "      <td>79</td>\n",
              "      <td>17</td>\n",
              "      <td>23</td>\n",
              "    </tr>\n",
              "    <tr>\n",
              "      <th>Los Angeles</th>\n",
              "      <td>55</td>\n",
              "      <td>36</td>\n",
              "      <td>65</td>\n",
              "      <td>93</td>\n",
              "      <td>14</td>\n",
              "      <td>45</td>\n",
              "      <td>7</td>\n",
              "      <td>10</td>\n",
              "      <td>14</td>\n",
              "      <td>62</td>\n",
              "      <td>26</td>\n",
              "      <td>11</td>\n",
              "      <td>116</td>\n",
              "      <td>72</td>\n",
              "      <td>59</td>\n",
              "      <td>13</td>\n",
              "      <td>30</td>\n",
              "    </tr>\n",
              "    <tr>\n",
              "      <th>San Francisco</th>\n",
              "      <td>41</td>\n",
              "      <td>24</td>\n",
              "      <td>48</td>\n",
              "      <td>72</td>\n",
              "      <td>16</td>\n",
              "      <td>23</td>\n",
              "      <td>3</td>\n",
              "      <td>15</td>\n",
              "      <td>6</td>\n",
              "      <td>44</td>\n",
              "      <td>21</td>\n",
              "      <td>5</td>\n",
              "      <td>72</td>\n",
              "      <td>35</td>\n",
              "      <td>44</td>\n",
              "      <td>15</td>\n",
              "      <td>16</td>\n",
              "    </tr>\n",
              "    <tr>\n",
              "      <th>Philadelphia</th>\n",
              "      <td>43</td>\n",
              "      <td>21</td>\n",
              "      <td>35</td>\n",
              "      <td>87</td>\n",
              "      <td>8</td>\n",
              "      <td>31</td>\n",
              "      <td>5</td>\n",
              "      <td>16</td>\n",
              "      <td>14</td>\n",
              "      <td>57</td>\n",
              "      <td>21</td>\n",
              "      <td>7</td>\n",
              "      <td>61</td>\n",
              "      <td>58</td>\n",
              "      <td>44</td>\n",
              "      <td>9</td>\n",
              "      <td>15</td>\n",
              "    </tr>\n",
              "    <tr>\n",
              "      <th>Houston</th>\n",
              "      <td>26</td>\n",
              "      <td>20</td>\n",
              "      <td>25</td>\n",
              "      <td>60</td>\n",
              "      <td>11</td>\n",
              "      <td>26</td>\n",
              "      <td>1</td>\n",
              "      <td>10</td>\n",
              "      <td>9</td>\n",
              "      <td>34</td>\n",
              "      <td>10</td>\n",
              "      <td>6</td>\n",
              "      <td>58</td>\n",
              "      <td>32</td>\n",
              "      <td>32</td>\n",
              "      <td>5</td>\n",
              "      <td>9</td>\n",
              "    </tr>\n",
              "  </tbody>\n",
              "</table>\n",
              "</div>\n",
              "    <div class=\"colab-df-buttons\">\n",
              "\n",
              "  <div class=\"colab-df-container\">\n",
              "    <button class=\"colab-df-convert\" onclick=\"convertToInteractive('df-63bb2f72-03ab-4a8d-acb6-aa52f134541b')\"\n",
              "            title=\"Convert this dataframe to an interactive table.\"\n",
              "            style=\"display:none;\">\n",
              "\n",
              "  <svg xmlns=\"http://www.w3.org/2000/svg\" height=\"24px\" viewBox=\"0 -960 960 960\">\n",
              "    <path d=\"M120-120v-720h720v720H120Zm60-500h600v-160H180v160Zm220 220h160v-160H400v160Zm0 220h160v-160H400v160ZM180-400h160v-160H180v160Zm440 0h160v-160H620v160ZM180-180h160v-160H180v160Zm440 0h160v-160H620v160Z\"/>\n",
              "  </svg>\n",
              "    </button>\n",
              "\n",
              "  <style>\n",
              "    .colab-df-container {\n",
              "      display:flex;\n",
              "      gap: 12px;\n",
              "    }\n",
              "\n",
              "    .colab-df-convert {\n",
              "      background-color: #E8F0FE;\n",
              "      border: none;\n",
              "      border-radius: 50%;\n",
              "      cursor: pointer;\n",
              "      display: none;\n",
              "      fill: #1967D2;\n",
              "      height: 32px;\n",
              "      padding: 0 0 0 0;\n",
              "      width: 32px;\n",
              "    }\n",
              "\n",
              "    .colab-df-convert:hover {\n",
              "      background-color: #E2EBFA;\n",
              "      box-shadow: 0px 1px 2px rgba(60, 64, 67, 0.3), 0px 1px 3px 1px rgba(60, 64, 67, 0.15);\n",
              "      fill: #174EA6;\n",
              "    }\n",
              "\n",
              "    .colab-df-buttons div {\n",
              "      margin-bottom: 4px;\n",
              "    }\n",
              "\n",
              "    [theme=dark] .colab-df-convert {\n",
              "      background-color: #3B4455;\n",
              "      fill: #D2E3FC;\n",
              "    }\n",
              "\n",
              "    [theme=dark] .colab-df-convert:hover {\n",
              "      background-color: #434B5C;\n",
              "      box-shadow: 0px 1px 3px 1px rgba(0, 0, 0, 0.15);\n",
              "      filter: drop-shadow(0px 1px 2px rgba(0, 0, 0, 0.3));\n",
              "      fill: #FFFFFF;\n",
              "    }\n",
              "  </style>\n",
              "\n",
              "    <script>\n",
              "      const buttonEl =\n",
              "        document.querySelector('#df-63bb2f72-03ab-4a8d-acb6-aa52f134541b button.colab-df-convert');\n",
              "      buttonEl.style.display =\n",
              "        google.colab.kernel.accessAllowed ? 'block' : 'none';\n",
              "\n",
              "      async function convertToInteractive(key) {\n",
              "        const element = document.querySelector('#df-63bb2f72-03ab-4a8d-acb6-aa52f134541b');\n",
              "        const dataTable =\n",
              "          await google.colab.kernel.invokeFunction('convertToInteractive',\n",
              "                                                    [key], {});\n",
              "        if (!dataTable) return;\n",
              "\n",
              "        const docLinkHtml = 'Like what you see? Visit the ' +\n",
              "          '<a target=\"_blank\" href=https://colab.research.google.com/notebooks/data_table.ipynb>data table notebook</a>'\n",
              "          + ' to learn more about interactive tables.';\n",
              "        element.innerHTML = '';\n",
              "        dataTable['output_type'] = 'display_data';\n",
              "        await google.colab.output.renderOutput(dataTable, element);\n",
              "        const docLink = document.createElement('div');\n",
              "        docLink.innerHTML = docLinkHtml;\n",
              "        element.appendChild(docLink);\n",
              "      }\n",
              "    </script>\n",
              "  </div>\n",
              "\n",
              "\n",
              "<div id=\"df-bf0aa096-7182-45c0-9fb2-0325862cf6b9\">\n",
              "  <button class=\"colab-df-quickchart\" onclick=\"quickchart('df-bf0aa096-7182-45c0-9fb2-0325862cf6b9')\"\n",
              "            title=\"Suggest charts\"\n",
              "            style=\"display:none;\">\n",
              "\n",
              "<svg xmlns=\"http://www.w3.org/2000/svg\" height=\"24px\"viewBox=\"0 0 24 24\"\n",
              "     width=\"24px\">\n",
              "    <g>\n",
              "        <path d=\"M19 3H5c-1.1 0-2 .9-2 2v14c0 1.1.9 2 2 2h14c1.1 0 2-.9 2-2V5c0-1.1-.9-2-2-2zM9 17H7v-7h2v7zm4 0h-2V7h2v10zm4 0h-2v-4h2v4z\"/>\n",
              "    </g>\n",
              "</svg>\n",
              "  </button>\n",
              "\n",
              "<style>\n",
              "  .colab-df-quickchart {\n",
              "      --bg-color: #E8F0FE;\n",
              "      --fill-color: #1967D2;\n",
              "      --hover-bg-color: #E2EBFA;\n",
              "      --hover-fill-color: #174EA6;\n",
              "      --disabled-fill-color: #AAA;\n",
              "      --disabled-bg-color: #DDD;\n",
              "  }\n",
              "\n",
              "  [theme=dark] .colab-df-quickchart {\n",
              "      --bg-color: #3B4455;\n",
              "      --fill-color: #D2E3FC;\n",
              "      --hover-bg-color: #434B5C;\n",
              "      --hover-fill-color: #FFFFFF;\n",
              "      --disabled-bg-color: #3B4455;\n",
              "      --disabled-fill-color: #666;\n",
              "  }\n",
              "\n",
              "  .colab-df-quickchart {\n",
              "    background-color: var(--bg-color);\n",
              "    border: none;\n",
              "    border-radius: 50%;\n",
              "    cursor: pointer;\n",
              "    display: none;\n",
              "    fill: var(--fill-color);\n",
              "    height: 32px;\n",
              "    padding: 0;\n",
              "    width: 32px;\n",
              "  }\n",
              "\n",
              "  .colab-df-quickchart:hover {\n",
              "    background-color: var(--hover-bg-color);\n",
              "    box-shadow: 0 1px 2px rgba(60, 64, 67, 0.3), 0 1px 3px 1px rgba(60, 64, 67, 0.15);\n",
              "    fill: var(--button-hover-fill-color);\n",
              "  }\n",
              "\n",
              "  .colab-df-quickchart-complete:disabled,\n",
              "  .colab-df-quickchart-complete:disabled:hover {\n",
              "    background-color: var(--disabled-bg-color);\n",
              "    fill: var(--disabled-fill-color);\n",
              "    box-shadow: none;\n",
              "  }\n",
              "\n",
              "  .colab-df-spinner {\n",
              "    border: 2px solid var(--fill-color);\n",
              "    border-color: transparent;\n",
              "    border-bottom-color: var(--fill-color);\n",
              "    animation:\n",
              "      spin 1s steps(1) infinite;\n",
              "  }\n",
              "\n",
              "  @keyframes spin {\n",
              "    0% {\n",
              "      border-color: transparent;\n",
              "      border-bottom-color: var(--fill-color);\n",
              "      border-left-color: var(--fill-color);\n",
              "    }\n",
              "    20% {\n",
              "      border-color: transparent;\n",
              "      border-left-color: var(--fill-color);\n",
              "      border-top-color: var(--fill-color);\n",
              "    }\n",
              "    30% {\n",
              "      border-color: transparent;\n",
              "      border-left-color: var(--fill-color);\n",
              "      border-top-color: var(--fill-color);\n",
              "      border-right-color: var(--fill-color);\n",
              "    }\n",
              "    40% {\n",
              "      border-color: transparent;\n",
              "      border-right-color: var(--fill-color);\n",
              "      border-top-color: var(--fill-color);\n",
              "    }\n",
              "    60% {\n",
              "      border-color: transparent;\n",
              "      border-right-color: var(--fill-color);\n",
              "    }\n",
              "    80% {\n",
              "      border-color: transparent;\n",
              "      border-right-color: var(--fill-color);\n",
              "      border-bottom-color: var(--fill-color);\n",
              "    }\n",
              "    90% {\n",
              "      border-color: transparent;\n",
              "      border-bottom-color: var(--fill-color);\n",
              "    }\n",
              "  }\n",
              "</style>\n",
              "\n",
              "  <script>\n",
              "    async function quickchart(key) {\n",
              "      const quickchartButtonEl =\n",
              "        document.querySelector('#' + key + ' button');\n",
              "      quickchartButtonEl.disabled = true;  // To prevent multiple clicks.\n",
              "      quickchartButtonEl.classList.add('colab-df-spinner');\n",
              "      try {\n",
              "        const charts = await google.colab.kernel.invokeFunction(\n",
              "            'suggestCharts', [key], {});\n",
              "      } catch (error) {\n",
              "        console.error('Error during call to suggestCharts:', error);\n",
              "      }\n",
              "      quickchartButtonEl.classList.remove('colab-df-spinner');\n",
              "      quickchartButtonEl.classList.add('colab-df-quickchart-complete');\n",
              "    }\n",
              "    (() => {\n",
              "      let quickchartButtonEl =\n",
              "        document.querySelector('#df-bf0aa096-7182-45c0-9fb2-0325862cf6b9 button');\n",
              "      quickchartButtonEl.style.display =\n",
              "        google.colab.kernel.accessAllowed ? 'block' : 'none';\n",
              "    })();\n",
              "  </script>\n",
              "</div>\n",
              "\n",
              "    </div>\n",
              "  </div>\n"
            ],
            "application/vnd.google.colaboratory.intrinsic+json": {
              "type": "dataframe",
              "variable_name": "sub_category_city_sort",
              "summary": "{\n  \"name\": \"sub_category_city_sort\",\n  \"rows\": 529,\n  \"fields\": [\n    {\n      \"column\": \"Accessories\",\n      \"properties\": {\n        \"dtype\": \"number\",\n        \"std\": 5,\n        \"min\": 0,\n        \"max\": 64,\n        \"num_unique_values\": 20,\n        \"samples\": [\n          64,\n          1,\n          3\n        ],\n        \"semantic_type\": \"\",\n        \"description\": \"\"\n      }\n    },\n    {\n      \"column\": \"Appliances\",\n      \"properties\": {\n        \"dtype\": \"number\",\n        \"std\": 3,\n        \"min\": 0,\n        \"max\": 36,\n        \"num_unique_values\": 16,\n        \"samples\": [\n          35,\n          36,\n          13\n        ],\n        \"semantic_type\": \"\",\n        \"description\": \"\"\n      }\n    },\n    {\n      \"column\": \"Art\",\n      \"properties\": {\n        \"dtype\": \"number\",\n        \"std\": 5,\n        \"min\": 0,\n        \"max\": 69,\n        \"num_unique_values\": 21,\n        \"samples\": [\n          69,\n          0,\n          1\n        ],\n        \"semantic_type\": \"\",\n        \"description\": \"\"\n      }\n    },\n    {\n      \"column\": \"Binders\",\n      \"properties\": {\n        \"dtype\": \"number\",\n        \"std\": 10,\n        \"min\": 0,\n        \"max\": 140,\n        \"num_unique_values\": 26,\n        \"samples\": [\n          20,\n          5,\n          140\n        ],\n        \"semantic_type\": \"\",\n        \"description\": \"\"\n      }\n    },\n    {\n      \"column\": \"Bookcases\",\n      \"properties\": {\n        \"dtype\": \"number\",\n        \"std\": 1,\n        \"min\": 0,\n        \"max\": 29,\n        \"num_unique_values\": 12,\n        \"samples\": [\n          2,\n          1,\n          29\n        ],\n        \"semantic_type\": \"\",\n        \"description\": \"\"\n      }\n    },\n    {\n      \"column\": \"Chairs\",\n      \"properties\": {\n        \"dtype\": \"number\",\n        \"std\": 4,\n        \"min\": 0,\n        \"max\": 61,\n        \"num_unique_values\": 19,\n        \"samples\": [\n          61,\n          30,\n          7\n        ],\n        \"semantic_type\": \"\",\n        \"description\": \"\"\n      }\n    },\n    {\n      \"column\": \"Copiers\",\n      \"properties\": {\n        \"dtype\": \"number\",\n        \"std\": 0,\n        \"min\": 0,\n        \"max\": 7,\n        \"num_unique_values\": 7,\n        \"samples\": [\n          6,\n          7,\n          2\n        ],\n        \"semantic_type\": \"\",\n        \"description\": \"\"\n      }\n    },\n    {\n      \"column\": \"Envelopes\",\n      \"properties\": {\n        \"dtype\": \"number\",\n        \"std\": 1,\n        \"min\": 0,\n        \"max\": 21,\n        \"num_unique_values\": 11,\n        \"samples\": [\n          5,\n          21,\n          0\n        ],\n        \"semantic_type\": \"\",\n        \"description\": \"\"\n      }\n    },\n    {\n      \"column\": \"Fasteners\",\n      \"properties\": {\n        \"dtype\": \"number\",\n        \"std\": 1,\n        \"min\": 0,\n        \"max\": 17,\n        \"num_unique_values\": 12,\n        \"samples\": [\n          1,\n          2,\n          17\n        ],\n        \"semantic_type\": \"\",\n        \"description\": \"\"\n      }\n    },\n    {\n      \"column\": \"Furnishings\",\n      \"properties\": {\n        \"dtype\": \"number\",\n        \"std\": 6,\n        \"min\": 0,\n        \"max\": 74,\n        \"num_unique_values\": 22,\n        \"samples\": [\n          74,\n          5,\n          18\n        ],\n        \"semantic_type\": \"\",\n        \"description\": \"\"\n      }\n    },\n    {\n      \"column\": \"Labels\",\n      \"properties\": {\n        \"dtype\": \"number\",\n        \"std\": 2,\n        \"min\": 0,\n        \"max\": 36,\n        \"num_unique_values\": 13,\n        \"samples\": [\n          0,\n          4,\n          36\n        ],\n        \"semantic_type\": \"\",\n        \"description\": \"\"\n      }\n    },\n    {\n      \"column\": \"Machines\",\n      \"properties\": {\n        \"dtype\": \"number\",\n        \"std\": 0,\n        \"min\": 0,\n        \"max\": 12,\n        \"num_unique_values\": 10,\n        \"samples\": [\n          1,\n          11,\n          4\n        ],\n        \"semantic_type\": \"\",\n        \"description\": \"\"\n      }\n    },\n    {\n      \"column\": \"Paper\",\n      \"properties\": {\n        \"dtype\": \"number\",\n        \"std\": 9,\n        \"min\": 0,\n        \"max\": 121,\n        \"num_unique_values\": 25,\n        \"samples\": [\n          24,\n          8,\n          121\n        ],\n        \"semantic_type\": \"\",\n        \"description\": \"\"\n      }\n    },\n    {\n      \"column\": \"Phones\",\n      \"properties\": {\n        \"dtype\": \"number\",\n        \"std\": 6,\n        \"min\": 0,\n        \"max\": 87,\n        \"num_unique_values\": 23,\n        \"samples\": [\n          5,\n          11,\n          87\n        ],\n        \"semantic_type\": \"\",\n        \"description\": \"\"\n      }\n    },\n    {\n      \"column\": \"Storage\",\n      \"properties\": {\n        \"dtype\": \"number\",\n        \"std\": 5,\n        \"min\": 0,\n        \"max\": 79,\n        \"num_unique_values\": 20,\n        \"samples\": [\n          79,\n          8,\n          3\n        ],\n        \"semantic_type\": \"\",\n        \"description\": \"\"\n      }\n    },\n    {\n      \"column\": \"Supplies\",\n      \"properties\": {\n        \"dtype\": \"number\",\n        \"std\": 1,\n        \"min\": 0,\n        \"max\": 17,\n        \"num_unique_values\": 13,\n        \"samples\": [\n          4,\n          0,\n          17\n        ],\n        \"semantic_type\": \"\",\n        \"description\": \"\"\n      }\n    },\n    {\n      \"column\": \"Tables\",\n      \"properties\": {\n        \"dtype\": \"number\",\n        \"std\": 2,\n        \"min\": 0,\n        \"max\": 30,\n        \"num_unique_values\": 15,\n        \"samples\": [\n          7,\n          3,\n          23\n        ],\n        \"semantic_type\": \"\",\n        \"description\": \"\"\n      }\n    }\n  ]\n}"
            }
          },
          "metadata": {},
          "execution_count": 34
        }
      ]
    },
    {
      "cell_type": "markdown",
      "source": [
        "From sub-category vs. city, it is observed that binders are the highest ordered sub-category by New York followed by Los Angeles."
      ],
      "metadata": {
        "id": "mkjV0GACe9D4"
      }
    },
    {
      "cell_type": "code",
      "source": [
        "category_region = pd.crosstab(data['region'],data['category'])\n",
        "category_region.plot.bar()"
      ],
      "metadata": {
        "colab": {
          "base_uri": "https://localhost:8080/",
          "height": 504
        },
        "id": "MFpjr0CNkODN",
        "outputId": "550fdba9-ef5b-43d1-8a3e-027f9f518b26"
      },
      "execution_count": null,
      "outputs": [
        {
          "output_type": "execute_result",
          "data": {
            "text/plain": [
              "<Axes: xlabel='region'>"
            ]
          },
          "metadata": {},
          "execution_count": 35
        },
        {
          "output_type": "display_data",
          "data": {
            "text/plain": [
              "<Figure size 640x480 with 1 Axes>"
            ],
            "image/png": "[encoded data removed]"
          },
          "metadata": {}
        }
      ]
    },
    {
      "cell_type": "markdown",
      "source": [
        "* West region orders more office Supplies."
      ],
      "metadata": {
        "id": "qOX-f2ayf9et"
      }
    },
    {
      "cell_type": "code",
      "source": [
        "ship_mode_state = pd.crosstab(data['state'],data['ship mode'])\n",
        "ship_mode_state_sort = ship_mode_state.sort_values(by='Same Day',ascending=False)\n",
        "ship_mode_state_sort.head()"
      ],
      "metadata": {
        "colab": {
          "base_uri": "https://localhost:8080/",
          "height": 237
        },
        "id": "cgmauZ_6lHsK",
        "outputId": "b2639bd4-0de0-4913-bb4e-fa71a24c2c95"
      },
      "execution_count": null,
      "outputs": [
        {
          "output_type": "execute_result",
          "data": {
            "text/plain": [
              "ship mode   First Class  Same Day  Second Class  Standard Class\n",
              "state                                                          \n",
              "California          314       117           386            1129\n",
              "New York            172        62           204             659\n",
              "Ohio                 85        52            93             224\n",
              "Texas               140        48           188             597\n",
              "Washington           68        39           104             293"
            ],
            "text/html": [
              "\n",
              "  <div id=\"df-c31fd4cf-7cf2-4d7a-a34c-dee3da70fb87\" class=\"colab-df-container\">\n",
              "    <div>\n",
              "<style scoped>\n",
              "    .dataframe tbody tr th:only-of-type {\n",
              "        vertical-align: middle;\n",
              "    }\n",
              "\n",
              "    .dataframe tbody tr th {\n",
              "        vertical-align: top;\n",
              "    }\n",
              "\n",
              "    .dataframe thead th {\n",
              "        text-align: right;\n",
              "    }\n",
              "</style>\n",
              "<table border=\"1\" class=\"dataframe\">\n",
              "  <thead>\n",
              "    <tr style=\"text-align: right;\">\n",
              "      <th>ship mode</th>\n",
              "      <th>First Class</th>\n",
              "      <th>Same Day</th>\n",
              "      <th>Second Class</th>\n",
              "      <th>Standard Class</th>\n",
              "    </tr>\n",
              "    <tr>\n",
              "      <th>state</th>\n",
              "      <th></th>\n",
              "      <th></th>\n",
              "      <th></th>\n",
              "      <th></th>\n",
              "    </tr>\n",
              "  </thead>\n",
              "  <tbody>\n",
              "    <tr>\n",
              "      <th>California</th>\n",
              "      <td>314</td>\n",
              "      <td>117</td>\n",
              "      <td>386</td>\n",
              "      <td>1129</td>\n",
              "    </tr>\n",
              "    <tr>\n",
              "      <th>New York</th>\n",
              "      <td>172</td>\n",
              "      <td>62</td>\n",
              "      <td>204</td>\n",
              "      <td>659</td>\n",
              "    </tr>\n",
              "    <tr>\n",
              "      <th>Ohio</th>\n",
              "      <td>85</td>\n",
              "      <td>52</td>\n",
              "      <td>93</td>\n",
              "      <td>224</td>\n",
              "    </tr>\n",
              "    <tr>\n",
              "      <th>Texas</th>\n",
              "      <td>140</td>\n",
              "      <td>48</td>\n",
              "      <td>188</td>\n",
              "      <td>597</td>\n",
              "    </tr>\n",
              "    <tr>\n",
              "      <th>Washington</th>\n",
              "      <td>68</td>\n",
              "      <td>39</td>\n",
              "      <td>104</td>\n",
              "      <td>293</td>\n",
              "    </tr>\n",
              "  </tbody>\n",
              "</table>\n",
              "</div>\n",
              "    <div class=\"colab-df-buttons\">\n",
              "\n",
              "  <div class=\"colab-df-container\">\n",
              "    <button class=\"colab-df-convert\" onclick=\"convertToInteractive('df-c31fd4cf-7cf2-4d7a-a34c-dee3da70fb87')\"\n",
              "            title=\"Convert this dataframe to an interactive table.\"\n",
              "            style=\"display:none;\">\n",
              "\n",
              "  <svg xmlns=\"http://www.w3.org/2000/svg\" height=\"24px\" viewBox=\"0 -960 960 960\">\n",
              "    <path d=\"M120-120v-720h720v720H120Zm60-500h600v-160H180v160Zm220 220h160v-160H400v160Zm0 220h160v-160H400v160ZM180-400h160v-160H180v160Zm440 0h160v-160H620v160ZM180-180h160v-160H180v160Zm440 0h160v-160H620v160Z\"/>\n",
              "  </svg>\n",
              "    </button>\n",
              "\n",
              "  <style>\n",
              "    .colab-df-container {\n",
              "      display:flex;\n",
              "      gap: 12px;\n",
              "    }\n",
              "\n",
              "    .colab-df-convert {\n",
              "      background-color: #E8F0FE;\n",
              "      border: none;\n",
              "      border-radius: 50%;\n",
              "      cursor: pointer;\n",
              "      display: none;\n",
              "      fill: #1967D2;\n",
              "      height: 32px;\n",
              "      padding: 0 0 0 0;\n",
              "      width: 32px;\n",
              "    }\n",
              "\n",
              "    .colab-df-convert:hover {\n",
              "      background-color: #E2EBFA;\n",
              "      box-shadow: 0px 1px 2px rgba(60, 64, 67, 0.3), 0px 1px 3px 1px rgba(60, 64, 67, 0.15);\n",
              "      fill: #174EA6;\n",
              "    }\n",
              "\n",
              "    .colab-df-buttons div {\n",
              "      margin-bottom: 4px;\n",
              "    }\n",
              "\n",
              "    [theme=dark] .colab-df-convert {\n",
              "      background-color: #3B4455;\n",
              "      fill: #D2E3FC;\n",
              "    }\n",
              "\n",
              "    [theme=dark] .colab-df-convert:hover {\n",
              "      background-color: #434B5C;\n",
              "      box-shadow: 0px 1px 3px 1px rgba(0, 0, 0, 0.15);\n",
              "      filter: drop-shadow(0px 1px 2px rgba(0, 0, 0, 0.3));\n",
              "      fill: #FFFFFF;\n",
              "    }\n",
              "  </style>\n",
              "\n",
              "    <script>\n",
              "      const buttonEl =\n",
              "        document.querySelector('#df-c31fd4cf-7cf2-4d7a-a34c-dee3da70fb87 button.colab-df-convert');\n",
              "      buttonEl.style.display =\n",
              "        google.colab.kernel.accessAllowed ? 'block' : 'none';\n",
              "\n",
              "      async function convertToInteractive(key) {\n",
              "        const element = document.querySelector('#df-c31fd4cf-7cf2-4d7a-a34c-dee3da70fb87');\n",
              "        const dataTable =\n",
              "          await google.colab.kernel.invokeFunction('convertToInteractive',\n",
              "                                                    [key], {});\n",
              "        if (!dataTable) return;\n",
              "\n",
              "        const docLinkHtml = 'Like what you see? Visit the ' +\n",
              "          '<a target=\"_blank\" href=https://colab.research.google.com/notebooks/data_table.ipynb>data table notebook</a>'\n",
              "          + ' to learn more about interactive tables.';\n",
              "        element.innerHTML = '';\n",
              "        dataTable['output_type'] = 'display_data';\n",
              "        await google.colab.output.renderOutput(dataTable, element);\n",
              "        const docLink = document.createElement('div');\n",
              "        docLink.innerHTML = docLinkHtml;\n",
              "        element.appendChild(docLink);\n",
              "      }\n",
              "    </script>\n",
              "  </div>\n",
              "\n",
              "\n",
              "<div id=\"df-f7c3f725-6a8d-41a1-a1c8-63d532f5b82c\">\n",
              "  <button class=\"colab-df-quickchart\" onclick=\"quickchart('df-f7c3f725-6a8d-41a1-a1c8-63d532f5b82c')\"\n",
              "            title=\"Suggest charts\"\n",
              "            style=\"display:none;\">\n",
              "\n",
              "<svg xmlns=\"http://www.w3.org/2000/svg\" height=\"24px\"viewBox=\"0 0 24 24\"\n",
              "     width=\"24px\">\n",
              "    <g>\n",
              "        <path d=\"M19 3H5c-1.1 0-2 .9-2 2v14c0 1.1.9 2 2 2h14c1.1 0 2-.9 2-2V5c0-1.1-.9-2-2-2zM9 17H7v-7h2v7zm4 0h-2V7h2v10zm4 0h-2v-4h2v4z\"/>\n",
              "    </g>\n",
              "</svg>\n",
              "  </button>\n",
              "\n",
              "<style>\n",
              "  .colab-df-quickchart {\n",
              "      --bg-color: #E8F0FE;\n",
              "      --fill-color: #1967D2;\n",
              "      --hover-bg-color: #E2EBFA;\n",
              "      --hover-fill-color: #174EA6;\n",
              "      --disabled-fill-color: #AAA;\n",
              "      --disabled-bg-color: #DDD;\n",
              "  }\n",
              "\n",
              "  [theme=dark] .colab-df-quickchart {\n",
              "      --bg-color: #3B4455;\n",
              "      --fill-color: #D2E3FC;\n",
              "      --hover-bg-color: #434B5C;\n",
              "      --hover-fill-color: #FFFFFF;\n",
              "      --disabled-bg-color: #3B4455;\n",
              "      --disabled-fill-color: #666;\n",
              "  }\n",
              "\n",
              "  .colab-df-quickchart {\n",
              "    background-color: var(--bg-color);\n",
              "    border: none;\n",
              "    border-radius: 50%;\n",
              "    cursor: pointer;\n",
              "    display: none;\n",
              "    fill: var(--fill-color);\n",
              "    height: 32px;\n",
              "    padding: 0;\n",
              "    width: 32px;\n",
              "  }\n",
              "\n",
              "  .colab-df-quickchart:hover {\n",
              "    background-color: var(--hover-bg-color);\n",
              "    box-shadow: 0 1px 2px rgba(60, 64, 67, 0.3), 0 1px 3px 1px rgba(60, 64, 67, 0.15);\n",
              "    fill: var(--button-hover-fill-color);\n",
              "  }\n",
              "\n",
              "  .colab-df-quickchart-complete:disabled,\n",
              "  .colab-df-quickchart-complete:disabled:hover {\n",
              "    background-color: var(--disabled-bg-color);\n",
              "    fill: var(--disabled-fill-color);\n",
              "    box-shadow: none;\n",
              "  }\n",
              "\n",
              "  .colab-df-spinner {\n",
              "    border: 2px solid var(--fill-color);\n",
              "    border-color: transparent;\n",
              "    border-bottom-color: var(--fill-color);\n",
              "    animation:\n",
              "      spin 1s steps(1) infinite;\n",
              "  }\n",
              "\n",
              "  @keyframes spin {\n",
              "    0% {\n",
              "      border-color: transparent;\n",
              "      border-bottom-color: var(--fill-color);\n",
              "      border-left-color: var(--fill-color);\n",
              "    }\n",
              "    20% {\n",
              "      border-color: transparent;\n",
              "      border-left-color: var(--fill-color);\n",
              "      border-top-color: var(--fill-color);\n",
              "    }\n",
              "    30% {\n",
              "      border-color: transparent;\n",
              "      border-left-color: var(--fill-color);\n",
              "      border-top-color: var(--fill-color);\n",
              "      border-right-color: var(--fill-color);\n",
              "    }\n",
              "    40% {\n",
              "      border-color: transparent;\n",
              "      border-right-color: var(--fill-color);\n",
              "      border-top-color: var(--fill-color);\n",
              "    }\n",
              "    60% {\n",
              "      border-color: transparent;\n",
              "      border-right-color: var(--fill-color);\n",
              "    }\n",
              "    80% {\n",
              "      border-color: transparent;\n",
              "      border-right-color: var(--fill-color);\n",
              "      border-bottom-color: var(--fill-color);\n",
              "    }\n",
              "    90% {\n",
              "      border-color: transparent;\n",
              "      border-bottom-color: var(--fill-color);\n",
              "    }\n",
              "  }\n",
              "</style>\n",
              "\n",
              "  <script>\n",
              "    async function quickchart(key) {\n",
              "      const quickchartButtonEl =\n",
              "        document.querySelector('#' + key + ' button');\n",
              "      quickchartButtonEl.disabled = true;  // To prevent multiple clicks.\n",
              "      quickchartButtonEl.classList.add('colab-df-spinner');\n",
              "      try {\n",
              "        const charts = await google.colab.kernel.invokeFunction(\n",
              "            'suggestCharts', [key], {});\n",
              "      } catch (error) {\n",
              "        console.error('Error during call to suggestCharts:', error);\n",
              "      }\n",
              "      quickchartButtonEl.classList.remove('colab-df-spinner');\n",
              "      quickchartButtonEl.classList.add('colab-df-quickchart-complete');\n",
              "    }\n",
              "    (() => {\n",
              "      let quickchartButtonEl =\n",
              "        document.querySelector('#df-f7c3f725-6a8d-41a1-a1c8-63d532f5b82c button');\n",
              "      quickchartButtonEl.style.display =\n",
              "        google.colab.kernel.accessAllowed ? 'block' : 'none';\n",
              "    })();\n",
              "  </script>\n",
              "</div>\n",
              "\n",
              "    </div>\n",
              "  </div>\n"
            ],
            "application/vnd.google.colaboratory.intrinsic+json": {
              "type": "dataframe",
              "variable_name": "ship_mode_state_sort",
              "summary": "{\n  \"name\": \"ship_mode_state_sort\",\n  \"rows\": 49,\n  \"fields\": [\n    {\n      \"column\": \"First Class\",\n      \"properties\": {\n        \"dtype\": \"number\",\n        \"std\": 54,\n        \"min\": 0,\n        \"max\": 314,\n        \"num_unique_values\": 32,\n        \"samples\": [\n          6,\n          12,\n          8\n        ],\n        \"semantic_type\": \"\",\n        \"description\": \"\"\n      }\n    },\n    {\n      \"column\": \"Same Day\",\n      \"properties\": {\n        \"dtype\": \"number\",\n        \"std\": 21,\n        \"min\": 0,\n        \"max\": 117,\n        \"num_unique_values\": 20,\n        \"samples\": [\n          117,\n          2,\n          4\n        ],\n        \"semantic_type\": \"\",\n        \"description\": \"\"\n      }\n    },\n    {\n      \"column\": \"Second Class\",\n      \"properties\": {\n        \"dtype\": \"number\",\n        \"std\": 66,\n        \"min\": 0,\n        \"max\": 386,\n        \"num_unique_values\": 38,\n        \"samples\": [\n          15,\n          4,\n          104\n        ],\n        \"semantic_type\": \"\",\n        \"description\": \"\"\n      }\n    },\n    {\n      \"column\": \"Standard Class\",\n      \"properties\": {\n        \"dtype\": \"number\",\n        \"std\": 202,\n        \"min\": 1,\n        \"max\": 1129,\n        \"num_unique_values\": 43,\n        \"samples\": [\n          9,\n          15,\n          28\n        ],\n        \"semantic_type\": \"\",\n        \"description\": \"\"\n      }\n    }\n  ]\n}"
            }
          },
          "metadata": {},
          "execution_count": 36
        }
      ]
    },
    {
      "cell_type": "markdown",
      "source": [
        "* The ship mode for most of the state goes in direction Standard Class>Second Class>First Class>Same Day."
      ],
      "metadata": {
        "id": "nNRrLv2bgM3x"
      }
    },
    {
      "cell_type": "code",
      "source": [
        "state_segment = pd.crosstab(data['state'], data['segment'])\n",
        "state_segment.plot.bar()"
      ],
      "metadata": {
        "colab": {
          "base_uri": "https://localhost:8080/",
          "height": 591
        },
        "id": "3wj8_zDXqENj",
        "outputId": "7c72acc0-5641-407c-e9d3-b271e09191a8"
      },
      "execution_count": null,
      "outputs": [
        {
          "output_type": "execute_result",
          "data": {
            "text/plain": [
              "<Axes: xlabel='state'>"
            ]
          },
          "metadata": {},
          "execution_count": 37
        },
        {
          "output_type": "display_data",
          "data": {
            "text/plain": [
              "<Figure size 640x480 with 1 Axes>"
            ],
            "image/png": "[encoded data removed]"
          },
          "metadata": {}
        }
      ]
    },
    {
      "cell_type": "markdown",
      "source": [
        "* Consumer Segment from California followed by New York and Texas places more orders."
      ],
      "metadata": {
        "id": "QD0OS51xgrSh"
      }
    },
    {
      "cell_type": "markdown",
      "source": [
        "**Numerical Data Vs. Categorical Data"
      ],
      "metadata": {
        "id": "6HrwIFFErFxi"
      }
    },
    {
      "cell_type": "code",
      "source": [
        "category_sales = data.groupby(['category'])['sales'].mean()\n",
        "category_sales.plot.bar()"
      ],
      "metadata": {
        "colab": {
          "base_uri": "https://localhost:8080/",
          "height": 557
        },
        "id": "XPKX8WBSrEkP",
        "outputId": "7f488838-9492-45b0-ee1d-4eda75be18dc"
      },
      "execution_count": null,
      "outputs": [
        {
          "output_type": "execute_result",
          "data": {
            "text/plain": [
              "<Axes: xlabel='category'>"
            ]
          },
          "metadata": {},
          "execution_count": 38
        },
        {
          "output_type": "display_data",
          "data": {
            "text/plain": [
              "<Figure size 640x480 with 1 Axes>"
            ],
            "image/png": "[encoded data removed]"
          },
          "metadata": {}
        }
      ]
    },
    {
      "cell_type": "markdown",
      "source": [
        "* The sales of Technology category is more than Furniture and Office supplies."
      ],
      "metadata": {
        "id": "md83M_mug75T"
      }
    },
    {
      "cell_type": "code",
      "source": [
        "sub_category_sales = data.groupby(['sub-category'])['sales'].mean()\n",
        "sub_category_sales.plot.bar()"
      ],
      "metadata": {
        "colab": {
          "base_uri": "https://localhost:8080/",
          "height": 534
        },
        "id": "_i0v15UYrzg7",
        "outputId": "6ac944c3-643c-4c6e-d991-c18262d554ad"
      },
      "execution_count": null,
      "outputs": [
        {
          "output_type": "execute_result",
          "data": {
            "text/plain": [
              "<Axes: xlabel='sub-category'>"
            ]
          },
          "metadata": {},
          "execution_count": 39
        },
        {
          "output_type": "display_data",
          "data": {
            "text/plain": [
              "<Figure size 640x480 with 1 Axes>"
            ],
            "image/png": "[encoded data removed]"
          },
          "metadata": {}
        }
      ]
    },
    {
      "cell_type": "markdown",
      "source": [
        "* Among all the sub-category Copiers followed by Machines and Tables sales are high."
      ],
      "metadata": {
        "id": "lRLPRi79hOe5"
      }
    },
    {
      "cell_type": "code",
      "source": [
        "region_sales = data.groupby(['region'])['sales'].mean()\n",
        "region_sales.plot.bar()"
      ],
      "metadata": {
        "colab": {
          "base_uri": "https://localhost:8080/",
          "height": 506
        },
        "id": "1UlOYABM4PzG",
        "outputId": "8b714aac-caf3-4a69-a697-17b3e34a56bb"
      },
      "execution_count": null,
      "outputs": [
        {
          "output_type": "execute_result",
          "data": {
            "text/plain": [
              "<Axes: xlabel='region'>"
            ]
          },
          "metadata": {},
          "execution_count": 40
        },
        {
          "output_type": "display_data",
          "data": {
            "text/plain": [
              "<Figure size 640x480 with 1 Axes>"
            ],
            "image/png": "[encoded data removed]"
          },
          "metadata": {}
        }
      ]
    },
    {
      "cell_type": "markdown",
      "source": [
        "* The sales of east is high then others."
      ],
      "metadata": {
        "id": "0PN9uG3ciEhu"
      }
    },
    {
      "cell_type": "code",
      "source": [
        "state_sales = data.groupby(['state'])['sales'].mean()\n",
        "state_sales.plot.bar()"
      ],
      "metadata": {
        "colab": {
          "base_uri": "https://localhost:8080/",
          "height": 591
        },
        "id": "USI3ZZJ24fAd",
        "outputId": "0984d1c2-691b-43df-be02-3a581dcddaef"
      },
      "execution_count": null,
      "outputs": [
        {
          "output_type": "execute_result",
          "data": {
            "text/plain": [
              "<Axes: xlabel='state'>"
            ]
          },
          "metadata": {},
          "execution_count": 41
        },
        {
          "output_type": "display_data",
          "data": {
            "text/plain": [
              "<Figure size 640x480 with 1 Axes>"
            ],
            "image/png": "[encoded data removed]"
          },
          "metadata": {}
        }
      ]
    },
    {
      "cell_type": "markdown",
      "source": [
        "* Sales of Wyoming sate is high."
      ],
      "metadata": {
        "id": "RyKI7Ii6iRCl"
      }
    },
    {
      "cell_type": "code",
      "source": [
        "product_sales = data.groupby(['product name'])['sales'].mean()\n",
        "product_sales.sort = product_sales.sort_values(ascending=False)\n",
        "product_sales.sort.head()"
      ],
      "metadata": {
        "colab": {
          "base_uri": "https://localhost:8080/"
        },
        "id": "1YMWYGAxsF1V",
        "outputId": "42d4aac7-5e2c-4633-fdd1-ec1800d8b5fb"
      },
      "execution_count": null,
      "outputs": [
        {
          "output_type": "execute_result",
          "data": {
            "text/plain": [
              "product name\n",
              "Canon imageCLASS 2200 Advanced Copier                        11024.968500\n",
              "Cubify CubeX 3D Printer Triple Head Print                     7999.980000\n",
              "3D Systems Cube Printer, 2nd Generation, Magenta              7149.945000\n",
              "HP Designjet T520 Inkjet Large Format Printer - 24\" Color     6124.965000\n",
              "High Speed Automatic Electric Letter Opener                   5676.770667\n",
              "Name: sales, dtype: float64"
            ]
          },
          "metadata": {},
          "execution_count": 42
        }
      ]
    },
    {
      "cell_type": "markdown",
      "source": [
        "* The sales of Canon imageCLASS 2200 Advanced Copier product is high compare to other."
      ],
      "metadata": {
        "id": "L8V5NxpFic8t"
      }
    },
    {
      "cell_type": "code",
      "source": [
        "customer_sales = data.groupby(['customer name'])['sales'].mean()\n",
        "customer_sales.sort = customer_sales.sort_values(ascending=False)\n",
        "customer_sales.sort.head()"
      ],
      "metadata": {
        "colab": {
          "base_uri": "https://localhost:8080/"
        },
        "id": "mHRVyVY7sFfi",
        "outputId": "80660385-3abe-4ecb-c2ea-66032a4b41c0"
      },
      "execution_count": null,
      "outputs": [
        {
          "output_type": "execute_result",
          "data": {
            "text/plain": [
              "customer name\n",
              "Mitch Willingham    1751.292000\n",
              "Grant Thornton      1558.535333\n",
              "Tom Ashbrook        1459.562000\n",
              "Hunter Lopez        1170.299818\n",
              "Bill Shonely        1166.850333\n",
              "Name: sales, dtype: float64"
            ]
          },
          "metadata": {},
          "execution_count": 43
        }
      ]
    },
    {
      "cell_type": "code",
      "source": [
        "data[data['customer name']=='Mitch Willingham']"
      ],
      "metadata": {
        "colab": {
          "base_uri": "https://localhost:8080/",
          "height": 317
        },
        "id": "hGWUN-cJkm-X",
        "outputId": "6c0081e8-8783-45cc-9908-cd6d76aa3446"
      },
      "execution_count": null,
      "outputs": [
        {
          "output_type": "execute_result",
          "data": {
            "text/plain": [
              "      row id        order id order date  ship date       ship mode  \\\n",
              "994      995  CA-2015-117639 2015-05-21 2015-05-25  Standard Class   \n",
              "995      996  CA-2015-117639 2015-05-21 2015-05-25  Standard Class   \n",
              "3298    3299  CA-2018-136308 2018-11-16 2018-11-16        Same Day   \n",
              "\n",
              "     customer id     customer name    segment        country            city  \\\n",
              "994     MW-18235  Mitch Willingham  Corporate  United States  Virginia Beach   \n",
              "995     MW-18235  Mitch Willingham  Corporate  United States  Virginia Beach   \n",
              "3298    MW-18235  Mitch Willingham  Corporate  United States   San Francisco   \n",
              "\n",
              "           state  postal code region       product id         category  \\\n",
              "994     Virginia        23464  South  OFF-BI-10003925  Office Supplies   \n",
              "995     Virginia        23464  South  TEC-PH-10001530       Technology   \n",
              "3298  California        94122   West  TEC-MA-10000488       Technology   \n",
              "\n",
              "     sub-category                                 product name     sales  \n",
              "994       Binders  Fellowes PB300 Plastic Comb Binding Machine  2715.930  \n",
              "995        Phones               Plantronics Voyager Pro Legend   617.970  \n",
              "3298     Machines                  Bady BDG101FRU Card Printer  1919.976  "
            ],
            "text/html": [
              "\n",
              "  <div id=\"df-79a62159-372c-4b2b-9c4f-a10c3a94df9d\" class=\"colab-df-container\">\n",
              "    <div>\n",
              "<style scoped>\n",
              "    .dataframe tbody tr th:only-of-type {\n",
              "        vertical-align: middle;\n",
              "    }\n",
              "\n",
              "    .dataframe tbody tr th {\n",
              "        vertical-align: top;\n",
              "    }\n",
              "\n",
              "    .dataframe thead th {\n",
              "        text-align: right;\n",
              "    }\n",
              "</style>\n",
              "<table border=\"1\" class=\"dataframe\">\n",
              "  <thead>\n",
              "    <tr style=\"text-align: right;\">\n",
              "      <th></th>\n",
              "      <th>row id</th>\n",
              "      <th>order id</th>\n",
              "      <th>order date</th>\n",
              "      <th>ship date</th>\n",
              "      <th>ship mode</th>\n",
              "      <th>customer id</th>\n",
              "      <th>customer name</th>\n",
              "      <th>segment</th>\n",
              "      <th>country</th>\n",
              "      <th>city</th>\n",
              "      <th>state</th>\n",
              "      <th>postal code</th>\n",
              "      <th>region</th>\n",
              "      <th>product id</th>\n",
              "      <th>category</th>\n",
              "      <th>sub-category</th>\n",
              "      <th>product name</th>\n",
              "      <th>sales</th>\n",
              "    </tr>\n",
              "  </thead>\n",
              "  <tbody>\n",
              "    <tr>\n",
              "      <th>994</th>\n",
              "      <td>995</td>\n",
              "      <td>CA-2015-117639</td>\n",
              "      <td>2015-05-21</td>\n",
              "      <td>2015-05-25</td>\n",
              "      <td>Standard Class</td>\n",
              "      <td>MW-18235</td>\n",
              "      <td>Mitch Willingham</td>\n",
              "      <td>Corporate</td>\n",
              "      <td>United States</td>\n",
              "      <td>Virginia Beach</td>\n",
              "      <td>Virginia</td>\n",
              "      <td>23464</td>\n",
              "      <td>South</td>\n",
              "      <td>OFF-BI-10003925</td>\n",
              "      <td>Office Supplies</td>\n",
              "      <td>Binders</td>\n",
              "      <td>Fellowes PB300 Plastic Comb Binding Machine</td>\n",
              "      <td>2715.930</td>\n",
              "    </tr>\n",
              "    <tr>\n",
              "      <th>995</th>\n",
              "      <td>996</td>\n",
              "      <td>CA-2015-117639</td>\n",
              "      <td>2015-05-21</td>\n",
              "      <td>2015-05-25</td>\n",
              "      <td>Standard Class</td>\n",
              "      <td>MW-18235</td>\n",
              "      <td>Mitch Willingham</td>\n",
              "      <td>Corporate</td>\n",
              "      <td>United States</td>\n",
              "      <td>Virginia Beach</td>\n",
              "      <td>Virginia</td>\n",
              "      <td>23464</td>\n",
              "      <td>South</td>\n",
              "      <td>TEC-PH-10001530</td>\n",
              "      <td>Technology</td>\n",
              "      <td>Phones</td>\n",
              "      <td>Plantronics Voyager Pro Legend</td>\n",
              "      <td>617.970</td>\n",
              "    </tr>\n",
              "    <tr>\n",
              "      <th>3298</th>\n",
              "      <td>3299</td>\n",
              "      <td>CA-2018-136308</td>\n",
              "      <td>2018-11-16</td>\n",
              "      <td>2018-11-16</td>\n",
              "      <td>Same Day</td>\n",
              "      <td>MW-18235</td>\n",
              "      <td>Mitch Willingham</td>\n",
              "      <td>Corporate</td>\n",
              "      <td>United States</td>\n",
              "      <td>San Francisco</td>\n",
              "      <td>California</td>\n",
              "      <td>94122</td>\n",
              "      <td>West</td>\n",
              "      <td>TEC-MA-10000488</td>\n",
              "      <td>Technology</td>\n",
              "      <td>Machines</td>\n",
              "      <td>Bady BDG101FRU Card Printer</td>\n",
              "      <td>1919.976</td>\n",
              "    </tr>\n",
              "  </tbody>\n",
              "</table>\n",
              "</div>\n",
              "    <div class=\"colab-df-buttons\">\n",
              "\n",
              "  <div class=\"colab-df-container\">\n",
              "    <button class=\"colab-df-convert\" onclick=\"convertToInteractive('df-79a62159-372c-4b2b-9c4f-a10c3a94df9d')\"\n",
              "            title=\"Convert this dataframe to an interactive table.\"\n",
              "            style=\"display:none;\">\n",
              "\n",
              "  <svg xmlns=\"http://www.w3.org/2000/svg\" height=\"24px\" viewBox=\"0 -960 960 960\">\n",
              "    <path d=\"M120-120v-720h720v720H120Zm60-500h600v-160H180v160Zm220 220h160v-160H400v160Zm0 220h160v-160H400v160ZM180-400h160v-160H180v160Zm440 0h160v-160H620v160ZM180-180h160v-160H180v160Zm440 0h160v-160H620v160Z\"/>\n",
              "  </svg>\n",
              "    </button>\n",
              "\n",
              "  <style>\n",
              "    .colab-df-container {\n",
              "      display:flex;\n",
              "      gap: 12px;\n",
              "    }\n",
              "\n",
              "    .colab-df-convert {\n",
              "      background-color: #E8F0FE;\n",
              "      border: none;\n",
              "      border-radius: 50%;\n",
              "      cursor: pointer;\n",
              "      display: none;\n",
              "      fill: #1967D2;\n",
              "      height: 32px;\n",
              "      padding: 0 0 0 0;\n",
              "      width: 32px;\n",
              "    }\n",
              "\n",
              "    .colab-df-convert:hover {\n",
              "      background-color: #E2EBFA;\n",
              "      box-shadow: 0px 1px 2px rgba(60, 64, 67, 0.3), 0px 1px 3px 1px rgba(60, 64, 67, 0.15);\n",
              "      fill: #174EA6;\n",
              "    }\n",
              "\n",
              "    .colab-df-buttons div {\n",
              "      margin-bottom: 4px;\n",
              "    }\n",
              "\n",
              "    [theme=dark] .colab-df-convert {\n",
              "      background-color: #3B4455;\n",
              "      fill: #D2E3FC;\n",
              "    }\n",
              "\n",
              "    [theme=dark] .colab-df-convert:hover {\n",
              "      background-color: #434B5C;\n",
              "      box-shadow: 0px 1px 3px 1px rgba(0, 0, 0, 0.15);\n",
              "      filter: drop-shadow(0px 1px 2px rgba(0, 0, 0, 0.3));\n",
              "      fill: #FFFFFF;\n",
              "    }\n",
              "  </style>\n",
              "\n",
              "    <script>\n",
              "      const buttonEl =\n",
              "        document.querySelector('#df-79a62159-372c-4b2b-9c4f-a10c3a94df9d button.colab-df-convert');\n",
              "      buttonEl.style.display =\n",
              "        google.colab.kernel.accessAllowed ? 'block' : 'none';\n",
              "\n",
              "      async function convertToInteractive(key) {\n",
              "        const element = document.querySelector('#df-79a62159-372c-4b2b-9c4f-a10c3a94df9d');\n",
              "        const dataTable =\n",
              "          await google.colab.kernel.invokeFunction('convertToInteractive',\n",
              "                                                    [key], {});\n",
              "        if (!dataTable) return;\n",
              "\n",
              "        const docLinkHtml = 'Like what you see? Visit the ' +\n",
              "          '<a target=\"_blank\" href=https://colab.research.google.com/notebooks/data_table.ipynb>data table notebook</a>'\n",
              "          + ' to learn more about interactive tables.';\n",
              "        element.innerHTML = '';\n",
              "        dataTable['output_type'] = 'display_data';\n",
              "        await google.colab.output.renderOutput(dataTable, element);\n",
              "        const docLink = document.createElement('div');\n",
              "        docLink.innerHTML = docLinkHtml;\n",
              "        element.appendChild(docLink);\n",
              "      }\n",
              "    </script>\n",
              "  </div>\n",
              "\n",
              "\n",
              "<div id=\"df-5f222fa0-d87e-4e5d-9aef-4fd7e911a9a0\">\n",
              "  <button class=\"colab-df-quickchart\" onclick=\"quickchart('df-5f222fa0-d87e-4e5d-9aef-4fd7e911a9a0')\"\n",
              "            title=\"Suggest charts\"\n",
              "            style=\"display:none;\">\n",
              "\n",
              "<svg xmlns=\"http://www.w3.org/2000/svg\" height=\"24px\"viewBox=\"0 0 24 24\"\n",
              "     width=\"24px\">\n",
              "    <g>\n",
              "        <path d=\"M19 3H5c-1.1 0-2 .9-2 2v14c0 1.1.9 2 2 2h14c1.1 0 2-.9 2-2V5c0-1.1-.9-2-2-2zM9 17H7v-7h2v7zm4 0h-2V7h2v10zm4 0h-2v-4h2v4z\"/>\n",
              "    </g>\n",
              "</svg>\n",
              "  </button>\n",
              "\n",
              "<style>\n",
              "  .colab-df-quickchart {\n",
              "      --bg-color: #E8F0FE;\n",
              "      --fill-color: #1967D2;\n",
              "      --hover-bg-color: #E2EBFA;\n",
              "      --hover-fill-color: #174EA6;\n",
              "      --disabled-fill-color: #AAA;\n",
              "      --disabled-bg-color: #DDD;\n",
              "  }\n",
              "\n",
              "  [theme=dark] .colab-df-quickchart {\n",
              "      --bg-color: #3B4455;\n",
              "      --fill-color: #D2E3FC;\n",
              "      --hover-bg-color: #434B5C;\n",
              "      --hover-fill-color: #FFFFFF;\n",
              "      --disabled-bg-color: #3B4455;\n",
              "      --disabled-fill-color: #666;\n",
              "  }\n",
              "\n",
              "  .colab-df-quickchart {\n",
              "    background-color: var(--bg-color);\n",
              "    border: none;\n",
              "    border-radius: 50%;\n",
              "    cursor: pointer;\n",
              "    display: none;\n",
              "    fill: var(--fill-color);\n",
              "    height: 32px;\n",
              "    padding: 0;\n",
              "    width: 32px;\n",
              "  }\n",
              "\n",
              "  .colab-df-quickchart:hover {\n",
              "    background-color: var(--hover-bg-color);\n",
              "    box-shadow: 0 1px 2px rgba(60, 64, 67, 0.3), 0 1px 3px 1px rgba(60, 64, 67, 0.15);\n",
              "    fill: var(--button-hover-fill-color);\n",
              "  }\n",
              "\n",
              "  .colab-df-quickchart-complete:disabled,\n",
              "  .colab-df-quickchart-complete:disabled:hover {\n",
              "    background-color: var(--disabled-bg-color);\n",
              "    fill: var(--disabled-fill-color);\n",
              "    box-shadow: none;\n",
              "  }\n",
              "\n",
              "  .colab-df-spinner {\n",
              "    border: 2px solid var(--fill-color);\n",
              "    border-color: transparent;\n",
              "    border-bottom-color: var(--fill-color);\n",
              "    animation:\n",
              "      spin 1s steps(1) infinite;\n",
              "  }\n",
              "\n",
              "  @keyframes spin {\n",
              "    0% {\n",
              "      border-color: transparent;\n",
              "      border-bottom-color: var(--fill-color);\n",
              "      border-left-color: var(--fill-color);\n",
              "    }\n",
              "    20% {\n",
              "      border-color: transparent;\n",
              "      border-left-color: var(--fill-color);\n",
              "      border-top-color: var(--fill-color);\n",
              "    }\n",
              "    30% {\n",
              "      border-color: transparent;\n",
              "      border-left-color: var(--fill-color);\n",
              "      border-top-color: var(--fill-color);\n",
              "      border-right-color: var(--fill-color);\n",
              "    }\n",
              "    40% {\n",
              "      border-color: transparent;\n",
              "      border-right-color: var(--fill-color);\n",
              "      border-top-color: var(--fill-color);\n",
              "    }\n",
              "    60% {\n",
              "      border-color: transparent;\n",
              "      border-right-color: var(--fill-color);\n",
              "    }\n",
              "    80% {\n",
              "      border-color: transparent;\n",
              "      border-right-color: var(--fill-color);\n",
              "      border-bottom-color: var(--fill-color);\n",
              "    }\n",
              "    90% {\n",
              "      border-color: transparent;\n",
              "      border-bottom-color: var(--fill-color);\n",
              "    }\n",
              "  }\n",
              "</style>\n",
              "\n",
              "  <script>\n",
              "    async function quickchart(key) {\n",
              "      const quickchartButtonEl =\n",
              "        document.querySelector('#' + key + ' button');\n",
              "      quickchartButtonEl.disabled = true;  // To prevent multiple clicks.\n",
              "      quickchartButtonEl.classList.add('colab-df-spinner');\n",
              "      try {\n",
              "        const charts = await google.colab.kernel.invokeFunction(\n",
              "            'suggestCharts', [key], {});\n",
              "      } catch (error) {\n",
              "        console.error('Error during call to suggestCharts:', error);\n",
              "      }\n",
              "      quickchartButtonEl.classList.remove('colab-df-spinner');\n",
              "      quickchartButtonEl.classList.add('colab-df-quickchart-complete');\n",
              "    }\n",
              "    (() => {\n",
              "      let quickchartButtonEl =\n",
              "        document.querySelector('#df-5f222fa0-d87e-4e5d-9aef-4fd7e911a9a0 button');\n",
              "      quickchartButtonEl.style.display =\n",
              "        google.colab.kernel.accessAllowed ? 'block' : 'none';\n",
              "    })();\n",
              "  </script>\n",
              "</div>\n",
              "\n",
              "    </div>\n",
              "  </div>\n"
            ],
            "application/vnd.google.colaboratory.intrinsic+json": {
              "type": "dataframe",
              "summary": "{\n  \"name\": \"data[data['customer name']=='Mitch Willingham']\",\n  \"rows\": 3,\n  \"fields\": [\n    {\n      \"column\": \"row id\",\n      \"properties\": {\n        \"dtype\": \"number\",\n        \"std\": 1329,\n        \"min\": 995,\n        \"max\": 3299,\n        \"num_unique_values\": 3,\n        \"samples\": [\n          995,\n          996,\n          3299\n        ],\n        \"semantic_type\": \"\",\n        \"description\": \"\"\n      }\n    },\n    {\n      \"column\": \"order id\",\n      \"properties\": {\n        \"dtype\": \"string\",\n        \"num_unique_values\": 2,\n        \"samples\": [\n          \"CA-2018-136308\",\n          \"CA-2015-117639\"\n        ],\n        \"semantic_type\": \"\",\n        \"description\": \"\"\n      }\n    },\n    {\n      \"column\": \"order date\",\n      \"properties\": {\n        \"dtype\": \"date\",\n        \"min\": \"2015-05-21 00:00:00\",\n        \"max\": \"2018-11-16 00:00:00\",\n        \"num_unique_values\": 2,\n        \"samples\": [\n          \"2018-11-16 00:00:00\",\n          \"2015-05-21 00:00:00\"\n        ],\n        \"semantic_type\": \"\",\n        \"description\": \"\"\n      }\n    },\n    {\n      \"column\": \"ship date\",\n      \"properties\": {\n        \"dtype\": \"date\",\n        \"min\": \"2015-05-25 00:00:00\",\n        \"max\": \"2018-11-16 00:00:00\",\n        \"num_unique_values\": 2,\n        \"samples\": [\n          \"2018-11-16 00:00:00\",\n          \"2015-05-25 00:00:00\"\n        ],\n        \"semantic_type\": \"\",\n        \"description\": \"\"\n      }\n    },\n    {\n      \"column\": \"ship mode\",\n      \"properties\": {\n        \"dtype\": \"string\",\n        \"num_unique_values\": 2,\n        \"samples\": [\n          \"Same Day\",\n          \"Standard Class\"\n        ],\n        \"semantic_type\": \"\",\n        \"description\": \"\"\n      }\n    },\n    {\n      \"column\": \"customer id\",\n      \"properties\": {\n        \"dtype\": \"category\",\n        \"num_unique_values\": 1,\n        \"samples\": [\n          \"MW-18235\"\n        ],\n        \"semantic_type\": \"\",\n        \"description\": \"\"\n      }\n    },\n    {\n      \"column\": \"customer name\",\n      \"properties\": {\n        \"dtype\": \"category\",\n        \"num_unique_values\": 1,\n        \"samples\": [\n          \"Mitch Willingham\"\n        ],\n        \"semantic_type\": \"\",\n        \"description\": \"\"\n      }\n    },\n    {\n      \"column\": \"segment\",\n      \"properties\": {\n        \"dtype\": \"category\",\n        \"num_unique_values\": 1,\n        \"samples\": [\n          \"Corporate\"\n        ],\n        \"semantic_type\": \"\",\n        \"description\": \"\"\n      }\n    },\n    {\n      \"column\": \"country\",\n      \"properties\": {\n        \"dtype\": \"category\",\n        \"num_unique_values\": 1,\n        \"samples\": [\n          \"United States\"\n        ],\n        \"semantic_type\": \"\",\n        \"description\": \"\"\n      }\n    },\n    {\n      \"column\": \"city\",\n      \"properties\": {\n        \"dtype\": \"string\",\n        \"num_unique_values\": 2,\n        \"samples\": [\n          \"San Francisco\"\n        ],\n        \"semantic_type\": \"\",\n        \"description\": \"\"\n      }\n    },\n    {\n      \"column\": \"state\",\n      \"properties\": {\n        \"dtype\": \"string\",\n        \"num_unique_values\": 2,\n        \"samples\": [\n          \"California\"\n        ],\n        \"semantic_type\": \"\",\n        \"description\": \"\"\n      }\n    },\n    {\n      \"column\": \"postal code\",\n      \"properties\": {\n        \"dtype\": \"number\",\n        \"std\": 40794,\n        \"min\": 23464,\n        \"max\": 94122,\n        \"num_unique_values\": 2,\n        \"samples\": [\n          94122\n        ],\n        \"semantic_type\": \"\",\n        \"description\": \"\"\n      }\n    },\n    {\n      \"column\": \"region\",\n      \"properties\": {\n        \"dtype\": \"string\",\n        \"num_unique_values\": 2,\n        \"samples\": [\n          \"West\"\n        ],\n        \"semantic_type\": \"\",\n        \"description\": \"\"\n      }\n    },\n    {\n      \"column\": \"product id\",\n      \"properties\": {\n        \"dtype\": \"string\",\n        \"num_unique_values\": 3,\n        \"samples\": [\n          \"OFF-BI-10003925\"\n        ],\n        \"semantic_type\": \"\",\n        \"description\": \"\"\n      }\n    },\n    {\n      \"column\": \"category\",\n      \"properties\": {\n        \"dtype\": \"string\",\n        \"num_unique_values\": 2,\n        \"samples\": [\n          \"Technology\"\n        ],\n        \"semantic_type\": \"\",\n        \"description\": \"\"\n      }\n    },\n    {\n      \"column\": \"sub-category\",\n      \"properties\": {\n        \"dtype\": \"string\",\n        \"num_unique_values\": 3,\n        \"samples\": [\n          \"Binders\"\n        ],\n        \"semantic_type\": \"\",\n        \"description\": \"\"\n      }\n    },\n    {\n      \"column\": \"product name\",\n      \"properties\": {\n        \"dtype\": \"string\",\n        \"num_unique_values\": 3,\n        \"samples\": [\n          \"Fellowes PB300 Plastic Comb Binding Machine\"\n        ],\n        \"semantic_type\": \"\",\n        \"description\": \"\"\n      }\n    },\n    {\n      \"column\": \"sales\",\n      \"properties\": {\n        \"dtype\": \"number\",\n        \"std\": 1059.1032807483887,\n        \"min\": 617.97,\n        \"max\": 2715.93,\n        \"num_unique_values\": 3,\n        \"samples\": [\n          2715.93\n        ],\n        \"semantic_type\": \"\",\n        \"description\": \"\"\n      }\n    }\n  ]\n}"
            }
          },
          "metadata": {},
          "execution_count": 44
        }
      ]
    },
    {
      "cell_type": "markdown",
      "source": [
        "* Mitch Willingham is the high sale giving customer from corporate segment."
      ],
      "metadata": {
        "id": "5T4vP50_ltHW"
      }
    },
    {
      "cell_type": "code",
      "source": [
        "order_sales = data.groupby(['order date'])['sales'].mean()\n",
        "order_sales.sort = order_sales.sort_values(ascending=False)\n",
        "order_sales.sort.head()"
      ],
      "metadata": {
        "colab": {
          "base_uri": "https://localhost:8080/"
        },
        "id": "GsfL_ddQ7jaA",
        "outputId": "3f54417d-dde3-4f91-f3c7-66902a598eb2"
      },
      "execution_count": null,
      "outputs": [
        {
          "output_type": "execute_result",
          "data": {
            "text/plain": [
              "order date\n",
              "2016-01-28    4297.6440\n",
              "2018-07-24    2399.9600\n",
              "2018-03-23    1852.0085\n",
              "2015-05-08    1799.9700\n",
              "2017-02-02    1799.3568\n",
              "Name: sales, dtype: float64"
            ]
          },
          "metadata": {},
          "execution_count": 45
        }
      ]
    },
    {
      "cell_type": "code",
      "source": [
        "data['year'] = pd.to_datetime(data['order date']).dt.year\n",
        "data['month'] = pd.to_datetime(data['order date']).dt.month"
      ],
      "metadata": {
        "id": "ZFFAxCS3ESI6"
      },
      "execution_count": null,
      "outputs": []
    },
    {
      "cell_type": "code",
      "source": [
        "order_sales_year = data.groupby(['year'])['sales'].mean()\n",
        "order_sales_year_sort = order_sales.sort_values(ascending=False)\n",
        "order_sales_year.plot.bar()"
      ],
      "metadata": {
        "colab": {
          "base_uri": "https://localhost:8080/",
          "height": 489
        },
        "id": "uoKHHwJG9ic7",
        "outputId": "aea444fc-6c3d-4636-a574-086b2694bf6d"
      },
      "execution_count": null,
      "outputs": [
        {
          "output_type": "execute_result",
          "data": {
            "text/plain": [
              "<Axes: xlabel='year'>"
            ]
          },
          "metadata": {},
          "execution_count": 51
        },
        {
          "output_type": "display_data",
          "data": {
            "text/plain": [
              "<Figure size 640x480 with 1 Axes>"
            ],
            "image/png": "[encoded data removed]"
          },
          "metadata": {}
        }
      ]
    },
    {
      "cell_type": "markdown",
      "source": [
        "* From 2015 to 2018 the sales are almost same."
      ],
      "metadata": {
        "id": "oPtibIDVULz2"
      }
    },
    {
      "cell_type": "code",
      "source": [
        "order_sales_month = data.groupby(['month'])['sales'].mean()\n",
        "order_sales_month_sort = order_sales.sort_values(ascending=False)\n",
        "order_sales_month.plot.bar()"
      ],
      "metadata": {
        "colab": {
          "base_uri": "https://localhost:8080/",
          "height": 471
        },
        "id": "yfOdo6rMTtgx",
        "outputId": "34edf521-5809-4375-87ec-03cefccc4cdb"
      },
      "execution_count": null,
      "outputs": [
        {
          "output_type": "execute_result",
          "data": {
            "text/plain": [
              "<Axes: xlabel='month'>"
            ]
          },
          "metadata": {},
          "execution_count": 52
        },
        {
          "output_type": "display_data",
          "data": {
            "text/plain": [
              "<Figure size 640x480 with 1 Axes>"
            ],
            "image/png": "[encoded data removed]"
          },
          "metadata": {}
        }
      ]
    },
    {
      "cell_type": "markdown",
      "source": [
        "* High sales are observed in month of January and March with not much difference with rest of the months."
      ],
      "metadata": {
        "id": "JfBiRTO3UVEM"
      }
    },
    {
      "cell_type": "code",
      "source": [
        "segment_sales = data.groupby(['segment'])['sales'].mean()\n",
        "segment_sales.plot.bar()"
      ],
      "metadata": {
        "colab": {
          "base_uri": "https://localhost:8080/",
          "height": 540
        },
        "id": "bUM8tuUe8yaR",
        "outputId": "c640c71a-d071-483f-8990-910f44b14d23"
      },
      "execution_count": null,
      "outputs": [
        {
          "output_type": "execute_result",
          "data": {
            "text/plain": [
              "<Axes: xlabel='segment'>"
            ]
          },
          "metadata": {},
          "execution_count": 48
        },
        {
          "output_type": "display_data",
          "data": {
            "text/plain": [
              "<Figure size 640x480 with 1 Axes>"
            ],
            "image/png": "[encoded data removed]"
          },
          "metadata": {}
        }
      ]
    },
    {
      "cell_type": "markdown",
      "source": [
        "* Segment wise the sales are almost same."
      ],
      "metadata": {
        "id": "Yy0RAm0Ejw_K"
      }
    },
    {
      "cell_type": "markdown",
      "source": [
        "**Overall Observations**\n",
        "\n",
        "---\n",
        "* Standard class is the most opted ship mode.\n",
        "* Consumer is the highest segment.\n",
        "* New York is the highest ordering city.\n",
        "* California is the highest ordering state.\n",
        "* West is the highest ordering region.\n",
        "* Office supplies is the most ordered category.\n",
        "* Binders followed by papers is the most ordered sub-category.\n",
        "* Staple envelope, staples and easy-staple paper is the most ordered product.\n",
        "\n",
        "\n",
        "---\n",
        "\n",
        "\n",
        "* From the state vs. category graph, it is observed that in California office supplies are orderd more followed by New York and Texas.\n",
        "* From category vs. city crosstab, it is observed that office supplies are ordered more in New York city followed by Los Angeles.\n",
        "* From sub-category vs. state, it is observed that binders are the highest ordered sub-category by California followed by New York.\n",
        "* From sub-category vs. city, it is observed that binders are the highest ordered sub-category by New York followed by Los Angeles.\n",
        "* West region orders more office Supplies.\n",
        "* The ship mode for most of the state goes in direction Standard Class>Second Class>First Class>Same Day.\n",
        "* Consumer Segment from California followed by New York and Texas places more orders.\n",
        "* The sales of Technology category is more than Furniture and Office supplies.\n",
        "* Among all the sub-category Copiers followed by Machines and Tables sales are high.\n",
        "* The sales of east is high then others.\n",
        "* Sales of Wyoming sate is high.\n",
        "* The sales of Canon imageCLASS 2200 Advanced Copier product is high compare to other.\n",
        "* From 2015 to 2018 the sales are almost same.\n",
        "* High sales are observed in month of January and March with not much difference with rest of the months.\n",
        "* Segment wise the sales are almost same.\n",
        "\n",
        "\n",
        "\n"
      ],
      "metadata": {
        "id": "BqSn8DCXOiFf"
      }
    },
    {
      "cell_type": "markdown",
      "source": [
        "**Conclusion**\n",
        "\n",
        "---\n",
        "* California and New York orders more Office Supplies.\n",
        "* The sales of Technology category is more than furniture and office supplies.\n",
        "* Thus, Wyoming state number of orders are less but still gave high sales.\n",
        "* Overall from year 2015 to 2018 sales are same. Also, month or season does not influence the sales much.\n",
        "\n"
      ],
      "metadata": {
        "id": "JPodWtS0Qjqp"
      }
    },
    {
      "cell_type": "markdown",
      "source": [
        "\n",
        "\n",
        "---\n",
        "\n"
      ],
      "metadata": {
        "id": "98bFHtABVhiS"
      }
    }
  ]
}