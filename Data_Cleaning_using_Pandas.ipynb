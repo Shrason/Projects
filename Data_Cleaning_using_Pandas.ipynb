{
  "nbformat": 4,
  "nbformat_minor": 0,
  "metadata": {
    "colab": {
      "provenance": [],
      "authorship_tag": "ABX9TyO1nItAEo952TkMuuOugqp+",
      "include_colab_link": true
    },
    "kernelspec": {
      "name": "python3",
      "display_name": "Python 3"
    },
    "language_info": {
      "name": "python"
    }
  },
  "cells": [
    {
      "cell_type": "markdown",
      "metadata": {
        "id": "view-in-github",
        "colab_type": "text"
      },
      "source": [
        "<a href=\"https://colab.research.google.com/github/Shrason/Projects/blob/main/Data_Cleaning_using_Pandas.ipynb\" target=\"_parent\"><img src=\"https://colab.research.google.com/assets/colab-badge.svg\" alt=\"Open In Colab\"/></a>"
      ]
    },
    {
      "cell_type": "code",
      "execution_count": null,
      "metadata": {
        "id": "5nPEwsy_JyVO"
      },
      "outputs": [],
      "source": [
        "import pandas as pd\n",
        "import numpy as np"
      ]
    },
    {
      "cell_type": "code",
      "source": [
        "df = pd.read_csv('/content/Data-cleaning-for-beginners-using-pandas.csv')\n",
        "df.head()"
      ],
      "metadata": {
        "colab": {
          "base_uri": "https://localhost:8080/",
          "height": 206
        },
        "id": "OFWH0g8eKATL",
        "outputId": "38db5ed5-1331-49c4-991a-328a0ef56e1c"
      },
      "execution_count": null,
      "outputs": [
        {
          "output_type": "execute_result",
          "data": {
            "text/plain": [
              "   Index   Age     Salary  Rating       Location  Established Easy Apply\n",
              "0      0  44.0  $44k-$99k     5.4       India,In         1999       TRUE\n",
              "1      1  66.0  $55k-$66k     3.5    New York,Ny         2002       TRUE\n",
              "2      2   NaN  $77k-$89k    -1.0    New York,Ny           -1         -1\n",
              "3      3  64.0  $44k-$99k     4.4       India In         1988         -1\n",
              "4      4  25.0  $44k-$99k     6.4  Australia Aus         2002         -1"
            ],
            "text/html": [
              "\n",
              "  <div id=\"df-932dd526-eb59-44ff-879a-76cca82354d0\" class=\"colab-df-container\">\n",
              "    <div>\n",
              "<style scoped>\n",
              "    .dataframe tbody tr th:only-of-type {\n",
              "        vertical-align: middle;\n",
              "    }\n",
              "\n",
              "    .dataframe tbody tr th {\n",
              "        vertical-align: top;\n",
              "    }\n",
              "\n",
              "    .dataframe thead th {\n",
              "        text-align: right;\n",
              "    }\n",
              "</style>\n",
              "<table border=\"1\" class=\"dataframe\">\n",
              "  <thead>\n",
              "    <tr style=\"text-align: right;\">\n",
              "      <th></th>\n",
              "      <th>Index</th>\n",
              "      <th>Age</th>\n",
              "      <th>Salary</th>\n",
              "      <th>Rating</th>\n",
              "      <th>Location</th>\n",
              "      <th>Established</th>\n",
              "      <th>Easy Apply</th>\n",
              "    </tr>\n",
              "  </thead>\n",
              "  <tbody>\n",
              "    <tr>\n",
              "      <th>0</th>\n",
              "      <td>0</td>\n",
              "      <td>44.0</td>\n",
              "      <td>$44k-$99k</td>\n",
              "      <td>5.4</td>\n",
              "      <td>India,In</td>\n",
              "      <td>1999</td>\n",
              "      <td>TRUE</td>\n",
              "    </tr>\n",
              "    <tr>\n",
              "      <th>1</th>\n",
              "      <td>1</td>\n",
              "      <td>66.0</td>\n",
              "      <td>$55k-$66k</td>\n",
              "      <td>3.5</td>\n",
              "      <td>New York,Ny</td>\n",
              "      <td>2002</td>\n",
              "      <td>TRUE</td>\n",
              "    </tr>\n",
              "    <tr>\n",
              "      <th>2</th>\n",
              "      <td>2</td>\n",
              "      <td>NaN</td>\n",
              "      <td>$77k-$89k</td>\n",
              "      <td>-1.0</td>\n",
              "      <td>New York,Ny</td>\n",
              "      <td>-1</td>\n",
              "      <td>-1</td>\n",
              "    </tr>\n",
              "    <tr>\n",
              "      <th>3</th>\n",
              "      <td>3</td>\n",
              "      <td>64.0</td>\n",
              "      <td>$44k-$99k</td>\n",
              "      <td>4.4</td>\n",
              "      <td>India In</td>\n",
              "      <td>1988</td>\n",
              "      <td>-1</td>\n",
              "    </tr>\n",
              "    <tr>\n",
              "      <th>4</th>\n",
              "      <td>4</td>\n",
              "      <td>25.0</td>\n",
              "      <td>$44k-$99k</td>\n",
              "      <td>6.4</td>\n",
              "      <td>Australia Aus</td>\n",
              "      <td>2002</td>\n",
              "      <td>-1</td>\n",
              "    </tr>\n",
              "  </tbody>\n",
              "</table>\n",
              "</div>\n",
              "    <div class=\"colab-df-buttons\">\n",
              "\n",
              "  <div class=\"colab-df-container\">\n",
              "    <button class=\"colab-df-convert\" onclick=\"convertToInteractive('df-932dd526-eb59-44ff-879a-76cca82354d0')\"\n",
              "            title=\"Convert this dataframe to an interactive table.\"\n",
              "            style=\"display:none;\">\n",
              "\n",
              "  <svg xmlns=\"http://www.w3.org/2000/svg\" height=\"24px\" viewBox=\"0 -960 960 960\">\n",
              "    <path d=\"M120-120v-720h720v720H120Zm60-500h600v-160H180v160Zm220 220h160v-160H400v160Zm0 220h160v-160H400v160ZM180-400h160v-160H180v160Zm440 0h160v-160H620v160ZM180-180h160v-160H180v160Zm440 0h160v-160H620v160Z\"/>\n",
              "  </svg>\n",
              "    </button>\n",
              "\n",
              "  <style>\n",
              "    .colab-df-container {\n",
              "      display:flex;\n",
              "      gap: 12px;\n",
              "    }\n",
              "\n",
              "    .colab-df-convert {\n",
              "      background-color: #E8F0FE;\n",
              "      border: none;\n",
              "      border-radius: 50%;\n",
              "      cursor: pointer;\n",
              "      display: none;\n",
              "      fill: #1967D2;\n",
              "      height: 32px;\n",
              "      padding: 0 0 0 0;\n",
              "      width: 32px;\n",
              "    }\n",
              "\n",
              "    .colab-df-convert:hover {\n",
              "      background-color: #E2EBFA;\n",
              "      box-shadow: 0px 1px 2px rgba(60, 64, 67, 0.3), 0px 1px 3px 1px rgba(60, 64, 67, 0.15);\n",
              "      fill: #174EA6;\n",
              "    }\n",
              "\n",
              "    .colab-df-buttons div {\n",
              "      margin-bottom: 4px;\n",
              "    }\n",
              "\n",
              "    [theme=dark] .colab-df-convert {\n",
              "      background-color: #3B4455;\n",
              "      fill: #D2E3FC;\n",
              "    }\n",
              "\n",
              "    [theme=dark] .colab-df-convert:hover {\n",
              "      background-color: #434B5C;\n",
              "      box-shadow: 0px 1px 3px 1px rgba(0, 0, 0, 0.15);\n",
              "      filter: drop-shadow(0px 1px 2px rgba(0, 0, 0, 0.3));\n",
              "      fill: #FFFFFF;\n",
              "    }\n",
              "  </style>\n",
              "\n",
              "    <script>\n",
              "      const buttonEl =\n",
              "        document.querySelector('#df-932dd526-eb59-44ff-879a-76cca82354d0 button.colab-df-convert');\n",
              "      buttonEl.style.display =\n",
              "        google.colab.kernel.accessAllowed ? 'block' : 'none';\n",
              "\n",
              "      async function convertToInteractive(key) {\n",
              "        const element = document.querySelector('#df-932dd526-eb59-44ff-879a-76cca82354d0');\n",
              "        const dataTable =\n",
              "          await google.colab.kernel.invokeFunction('convertToInteractive',\n",
              "                                                    [key], {});\n",
              "        if (!dataTable) return;\n",
              "\n",
              "        const docLinkHtml = 'Like what you see? Visit the ' +\n",
              "          '<a target=\"_blank\" href=https://colab.research.google.com/notebooks/data_table.ipynb>data table notebook</a>'\n",
              "          + ' to learn more about interactive tables.';\n",
              "        element.innerHTML = '';\n",
              "        dataTable['output_type'] = 'display_data';\n",
              "        await google.colab.output.renderOutput(dataTable, element);\n",
              "        const docLink = document.createElement('div');\n",
              "        docLink.innerHTML = docLinkHtml;\n",
              "        element.appendChild(docLink);\n",
              "      }\n",
              "    </script>\n",
              "  </div>\n",
              "\n",
              "\n",
              "<div id=\"df-84c6eca9-116d-4583-b382-74f13329f52c\">\n",
              "  <button class=\"colab-df-quickchart\" onclick=\"quickchart('df-84c6eca9-116d-4583-b382-74f13329f52c')\"\n",
              "            title=\"Suggest charts\"\n",
              "            style=\"display:none;\">\n",
              "\n",
              "<svg xmlns=\"http://www.w3.org/2000/svg\" height=\"24px\"viewBox=\"0 0 24 24\"\n",
              "     width=\"24px\">\n",
              "    <g>\n",
              "        <path d=\"M19 3H5c-1.1 0-2 .9-2 2v14c0 1.1.9 2 2 2h14c1.1 0 2-.9 2-2V5c0-1.1-.9-2-2-2zM9 17H7v-7h2v7zm4 0h-2V7h2v10zm4 0h-2v-4h2v4z\"/>\n",
              "    </g>\n",
              "</svg>\n",
              "  </button>\n",
              "\n",
              "<style>\n",
              "  .colab-df-quickchart {\n",
              "      --bg-color: #E8F0FE;\n",
              "      --fill-color: #1967D2;\n",
              "      --hover-bg-color: #E2EBFA;\n",
              "      --hover-fill-color: #174EA6;\n",
              "      --disabled-fill-color: #AAA;\n",
              "      --disabled-bg-color: #DDD;\n",
              "  }\n",
              "\n",
              "  [theme=dark] .colab-df-quickchart {\n",
              "      --bg-color: #3B4455;\n",
              "      --fill-color: #D2E3FC;\n",
              "      --hover-bg-color: #434B5C;\n",
              "      --hover-fill-color: #FFFFFF;\n",
              "      --disabled-bg-color: #3B4455;\n",
              "      --disabled-fill-color: #666;\n",
              "  }\n",
              "\n",
              "  .colab-df-quickchart {\n",
              "    background-color: var(--bg-color);\n",
              "    border: none;\n",
              "    border-radius: 50%;\n",
              "    cursor: pointer;\n",
              "    display: none;\n",
              "    fill: var(--fill-color);\n",
              "    height: 32px;\n",
              "    padding: 0;\n",
              "    width: 32px;\n",
              "  }\n",
              "\n",
              "  .colab-df-quickchart:hover {\n",
              "    background-color: var(--hover-bg-color);\n",
              "    box-shadow: 0 1px 2px rgba(60, 64, 67, 0.3), 0 1px 3px 1px rgba(60, 64, 67, 0.15);\n",
              "    fill: var(--button-hover-fill-color);\n",
              "  }\n",
              "\n",
              "  .colab-df-quickchart-complete:disabled,\n",
              "  .colab-df-quickchart-complete:disabled:hover {\n",
              "    background-color: var(--disabled-bg-color);\n",
              "    fill: var(--disabled-fill-color);\n",
              "    box-shadow: none;\n",
              "  }\n",
              "\n",
              "  .colab-df-spinner {\n",
              "    border: 2px solid var(--fill-color);\n",
              "    border-color: transparent;\n",
              "    border-bottom-color: var(--fill-color);\n",
              "    animation:\n",
              "      spin 1s steps(1) infinite;\n",
              "  }\n",
              "\n",
              "  @keyframes spin {\n",
              "    0% {\n",
              "      border-color: transparent;\n",
              "      border-bottom-color: var(--fill-color);\n",
              "      border-left-color: var(--fill-color);\n",
              "    }\n",
              "    20% {\n",
              "      border-color: transparent;\n",
              "      border-left-color: var(--fill-color);\n",
              "      border-top-color: var(--fill-color);\n",
              "    }\n",
              "    30% {\n",
              "      border-color: transparent;\n",
              "      border-left-color: var(--fill-color);\n",
              "      border-top-color: var(--fill-color);\n",
              "      border-right-color: var(--fill-color);\n",
              "    }\n",
              "    40% {\n",
              "      border-color: transparent;\n",
              "      border-right-color: var(--fill-color);\n",
              "      border-top-color: var(--fill-color);\n",
              "    }\n",
              "    60% {\n",
              "      border-color: transparent;\n",
              "      border-right-color: var(--fill-color);\n",
              "    }\n",
              "    80% {\n",
              "      border-color: transparent;\n",
              "      border-right-color: var(--fill-color);\n",
              "      border-bottom-color: var(--fill-color);\n",
              "    }\n",
              "    90% {\n",
              "      border-color: transparent;\n",
              "      border-bottom-color: var(--fill-color);\n",
              "    }\n",
              "  }\n",
              "</style>\n",
              "\n",
              "  <script>\n",
              "    async function quickchart(key) {\n",
              "      const quickchartButtonEl =\n",
              "        document.querySelector('#' + key + ' button');\n",
              "      quickchartButtonEl.disabled = true;  // To prevent multiple clicks.\n",
              "      quickchartButtonEl.classList.add('colab-df-spinner');\n",
              "      try {\n",
              "        const charts = await google.colab.kernel.invokeFunction(\n",
              "            'suggestCharts', [key], {});\n",
              "      } catch (error) {\n",
              "        console.error('Error during call to suggestCharts:', error);\n",
              "      }\n",
              "      quickchartButtonEl.classList.remove('colab-df-spinner');\n",
              "      quickchartButtonEl.classList.add('colab-df-quickchart-complete');\n",
              "    }\n",
              "    (() => {\n",
              "      let quickchartButtonEl =\n",
              "        document.querySelector('#df-84c6eca9-116d-4583-b382-74f13329f52c button');\n",
              "      quickchartButtonEl.style.display =\n",
              "        google.colab.kernel.accessAllowed ? 'block' : 'none';\n",
              "    })();\n",
              "  </script>\n",
              "</div>\n",
              "\n",
              "    </div>\n",
              "  </div>\n"
            ]
          },
          "metadata": {},
          "execution_count": 193
        }
      ]
    },
    {
      "cell_type": "code",
      "source": [
        "df.columns = df.columns.str.lower().str.replace(' ','_')"
      ],
      "metadata": {
        "id": "9v3Y5CMhaAFu"
      },
      "execution_count": null,
      "outputs": []
    },
    {
      "cell_type": "code",
      "source": [
        "df.info()"
      ],
      "metadata": {
        "colab": {
          "base_uri": "https://localhost:8080/"
        },
        "id": "aqkgCikVOxDU",
        "outputId": "a80a56e6-ca5a-41e0-a668-c6035d0f4872"
      },
      "execution_count": null,
      "outputs": [
        {
          "output_type": "stream",
          "name": "stdout",
          "text": [
            "<class 'pandas.core.frame.DataFrame'>\n",
            "RangeIndex: 29 entries, 0 to 28\n",
            "Data columns (total 7 columns):\n",
            " #   Column       Non-Null Count  Dtype  \n",
            "---  ------       --------------  -----  \n",
            " 0   index        29 non-null     int64  \n",
            " 1   age          22 non-null     float64\n",
            " 2   salary       29 non-null     object \n",
            " 3   rating       28 non-null     float64\n",
            " 4   location     29 non-null     object \n",
            " 5   established  29 non-null     int64  \n",
            " 6   easy_apply   29 non-null     object \n",
            "dtypes: float64(2), int64(2), object(3)\n",
            "memory usage: 1.7+ KB\n"
          ]
        }
      ]
    },
    {
      "cell_type": "markdown",
      "source": [
        "Checking for Missing values"
      ],
      "metadata": {
        "id": "twm2n9aGLoFo"
      }
    },
    {
      "cell_type": "code",
      "source": [
        "df.isnull().sum()"
      ],
      "metadata": {
        "colab": {
          "base_uri": "https://localhost:8080/"
        },
        "id": "oIjqPV8RKgTA",
        "outputId": "321b5b6c-9297-4bd2-bd1c-099dd6e6d158"
      },
      "execution_count": null,
      "outputs": [
        {
          "output_type": "execute_result",
          "data": {
            "text/plain": [
              "index          0\n",
              "age            7\n",
              "salary         0\n",
              "rating         1\n",
              "location       0\n",
              "established    0\n",
              "easy_apply     0\n",
              "dtype: int64"
            ]
          },
          "metadata": {},
          "execution_count": 196
        }
      ]
    },
    {
      "cell_type": "markdown",
      "source": [
        "- As out of 28 rows 7 are nan values in Age column, dropping will lead to 25% data loss.\n",
        "- Using averaging method may not reflect the true underlying pattern or relationship of the data because data has a wide range.\n",
        "- Thus, mode method will help filling null values with more common values."
      ],
      "metadata": {
        "id": "8cTA0VffTB2H"
      }
    },
    {
      "cell_type": "code",
      "source": [
        "df['age'] = df['age'].fillna(df['age'].mode()[0])"
      ],
      "metadata": {
        "id": "tcH3EWD4W1yi"
      },
      "execution_count": null,
      "outputs": []
    },
    {
      "cell_type": "code",
      "source": [
        "df['age']"
      ],
      "metadata": {
        "colab": {
          "base_uri": "https://localhost:8080/"
        },
        "id": "hPEbuzxoynaM",
        "outputId": "6cf4cd14-249c-445f-bf31-bccff0aea367"
      },
      "execution_count": null,
      "outputs": [
        {
          "output_type": "execute_result",
          "data": {
            "text/plain": [
              "0     44.0\n",
              "1     66.0\n",
              "2     44.0\n",
              "3     64.0\n",
              "4     25.0\n",
              "5     44.0\n",
              "6     21.0\n",
              "7     44.0\n",
              "8     35.0\n",
              "9     22.0\n",
              "10    55.0\n",
              "11    44.0\n",
              "12    44.0\n",
              "13    25.0\n",
              "14    66.0\n",
              "15    44.0\n",
              "16    19.0\n",
              "17    44.0\n",
              "18    35.0\n",
              "19    32.0\n",
              "20    44.0\n",
              "21    35.0\n",
              "22    19.0\n",
              "23    44.0\n",
              "24    13.0\n",
              "25    55.0\n",
              "26    44.0\n",
              "27    52.0\n",
              "28    44.0\n",
              "Name: age, dtype: float64"
            ]
          },
          "metadata": {},
          "execution_count": 198
        }
      ]
    },
    {
      "cell_type": "code",
      "source": [
        "df['rating'] = df['rating'].fillna(df['rating'].mode()[0])\n",
        "df['rating']"
      ],
      "metadata": {
        "colab": {
          "base_uri": "https://localhost:8080/"
        },
        "id": "z8GIT1_AtyVv",
        "outputId": "f281803c-fbff-4fb4-a1a7-54f935e689ca"
      },
      "execution_count": null,
      "outputs": [
        {
          "output_type": "execute_result",
          "data": {
            "text/plain": [
              "0     5.4\n",
              "1     3.5\n",
              "2    -1.0\n",
              "3     4.4\n",
              "4     6.4\n",
              "5     1.4\n",
              "6     0.0\n",
              "7    -1.0\n",
              "8     5.4\n",
              "9     7.7\n",
              "10    5.4\n",
              "11    6.7\n",
              "12    0.0\n",
              "13   -1.0\n",
              "14    4.0\n",
              "15    3.0\n",
              "16    4.5\n",
              "17    5.3\n",
              "18    6.7\n",
              "19    3.3\n",
              "20    5.7\n",
              "21    5.0\n",
              "22    7.8\n",
              "23    2.4\n",
              "24   -1.0\n",
              "25    0.0\n",
              "26   -1.0\n",
              "27    5.4\n",
              "28    3.4\n",
              "Name: rating, dtype: float64"
            ]
          },
          "metadata": {},
          "execution_count": 199
        }
      ]
    },
    {
      "cell_type": "code",
      "source": [
        "rating_avg = df['rating'].mean()\n",
        "df['rating'] = df['rating'].replace(-1,rating_avg)\n",
        "df['rating'] = df['rating'].round(2)\n",
        "df['rating']"
      ],
      "metadata": {
        "colab": {
          "base_uri": "https://localhost:8080/"
        },
        "id": "qJQEOQOR7Uve",
        "outputId": "ee5136de-58a7-424f-a701-f78b5cf40fc3"
      },
      "execution_count": null,
      "outputs": [
        {
          "output_type": "execute_result",
          "data": {
            "text/plain": [
              "0     5.40\n",
              "1     3.50\n",
              "2     3.37\n",
              "3     4.40\n",
              "4     6.40\n",
              "5     1.40\n",
              "6     0.00\n",
              "7     3.37\n",
              "8     5.40\n",
              "9     7.70\n",
              "10    5.40\n",
              "11    6.70\n",
              "12    0.00\n",
              "13    3.37\n",
              "14    4.00\n",
              "15    3.00\n",
              "16    4.50\n",
              "17    5.30\n",
              "18    6.70\n",
              "19    3.30\n",
              "20    5.70\n",
              "21    5.00\n",
              "22    7.80\n",
              "23    2.40\n",
              "24    3.37\n",
              "25    0.00\n",
              "26    3.37\n",
              "27    5.40\n",
              "28    3.40\n",
              "Name: rating, dtype: float64"
            ]
          },
          "metadata": {},
          "execution_count": 212
        }
      ]
    },
    {
      "cell_type": "markdown",
      "source": [
        "Salary Column Formating"
      ],
      "metadata": {
        "id": "4stTXL5k53Bi"
      }
    },
    {
      "cell_type": "code",
      "source": [
        "set(df['salary'])"
      ],
      "metadata": {
        "colab": {
          "base_uri": "https://localhost:8080/"
        },
        "id": "z7QLfpa874Wb",
        "outputId": "036071af-47c2-41b2-86d9-ed0664b7b061"
      },
      "execution_count": null,
      "outputs": [
        {
          "output_type": "execute_result",
          "data": {
            "text/plain": [
              "{'$10k-$49k',\n",
              " '$19k-$40k',\n",
              " '$39k-$88k',\n",
              " '$44k-$99k',\n",
              " '$55k-$66k',\n",
              " '$77k-$89k',\n",
              " '$88k-$101k'}"
            ]
          },
          "metadata": {},
          "execution_count": 200
        }
      ]
    },
    {
      "cell_type": "code",
      "source": [
        "df['salary'] = df['salary'].str.replace('$', '').str.replace(r'k', '000')\n",
        "df['salary']"
      ],
      "metadata": {
        "colab": {
          "base_uri": "https://localhost:8080/"
        },
        "id": "85uKgW29-LdG",
        "outputId": "9c459db2-6063-4435-d8b5-265ff1587af9"
      },
      "execution_count": null,
      "outputs": [
        {
          "output_type": "stream",
          "name": "stderr",
          "text": [
            "<ipython-input-201-4f491f03579d>:1: FutureWarning: The default value of regex will change from True to False in a future version. In addition, single character regular expressions will *not* be treated as literal strings when regex=True.\n",
            "  df['salary'] = df['salary'].str.replace('$', '').str.replace(r'k', '000')\n"
          ]
        },
        {
          "output_type": "execute_result",
          "data": {
            "text/plain": [
              "0      44000-99000\n",
              "1      55000-66000\n",
              "2      77000-89000\n",
              "3      44000-99000\n",
              "4      44000-99000\n",
              "5      77000-89000\n",
              "6      44000-99000\n",
              "7      44000-99000\n",
              "8      44000-99000\n",
              "9      44000-99000\n",
              "10     10000-49000\n",
              "11     10000-49000\n",
              "12     44000-99000\n",
              "13     44000-99000\n",
              "14     44000-99000\n",
              "15    88000-101000\n",
              "16     19000-40000\n",
              "17     44000-99000\n",
              "18     44000-99000\n",
              "19     44000-99000\n",
              "20     44000-99000\n",
              "21     44000-99000\n",
              "22     55000-66000\n",
              "23     44000-99000\n",
              "24     44000-99000\n",
              "25     44000-99000\n",
              "26     55000-66000\n",
              "27     44000-99000\n",
              "28     39000-88000\n",
              "Name: salary, dtype: object"
            ]
          },
          "metadata": {},
          "execution_count": 201
        }
      ]
    },
    {
      "cell_type": "markdown",
      "source": [
        "Location Stadardization"
      ],
      "metadata": {
        "id": "sXtOn7U_Aa-6"
      }
    },
    {
      "cell_type": "code",
      "source": [
        "set(df['location'])"
      ],
      "metadata": {
        "colab": {
          "base_uri": "https://localhost:8080/"
        },
        "id": "GQSAw8JXgIfB",
        "outputId": "c7754245-3142-4cde-d955-0c2f04d8e8e5"
      },
      "execution_count": null,
      "outputs": [
        {
          "output_type": "execute_result",
          "data": {
            "text/plain": [
              "{'Australia Aus', 'India In', 'India,In', 'New York,Ny'}"
            ]
          },
          "metadata": {},
          "execution_count": 202
        }
      ]
    },
    {
      "cell_type": "code",
      "source": [
        "replacements = {',': '', ' Aus': '', ' In': '', ' Ny': ''}\n",
        "df['location'] = df['location'].replace(replacements, regex = True)\n",
        "df['location']"
      ],
      "metadata": {
        "colab": {
          "base_uri": "https://localhost:8080/"
        },
        "id": "1sn2p08IiCNr",
        "outputId": "69c34cf5-b891-46d8-fb5f-3df0ad0a8a68"
      },
      "execution_count": null,
      "outputs": [
        {
          "output_type": "execute_result",
          "data": {
            "text/plain": [
              "0        IndiaIn\n",
              "1     New YorkNy\n",
              "2     New YorkNy\n",
              "3          India\n",
              "4      Australia\n",
              "5        IndiaIn\n",
              "6     New YorkNy\n",
              "7      Australia\n",
              "8     New YorkNy\n",
              "9        IndiaIn\n",
              "10       IndiaIn\n",
              "11       IndiaIn\n",
              "12       IndiaIn\n",
              "13     Australia\n",
              "14     Australia\n",
              "15     Australia\n",
              "16       IndiaIn\n",
              "17    New YorkNy\n",
              "18    New YorkNy\n",
              "19    New YorkNy\n",
              "20    New YorkNy\n",
              "21    New YorkNy\n",
              "22    New YorkNy\n",
              "23    New YorkNy\n",
              "24    New YorkNy\n",
              "25     Australia\n",
              "26       IndiaIn\n",
              "27       IndiaIn\n",
              "28     Australia\n",
              "Name: location, dtype: object"
            ]
          },
          "metadata": {},
          "execution_count": 203
        }
      ]
    },
    {
      "cell_type": "code",
      "source": [
        " df['location'] = df['location'].replace('IndiaIn', 'India')\n",
        " df['location'] = df['location'].replace('New YorkNy', 'New York')\n",
        " df['location']\n"
      ],
      "metadata": {
        "colab": {
          "base_uri": "https://localhost:8080/"
        },
        "id": "XHmYxO3RnNKk",
        "outputId": "54854d0b-3900-4a93-b807-e1325d7b0e69"
      },
      "execution_count": null,
      "outputs": [
        {
          "output_type": "execute_result",
          "data": {
            "text/plain": [
              "0         India\n",
              "1      New York\n",
              "2      New York\n",
              "3         India\n",
              "4     Australia\n",
              "5         India\n",
              "6      New York\n",
              "7     Australia\n",
              "8      New York\n",
              "9         India\n",
              "10        India\n",
              "11        India\n",
              "12        India\n",
              "13    Australia\n",
              "14    Australia\n",
              "15    Australia\n",
              "16        India\n",
              "17     New York\n",
              "18     New York\n",
              "19     New York\n",
              "20     New York\n",
              "21     New York\n",
              "22     New York\n",
              "23     New York\n",
              "24     New York\n",
              "25    Australia\n",
              "26        India\n",
              "27        India\n",
              "28    Australia\n",
              "Name: location, dtype: object"
            ]
          },
          "metadata": {},
          "execution_count": 204
        }
      ]
    },
    {
      "cell_type": "markdown",
      "source": [
        "Established Column"
      ],
      "metadata": {
        "id": "TXlm0ECfoRC-"
      }
    },
    {
      "cell_type": "code",
      "source": [
        "(df[\"established\"].value_counts()[-1])"
      ],
      "metadata": {
        "colab": {
          "base_uri": "https://localhost:8080/"
        },
        "id": "_1wqPLt4nxC-",
        "outputId": "850788d2-0715-42e1-dfe3-6725ef04235f"
      },
      "execution_count": null,
      "outputs": [
        {
          "output_type": "execute_result",
          "data": {
            "text/plain": [
              "5"
            ]
          },
          "metadata": {},
          "execution_count": 205
        }
      ]
    },
    {
      "cell_type": "code",
      "source": [
        "df['established'] = df['established'].replace(-1,'Null')\n",
        "df['established']"
      ],
      "metadata": {
        "colab": {
          "base_uri": "https://localhost:8080/"
        },
        "id": "yab9I1z0sqMw",
        "outputId": "ffea25d7-30a1-4797-ec84-1edcec398f90"
      },
      "execution_count": null,
      "outputs": [
        {
          "output_type": "execute_result",
          "data": {
            "text/plain": [
              "0     1999\n",
              "1     2002\n",
              "2     Null\n",
              "3     1988\n",
              "4     2002\n",
              "5     1999\n",
              "6     Null\n",
              "7     Null\n",
              "8     Null\n",
              "9     Null\n",
              "10    2008\n",
              "11    2009\n",
              "12    1999\n",
              "13    2019\n",
              "14    2020\n",
              "15    1999\n",
              "16    1984\n",
              "17    1943\n",
              "18    1954\n",
              "19    1955\n",
              "20    1944\n",
              "21    1946\n",
              "22    1988\n",
              "23    1999\n",
              "24    1987\n",
              "25    1980\n",
              "26    1934\n",
              "27    1935\n",
              "28    1932\n",
              "Name: established, dtype: object"
            ]
          },
          "metadata": {},
          "execution_count": 206
        }
      ]
    },
    {
      "cell_type": "markdown",
      "source": [
        "Easy Apply Indicator"
      ],
      "metadata": {
        "id": "lAevZX98womT"
      }
    },
    {
      "cell_type": "code",
      "source": [
        "df['easy_apply'] = df['easy_apply'].map(lambda x: 'True' if x == 'TRUE' else 'False')\n"
      ],
      "metadata": {
        "id": "m_ck32Rp2faM"
      },
      "execution_count": null,
      "outputs": []
    },
    {
      "cell_type": "code",
      "source": [
        "df['easy_apply']"
      ],
      "metadata": {
        "colab": {
          "base_uri": "https://localhost:8080/"
        },
        "id": "v412xsz4yWf1",
        "outputId": "4a4e1fc8-b129-459f-cc8a-0cc5b50040e2"
      },
      "execution_count": null,
      "outputs": [
        {
          "output_type": "execute_result",
          "data": {
            "text/plain": [
              "0      True\n",
              "1      True\n",
              "2     False\n",
              "3     False\n",
              "4     False\n",
              "5      True\n",
              "6     False\n",
              "7     False\n",
              "8     False\n",
              "9      True\n",
              "10     True\n",
              "11    False\n",
              "12    False\n",
              "13     True\n",
              "14     True\n",
              "15    False\n",
              "16    False\n",
              "17     True\n",
              "18     True\n",
              "19     True\n",
              "20     True\n",
              "21    False\n",
              "22     True\n",
              "23     True\n",
              "24    False\n",
              "25     True\n",
              "26     True\n",
              "27    False\n",
              "28    False\n",
              "Name: easy_apply, dtype: object"
            ]
          },
          "metadata": {},
          "execution_count": 208
        }
      ]
    },
    {
      "cell_type": "markdown",
      "source": [
        "Rating range"
      ],
      "metadata": {
        "id": "FIyySRbX5iFn"
      }
    },
    {
      "cell_type": "code",
      "source": [
        "set(df['rating'])"
      ],
      "metadata": {
        "colab": {
          "base_uri": "https://localhost:8080/"
        },
        "id": "0Z4uKiDL5EZi",
        "outputId": "570f95be-dd70-46ea-8996-31227924d5ff"
      },
      "execution_count": null,
      "outputs": [
        {
          "output_type": "execute_result",
          "data": {
            "text/plain": [
              "{0.0,\n",
              " 1.4,\n",
              " 2.4,\n",
              " 3.0,\n",
              " 3.3,\n",
              " 3.37,\n",
              " 3.4,\n",
              " 3.5,\n",
              " 4.0,\n",
              " 4.4,\n",
              " 4.5,\n",
              " 5.0,\n",
              " 5.3,\n",
              " 5.4,\n",
              " 5.7,\n",
              " 6.4,\n",
              " 6.7,\n",
              " 7.7,\n",
              " 7.8}"
            ]
          },
          "metadata": {},
          "execution_count": 213
        }
      ]
    },
    {
      "cell_type": "code",
      "source": [
        "range = df['rating'].max() - df['rating'].min()\n",
        "print(range)"
      ],
      "metadata": {
        "colab": {
          "base_uri": "https://localhost:8080/"
        },
        "id": "g303lql08zdG",
        "outputId": "d183ced1-0670-44b5-e212-6a6acc5947d6"
      },
      "execution_count": null,
      "outputs": [
        {
          "output_type": "stream",
          "name": "stdout",
          "text": [
            "7.8\n"
          ]
        }
      ]
    },
    {
      "cell_type": "markdown",
      "source": [
        "Age Distribution"
      ],
      "metadata": {
        "id": "afeIyfIj9djC"
      }
    },
    {
      "cell_type": "code",
      "source": [
        "df['age'].describe()"
      ],
      "metadata": {
        "colab": {
          "base_uri": "https://localhost:8080/"
        },
        "id": "tv38VWWn9gnc",
        "outputId": "2133368a-6a63-4359-9626-eb7e614162e0"
      },
      "execution_count": null,
      "outputs": [
        {
          "output_type": "execute_result",
          "data": {
            "text/plain": [
              "count    29.000000\n",
              "mean     40.241379\n",
              "std      14.138739\n",
              "min      13.000000\n",
              "25%      32.000000\n",
              "50%      44.000000\n",
              "75%      44.000000\n",
              "max      66.000000\n",
              "Name: age, dtype: float64"
            ]
          },
          "metadata": {},
          "execution_count": 216
        }
      ]
    },
    {
      "cell_type": "code",
      "source": [
        "\n",
        "import matplotlib.pyplot as plt\n",
        "\n",
        "\n",
        "df['age'].hist()\n",
        "\n",
        "\n",
        "plt.title('Histogram of Age')\n",
        "plt.xlabel('age')\n",
        "plt.ylabel('Frequency')\n",
        "\n",
        "\n",
        "plt.show()\n"
      ],
      "metadata": {
        "colab": {
          "base_uri": "https://localhost:8080/",
          "height": 472
        },
        "id": "TjifyvJK_gtb",
        "outputId": "4743d25f-09aa-4108-ad3a-40e9da090cc8"
      },
      "execution_count": null,
      "outputs": [
        {
          "output_type": "display_data",
          "data": {
            "text/plain": [
              "<Figure size 640x480 with 1 Axes>"
            ],
            "image/png": "[encoded data removed]"
          },
          "metadata": {}
        }
      ]
    },
    {
      "cell_type": "markdown",
      "source": [
        "- Age 40 to 45 highly apply as per the data\n",
        "- The distribution of data dosen't look normal  \n"
      ],
      "metadata": {
        "id": "IJxtQBuC_5IQ"
      }
    },
    {
      "cell_type": "code",
      "source": [],
      "metadata": {
        "id": "1hbm2HNlHVAM"
      },
      "execution_count": null,
      "outputs": []
    }
  ]
}